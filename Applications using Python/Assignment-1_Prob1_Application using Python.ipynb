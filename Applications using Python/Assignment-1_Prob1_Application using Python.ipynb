{
 "cells": [
  {
   "cell_type": "code",
   "execution_count": 2,
   "metadata": {},
   "outputs": [],
   "source": [
    "import pandas as pd\n",
    "import numpy as np"
   ]
  },
  {
   "cell_type": "code",
   "execution_count": null,
   "metadata": {},
   "outputs": [],
   "source": []
  },
  {
   "cell_type": "code",
   "execution_count": 3,
   "metadata": {},
   "outputs": [],
   "source": [
    "attendance_data = pd.read_csv(\"D:\\\\APP\\\\NITW\\\\Applications using Python\\\\Assignment_1\\\\Problem1\\\\SECTION1.csv\", header=None)"
   ]
  },
  {
   "cell_type": "code",
   "execution_count": 4,
   "metadata": {},
   "outputs": [
    {
     "data": {
      "text/html": [
       "<div>\n",
       "<style scoped>\n",
       "    .dataframe tbody tr th:only-of-type {\n",
       "        vertical-align: middle;\n",
       "    }\n",
       "\n",
       "    .dataframe tbody tr th {\n",
       "        vertical-align: top;\n",
       "    }\n",
       "\n",
       "    .dataframe thead th {\n",
       "        text-align: right;\n",
       "    }\n",
       "</style>\n",
       "<table border=\"1\" class=\"dataframe\">\n",
       "  <thead>\n",
       "    <tr style=\"text-align: right;\">\n",
       "      <th></th>\n",
       "      <th>0</th>\n",
       "      <th>1</th>\n",
       "      <th>2</th>\n",
       "      <th>3</th>\n",
       "      <th>4</th>\n",
       "      <th>5</th>\n",
       "      <th>6</th>\n",
       "      <th>7</th>\n",
       "      <th>8</th>\n",
       "      <th>9</th>\n",
       "      <th>10</th>\n",
       "      <th>11</th>\n",
       "    </tr>\n",
       "  </thead>\n",
       "  <tbody>\n",
       "    <tr>\n",
       "      <th>0</th>\n",
       "      <td>5</td>\n",
       "      <td>School of Computing Science &amp; Engineering</td>\n",
       "      <td>B.Tech/B.Tech (Hons) Computer Science Engineering</td>\n",
       "      <td>Sem VI</td>\n",
       "      <td>EMPS3012</td>\n",
       "      <td>16SCSE101002</td>\n",
       "      <td>NISHCHHAL SHARMA</td>\n",
       "      <td>15/03/2019</td>\n",
       "      <td>2G-L48-2G-2G-L48-L48</td>\n",
       "      <td>04:00-04:50</td>\n",
       "      <td>2</td>\n",
       "      <td>1</td>\n",
       "    </tr>\n",
       "    <tr>\n",
       "      <th>1</th>\n",
       "      <td>19</td>\n",
       "      <td>School of Computing Science &amp; Engineering</td>\n",
       "      <td>B.Tech/B.Tech (Hons) Computer Science Engineering</td>\n",
       "      <td>Sem VI</td>\n",
       "      <td>EMPS3012</td>\n",
       "      <td>16SCSE101002</td>\n",
       "      <td>NISHCHHAL SHARMA</td>\n",
       "      <td>12/03/2019</td>\n",
       "      <td>L30-6P3HR-6P4HR-6P3HR-B2-6P4HR-B2-B2-L30-L30</td>\n",
       "      <td>02:20-03:10</td>\n",
       "      <td>2</td>\n",
       "      <td>1</td>\n",
       "    </tr>\n",
       "    <tr>\n",
       "      <th>2</th>\n",
       "      <td>20</td>\n",
       "      <td>School of Computing Science &amp; Engineering</td>\n",
       "      <td>B.Tech/B.Tech (Hons) Computer Science Engineering</td>\n",
       "      <td>Sem VI</td>\n",
       "      <td>EMPS3012</td>\n",
       "      <td>16SCSE101002</td>\n",
       "      <td>NISHCHHAL SHARMA</td>\n",
       "      <td>08/03/2019</td>\n",
       "      <td>12P4HR-12P4HR-TU10-L47-L47-TU10-L47-TU10</td>\n",
       "      <td>03:10-04:00</td>\n",
       "      <td>2</td>\n",
       "      <td>1</td>\n",
       "    </tr>\n",
       "    <tr>\n",
       "      <th>3</th>\n",
       "      <td>21</td>\n",
       "      <td>School of Computing Science &amp; Engineering</td>\n",
       "      <td>B.Tech/B.Tech (Hons) Computer Science Engineering</td>\n",
       "      <td>Sem VI</td>\n",
       "      <td>EMPS3012</td>\n",
       "      <td>16SCSE101002</td>\n",
       "      <td>NISHCHHAL SHARMA</td>\n",
       "      <td>12/03/2019</td>\n",
       "      <td>A2-6P4HR-L29-L29-6P3HR-6P3HR-L29-A2-A2-6P4HR</td>\n",
       "      <td>01:30-02:20</td>\n",
       "      <td>2</td>\n",
       "      <td>1</td>\n",
       "    </tr>\n",
       "    <tr>\n",
       "      <th>4</th>\n",
       "      <td>25</td>\n",
       "      <td>School of Computing Science &amp; Engineering</td>\n",
       "      <td>B.Tech/B.Tech (Hons) Computer Science Engineering</td>\n",
       "      <td>Sem VI</td>\n",
       "      <td>EMPS3012</td>\n",
       "      <td>16SCSE101002</td>\n",
       "      <td>NISHCHHAL SHARMA</td>\n",
       "      <td>15/03/2019</td>\n",
       "      <td>TU10-L47-L47-12P4HR-12P4HR-TU10-TU10-L47</td>\n",
       "      <td>03:10-04:00</td>\n",
       "      <td>2</td>\n",
       "      <td>1</td>\n",
       "    </tr>\n",
       "  </tbody>\n",
       "</table>\n",
       "</div>"
      ],
      "text/plain": [
       "   0                                          1   \\\n",
       "0   5  School of Computing Science & Engineering   \n",
       "1  19  School of Computing Science & Engineering   \n",
       "2  20  School of Computing Science & Engineering   \n",
       "3  21  School of Computing Science & Engineering   \n",
       "4  25  School of Computing Science & Engineering   \n",
       "\n",
       "                                                  2       3         4   \\\n",
       "0  B.Tech/B.Tech (Hons) Computer Science Engineering  Sem VI  EMPS3012   \n",
       "1  B.Tech/B.Tech (Hons) Computer Science Engineering  Sem VI  EMPS3012   \n",
       "2  B.Tech/B.Tech (Hons) Computer Science Engineering  Sem VI  EMPS3012   \n",
       "3  B.Tech/B.Tech (Hons) Computer Science Engineering  Sem VI  EMPS3012   \n",
       "4  B.Tech/B.Tech (Hons) Computer Science Engineering  Sem VI  EMPS3012   \n",
       "\n",
       "             5                 6           7   \\\n",
       "0  16SCSE101002  NISHCHHAL SHARMA  15/03/2019   \n",
       "1  16SCSE101002  NISHCHHAL SHARMA  12/03/2019   \n",
       "2  16SCSE101002  NISHCHHAL SHARMA  08/03/2019   \n",
       "3  16SCSE101002  NISHCHHAL SHARMA  12/03/2019   \n",
       "4  16SCSE101002  NISHCHHAL SHARMA  15/03/2019   \n",
       "\n",
       "                                             8            9   10  11  \n",
       "0                          2G-L48-2G-2G-L48-L48  04:00-04:50   2   1  \n",
       "1  L30-6P3HR-6P4HR-6P3HR-B2-6P4HR-B2-B2-L30-L30  02:20-03:10   2   1  \n",
       "2      12P4HR-12P4HR-TU10-L47-L47-TU10-L47-TU10  03:10-04:00   2   1  \n",
       "3  A2-6P4HR-L29-L29-6P3HR-6P3HR-L29-A2-A2-6P4HR  01:30-02:20   2   1  \n",
       "4      TU10-L47-L47-12P4HR-12P4HR-TU10-TU10-L47  03:10-04:00   2   1  "
      ]
     },
     "execution_count": 4,
     "metadata": {},
     "output_type": "execute_result"
    }
   ],
   "source": [
    "attendance_data.head()"
   ]
  },
  {
   "cell_type": "code",
   "execution_count": 43,
   "metadata": {},
   "outputs": [
    {
     "data": {
      "text/plain": [
       "Int64Index([0, 1, 2, 3, 4, 5, 6, 7, 8, 9, 10, 11], dtype='int64')"
      ]
     },
     "execution_count": 43,
     "metadata": {},
     "output_type": "execute_result"
    }
   ],
   "source": [
    "attendance_data.columns"
   ]
  },
  {
   "cell_type": "code",
   "execution_count": 5,
   "metadata": {},
   "outputs": [
    {
     "data": {
      "text/html": [
       "<div>\n",
       "<style scoped>\n",
       "    .dataframe tbody tr th:only-of-type {\n",
       "        vertical-align: middle;\n",
       "    }\n",
       "\n",
       "    .dataframe tbody tr th {\n",
       "        vertical-align: top;\n",
       "    }\n",
       "\n",
       "    .dataframe thead th {\n",
       "        text-align: right;\n",
       "    }\n",
       "</style>\n",
       "<table border=\"1\" class=\"dataframe\">\n",
       "  <thead>\n",
       "    <tr style=\"text-align: right;\">\n",
       "      <th></th>\n",
       "      <th>0</th>\n",
       "      <th>10</th>\n",
       "      <th>11</th>\n",
       "    </tr>\n",
       "  </thead>\n",
       "  <tbody>\n",
       "    <tr>\n",
       "      <th>count</th>\n",
       "      <td>1120.000000</td>\n",
       "      <td>1120.0</td>\n",
       "      <td>1120.000000</td>\n",
       "    </tr>\n",
       "    <tr>\n",
       "      <th>mean</th>\n",
       "      <td>6327.863393</td>\n",
       "      <td>2.0</td>\n",
       "      <td>0.550000</td>\n",
       "    </tr>\n",
       "    <tr>\n",
       "      <th>std</th>\n",
       "      <td>3651.341471</td>\n",
       "      <td>0.0</td>\n",
       "      <td>0.504847</td>\n",
       "    </tr>\n",
       "    <tr>\n",
       "      <th>min</th>\n",
       "      <td>5.000000</td>\n",
       "      <td>2.0</td>\n",
       "      <td>0.000000</td>\n",
       "    </tr>\n",
       "    <tr>\n",
       "      <th>25%</th>\n",
       "      <td>3192.000000</td>\n",
       "      <td>2.0</td>\n",
       "      <td>0.000000</td>\n",
       "    </tr>\n",
       "    <tr>\n",
       "      <th>50%</th>\n",
       "      <td>6340.000000</td>\n",
       "      <td>2.0</td>\n",
       "      <td>1.000000</td>\n",
       "    </tr>\n",
       "    <tr>\n",
       "      <th>75%</th>\n",
       "      <td>9493.000000</td>\n",
       "      <td>2.0</td>\n",
       "      <td>1.000000</td>\n",
       "    </tr>\n",
       "    <tr>\n",
       "      <th>max</th>\n",
       "      <td>12657.000000</td>\n",
       "      <td>2.0</td>\n",
       "      <td>2.000000</td>\n",
       "    </tr>\n",
       "  </tbody>\n",
       "</table>\n",
       "</div>"
      ],
      "text/plain": [
       "                 0       10           11\n",
       "count   1120.000000  1120.0  1120.000000\n",
       "mean    6327.863393     2.0     0.550000\n",
       "std     3651.341471     0.0     0.504847\n",
       "min        5.000000     2.0     0.000000\n",
       "25%     3192.000000     2.0     0.000000\n",
       "50%     6340.000000     2.0     1.000000\n",
       "75%     9493.000000     2.0     1.000000\n",
       "max    12657.000000     2.0     2.000000"
      ]
     },
     "execution_count": 5,
     "metadata": {},
     "output_type": "execute_result"
    }
   ],
   "source": [
    "attendance_data.describe()"
   ]
  },
  {
   "cell_type": "code",
   "execution_count": 6,
   "metadata": {},
   "outputs": [],
   "source": [
    "dateCols = attendance_data[7].unique()"
   ]
  },
  {
   "cell_type": "code",
   "execution_count": 7,
   "metadata": {},
   "outputs": [
    {
     "data": {
      "text/plain": [
       "array(['15/03/2019', '12/03/2019', '08/03/2019', '22/03/2019',\n",
       "       '26/03/2019', '12/02/2019', '15/02/2019', '29/03/2019',\n",
       "       '02/04/2019', '29/01/2019', '26/02/2019'], dtype=object)"
      ]
     },
     "execution_count": 7,
     "metadata": {},
     "output_type": "execute_result"
    }
   ],
   "source": [
    "dateCols"
   ]
  },
  {
   "cell_type": "code",
   "execution_count": 8,
   "metadata": {},
   "outputs": [
    {
     "data": {
      "text/plain": [
       "0     0\n",
       "1     0\n",
       "2     0\n",
       "3     0\n",
       "4     0\n",
       "5     0\n",
       "6     0\n",
       "7     0\n",
       "8     0\n",
       "9     0\n",
       "10    0\n",
       "11    0\n",
       "dtype: int64"
      ]
     },
     "execution_count": 8,
     "metadata": {},
     "output_type": "execute_result"
    }
   ],
   "source": [
    "np.sum(attendance_data.isnull())     #There is no null data"
   ]
  },
  {
   "cell_type": "code",
   "execution_count": 9,
   "metadata": {},
   "outputs": [
    {
     "data": {
      "text/plain": [
       "(1120, 12)"
      ]
     },
     "execution_count": 9,
     "metadata": {},
     "output_type": "execute_result"
    }
   ],
   "source": [
    "attendance_data.shape"
   ]
  },
  {
   "cell_type": "code",
   "execution_count": 10,
   "metadata": {},
   "outputs": [],
   "source": [
    "attendance_data_trimmed = attendance_data.drop([0, 1, 2, 3, 4, 8, 9, 10], axis=1)"
   ]
  },
  {
   "cell_type": "code",
   "execution_count": 11,
   "metadata": {},
   "outputs": [
    {
     "data": {
      "text/plain": [
       "(1120, 4)"
      ]
     },
     "execution_count": 11,
     "metadata": {},
     "output_type": "execute_result"
    }
   ],
   "source": [
    "attendance_data_trimmed.shape"
   ]
  },
  {
   "cell_type": "code",
   "execution_count": 12,
   "metadata": {},
   "outputs": [
    {
     "data": {
      "text/html": [
       "<div>\n",
       "<style scoped>\n",
       "    .dataframe tbody tr th:only-of-type {\n",
       "        vertical-align: middle;\n",
       "    }\n",
       "\n",
       "    .dataframe tbody tr th {\n",
       "        vertical-align: top;\n",
       "    }\n",
       "\n",
       "    .dataframe thead th {\n",
       "        text-align: right;\n",
       "    }\n",
       "</style>\n",
       "<table border=\"1\" class=\"dataframe\">\n",
       "  <thead>\n",
       "    <tr style=\"text-align: right;\">\n",
       "      <th></th>\n",
       "      <th>5</th>\n",
       "      <th>6</th>\n",
       "      <th>7</th>\n",
       "      <th>11</th>\n",
       "    </tr>\n",
       "  </thead>\n",
       "  <tbody>\n",
       "    <tr>\n",
       "      <th>0</th>\n",
       "      <td>16SCSE101002</td>\n",
       "      <td>NISHCHHAL SHARMA</td>\n",
       "      <td>15/03/2019</td>\n",
       "      <td>1</td>\n",
       "    </tr>\n",
       "    <tr>\n",
       "      <th>1</th>\n",
       "      <td>16SCSE101002</td>\n",
       "      <td>NISHCHHAL SHARMA</td>\n",
       "      <td>12/03/2019</td>\n",
       "      <td>1</td>\n",
       "    </tr>\n",
       "    <tr>\n",
       "      <th>2</th>\n",
       "      <td>16SCSE101002</td>\n",
       "      <td>NISHCHHAL SHARMA</td>\n",
       "      <td>08/03/2019</td>\n",
       "      <td>1</td>\n",
       "    </tr>\n",
       "    <tr>\n",
       "      <th>3</th>\n",
       "      <td>16SCSE101002</td>\n",
       "      <td>NISHCHHAL SHARMA</td>\n",
       "      <td>12/03/2019</td>\n",
       "      <td>1</td>\n",
       "    </tr>\n",
       "    <tr>\n",
       "      <th>4</th>\n",
       "      <td>16SCSE101002</td>\n",
       "      <td>NISHCHHAL SHARMA</td>\n",
       "      <td>15/03/2019</td>\n",
       "      <td>1</td>\n",
       "    </tr>\n",
       "  </tbody>\n",
       "</table>\n",
       "</div>"
      ],
      "text/plain": [
       "             5                 6           7   11\n",
       "0  16SCSE101002  NISHCHHAL SHARMA  15/03/2019   1\n",
       "1  16SCSE101002  NISHCHHAL SHARMA  12/03/2019   1\n",
       "2  16SCSE101002  NISHCHHAL SHARMA  08/03/2019   1\n",
       "3  16SCSE101002  NISHCHHAL SHARMA  12/03/2019   1\n",
       "4  16SCSE101002  NISHCHHAL SHARMA  15/03/2019   1"
      ]
     },
     "execution_count": 12,
     "metadata": {},
     "output_type": "execute_result"
    }
   ],
   "source": [
    "attendance_data_trimmed.head(5)"
   ]
  },
  {
   "cell_type": "code",
   "execution_count": 13,
   "metadata": {},
   "outputs": [],
   "source": [
    "attendance_data_trimmed.columns = ['RegistrationNo', 'StudentName', 'Date', 'ClassAttended']"
   ]
  },
  {
   "cell_type": "code",
   "execution_count": 14,
   "metadata": {},
   "outputs": [
    {
     "data": {
      "text/html": [
       "<div>\n",
       "<style scoped>\n",
       "    .dataframe tbody tr th:only-of-type {\n",
       "        vertical-align: middle;\n",
       "    }\n",
       "\n",
       "    .dataframe tbody tr th {\n",
       "        vertical-align: top;\n",
       "    }\n",
       "\n",
       "    .dataframe thead th {\n",
       "        text-align: right;\n",
       "    }\n",
       "</style>\n",
       "<table border=\"1\" class=\"dataframe\">\n",
       "  <thead>\n",
       "    <tr style=\"text-align: right;\">\n",
       "      <th></th>\n",
       "      <th>RegistrationNo</th>\n",
       "      <th>StudentName</th>\n",
       "      <th>Date</th>\n",
       "      <th>ClassAttended</th>\n",
       "    </tr>\n",
       "  </thead>\n",
       "  <tbody>\n",
       "    <tr>\n",
       "      <th>0</th>\n",
       "      <td>16SCSE101002</td>\n",
       "      <td>NISHCHHAL SHARMA</td>\n",
       "      <td>15/03/2019</td>\n",
       "      <td>1</td>\n",
       "    </tr>\n",
       "    <tr>\n",
       "      <th>1</th>\n",
       "      <td>16SCSE101002</td>\n",
       "      <td>NISHCHHAL SHARMA</td>\n",
       "      <td>12/03/2019</td>\n",
       "      <td>1</td>\n",
       "    </tr>\n",
       "    <tr>\n",
       "      <th>2</th>\n",
       "      <td>16SCSE101002</td>\n",
       "      <td>NISHCHHAL SHARMA</td>\n",
       "      <td>08/03/2019</td>\n",
       "      <td>1</td>\n",
       "    </tr>\n",
       "    <tr>\n",
       "      <th>3</th>\n",
       "      <td>16SCSE101002</td>\n",
       "      <td>NISHCHHAL SHARMA</td>\n",
       "      <td>12/03/2019</td>\n",
       "      <td>1</td>\n",
       "    </tr>\n",
       "    <tr>\n",
       "      <th>4</th>\n",
       "      <td>16SCSE101002</td>\n",
       "      <td>NISHCHHAL SHARMA</td>\n",
       "      <td>15/03/2019</td>\n",
       "      <td>1</td>\n",
       "    </tr>\n",
       "  </tbody>\n",
       "</table>\n",
       "</div>"
      ],
      "text/plain": [
       "  RegistrationNo       StudentName        Date  ClassAttended\n",
       "0   16SCSE101002  NISHCHHAL SHARMA  15/03/2019              1\n",
       "1   16SCSE101002  NISHCHHAL SHARMA  12/03/2019              1\n",
       "2   16SCSE101002  NISHCHHAL SHARMA  08/03/2019              1\n",
       "3   16SCSE101002  NISHCHHAL SHARMA  12/03/2019              1\n",
       "4   16SCSE101002  NISHCHHAL SHARMA  15/03/2019              1"
      ]
     },
     "execution_count": 14,
     "metadata": {},
     "output_type": "execute_result"
    }
   ],
   "source": [
    "attendance_data_trimmed.head(5)"
   ]
  },
  {
   "cell_type": "code",
   "execution_count": 24,
   "metadata": {},
   "outputs": [],
   "source": [
    "pivoted_Data = pd.pivot_table(attendance_data_trimmed, values='ClassAttended', index=['RegistrationNo', 'StudentName'], columns='Date', fill_value=0.0, aggfunc=np.sum)"
   ]
  },
  {
   "cell_type": "code",
   "execution_count": 25,
   "metadata": {},
   "outputs": [],
   "source": [
    "attendance_data_pivoted = pd.DataFrame(pivoted_Data.to_records())"
   ]
  },
  {
   "cell_type": "code",
   "execution_count": 59,
   "metadata": {},
   "outputs": [
    {
     "data": {
      "text/html": [
       "<div>\n",
       "<style scoped>\n",
       "    .dataframe tbody tr th:only-of-type {\n",
       "        vertical-align: middle;\n",
       "    }\n",
       "\n",
       "    .dataframe tbody tr th {\n",
       "        vertical-align: top;\n",
       "    }\n",
       "\n",
       "    .dataframe thead th {\n",
       "        text-align: right;\n",
       "    }\n",
       "</style>\n",
       "<table border=\"1\" class=\"dataframe\">\n",
       "  <thead>\n",
       "    <tr style=\"text-align: right;\">\n",
       "      <th></th>\n",
       "      <th>RegistrationNo</th>\n",
       "      <th>StudentName</th>\n",
       "      <th>02/04/2019</th>\n",
       "      <th>08/03/2019</th>\n",
       "      <th>12/02/2019</th>\n",
       "      <th>12/03/2019</th>\n",
       "      <th>15/02/2019</th>\n",
       "      <th>15/03/2019</th>\n",
       "      <th>22/03/2019</th>\n",
       "      <th>26/02/2019</th>\n",
       "      <th>26/03/2019</th>\n",
       "      <th>29/01/2019</th>\n",
       "      <th>29/03/2019</th>\n",
       "    </tr>\n",
       "  </thead>\n",
       "  <tbody>\n",
       "    <tr>\n",
       "      <th>0</th>\n",
       "      <td>16SCSE101002</td>\n",
       "      <td>NISHCHHAL SHARMA</td>\n",
       "      <td>2</td>\n",
       "      <td>2</td>\n",
       "      <td>2</td>\n",
       "      <td>2</td>\n",
       "      <td>2</td>\n",
       "      <td>2</td>\n",
       "      <td>0</td>\n",
       "      <td>0</td>\n",
       "      <td>2</td>\n",
       "      <td>0</td>\n",
       "      <td>2</td>\n",
       "    </tr>\n",
       "    <tr>\n",
       "      <th>1</th>\n",
       "      <td>16SCSE101005</td>\n",
       "      <td>NAMAN KAPOOR</td>\n",
       "      <td>2</td>\n",
       "      <td>2</td>\n",
       "      <td>0</td>\n",
       "      <td>2</td>\n",
       "      <td>2</td>\n",
       "      <td>0</td>\n",
       "      <td>0</td>\n",
       "      <td>0</td>\n",
       "      <td>2</td>\n",
       "      <td>0</td>\n",
       "      <td>2</td>\n",
       "    </tr>\n",
       "    <tr>\n",
       "      <th>2</th>\n",
       "      <td>16SCSE101012</td>\n",
       "      <td>ARNOB CHAKRABORTY</td>\n",
       "      <td>2</td>\n",
       "      <td>2</td>\n",
       "      <td>0</td>\n",
       "      <td>2</td>\n",
       "      <td>0</td>\n",
       "      <td>2</td>\n",
       "      <td>0</td>\n",
       "      <td>2</td>\n",
       "      <td>2</td>\n",
       "      <td>0</td>\n",
       "      <td>2</td>\n",
       "    </tr>\n",
       "    <tr>\n",
       "      <th>3</th>\n",
       "      <td>16SCSE101015</td>\n",
       "      <td>PRAGATI KUMARI</td>\n",
       "      <td>2</td>\n",
       "      <td>2</td>\n",
       "      <td>2</td>\n",
       "      <td>2</td>\n",
       "      <td>2</td>\n",
       "      <td>0</td>\n",
       "      <td>0</td>\n",
       "      <td>0</td>\n",
       "      <td>2</td>\n",
       "      <td>0</td>\n",
       "      <td>2</td>\n",
       "    </tr>\n",
       "    <tr>\n",
       "      <th>4</th>\n",
       "      <td>16SCSE101019</td>\n",
       "      <td>PRIYAMVADA SINGH</td>\n",
       "      <td>0</td>\n",
       "      <td>0</td>\n",
       "      <td>0</td>\n",
       "      <td>0</td>\n",
       "      <td>0</td>\n",
       "      <td>0</td>\n",
       "      <td>0</td>\n",
       "      <td>0</td>\n",
       "      <td>0</td>\n",
       "      <td>0</td>\n",
       "      <td>0</td>\n",
       "    </tr>\n",
       "  </tbody>\n",
       "</table>\n",
       "</div>"
      ],
      "text/plain": [
       "  RegistrationNo        StudentName  02/04/2019  08/03/2019  12/02/2019  \\\n",
       "0   16SCSE101002   NISHCHHAL SHARMA           2           2           2   \n",
       "1   16SCSE101005       NAMAN KAPOOR           2           2           0   \n",
       "2   16SCSE101012  ARNOB CHAKRABORTY           2           2           0   \n",
       "3   16SCSE101015     PRAGATI KUMARI           2           2           2   \n",
       "4   16SCSE101019   PRIYAMVADA SINGH           0           0           0   \n",
       "\n",
       "   12/03/2019  15/02/2019  15/03/2019  22/03/2019  26/02/2019  26/03/2019  \\\n",
       "0           2           2           2           0           0           2   \n",
       "1           2           2           0           0           0           2   \n",
       "2           2           0           2           0           2           2   \n",
       "3           2           2           0           0           0           2   \n",
       "4           0           0           0           0           0           0   \n",
       "\n",
       "   29/01/2019  29/03/2019  \n",
       "0           0           2  \n",
       "1           0           2  \n",
       "2           0           2  \n",
       "3           0           2  \n",
       "4           0           0  "
      ]
     },
     "execution_count": 59,
     "metadata": {},
     "output_type": "execute_result"
    }
   ],
   "source": [
    "attendance_data_pivoted.head(5)"
   ]
  },
  {
   "cell_type": "code",
   "execution_count": 60,
   "metadata": {},
   "outputs": [],
   "source": [
    "#result = attendance_data_pivoted[attendance_data_pivoted['RegistrationNo'] == '16SCSE102014'][['RegistrationNo', '15/03/2019']]\n",
    "\n",
    "\n",
    "regNoIp = '16SCSE102014'\n",
    "dateIp = '15/03/2019'\n",
    "result = attendance_data_pivoted[attendance_data_pivoted['RegistrationNo'] == regNoIp][['RegistrationNo', dateIp]]"
   ]
  },
  {
   "cell_type": "code",
   "execution_count": 61,
   "metadata": {},
   "outputs": [
    {
     "data": {
      "text/html": [
       "<div>\n",
       "<style scoped>\n",
       "    .dataframe tbody tr th:only-of-type {\n",
       "        vertical-align: middle;\n",
       "    }\n",
       "\n",
       "    .dataframe tbody tr th {\n",
       "        vertical-align: top;\n",
       "    }\n",
       "\n",
       "    .dataframe thead th {\n",
       "        text-align: right;\n",
       "    }\n",
       "</style>\n",
       "<table border=\"1\" class=\"dataframe\">\n",
       "  <thead>\n",
       "    <tr style=\"text-align: right;\">\n",
       "      <th></th>\n",
       "      <th>RegistrationNo</th>\n",
       "      <th>15/03/2019</th>\n",
       "    </tr>\n",
       "  </thead>\n",
       "  <tbody>\n",
       "    <tr>\n",
       "      <th>63</th>\n",
       "      <td>16SCSE102014</td>\n",
       "      <td>2</td>\n",
       "    </tr>\n",
       "  </tbody>\n",
       "</table>\n",
       "</div>"
      ],
      "text/plain": [
       "   RegistrationNo  15/03/2019\n",
       "63   16SCSE102014           2"
      ]
     },
     "execution_count": 61,
     "metadata": {},
     "output_type": "execute_result"
    }
   ],
   "source": [
    "result"
   ]
  },
  {
   "cell_type": "code",
   "execution_count": 56,
   "metadata": {},
   "outputs": [],
   "source": [
    "file = open(\"D:\\\\APP\\\\NITW\\\\Applications using Python\\\\Assignment_1\\\\Problem1\\\\output1.txt\",\"w\")"
   ]
  },
  {
   "cell_type": "code",
   "execution_count": 57,
   "metadata": {},
   "outputs": [
    {
     "data": {
      "text/plain": [
       "1"
      ]
     },
     "execution_count": 57,
     "metadata": {},
     "output_type": "execute_result"
    }
   ],
   "source": [
    "regNo = \"\".join(result['RegistrationNo'])\n",
    "file.write(regNo+\"\\n\")\n",
    "classAttended = \"\".join(result['15/03/2019'].astype(str))\n",
    "file.write(classAttended)"
   ]
  },
  {
   "cell_type": "code",
   "execution_count": 58,
   "metadata": {},
   "outputs": [],
   "source": [
    "file.close()"
   ]
  }
 ],
 "metadata": {
  "kernelspec": {
   "display_name": "Python 3",
   "language": "python",
   "name": "python3"
  },
  "language_info": {
   "codemirror_mode": {
    "name": "ipython",
    "version": 3
   },
   "file_extension": ".py",
   "mimetype": "text/x-python",
   "name": "python",
   "nbconvert_exporter": "python",
   "pygments_lexer": "ipython3",
   "version": "3.7.3"
  }
 },
 "nbformat": 4,
 "nbformat_minor": 2
}
