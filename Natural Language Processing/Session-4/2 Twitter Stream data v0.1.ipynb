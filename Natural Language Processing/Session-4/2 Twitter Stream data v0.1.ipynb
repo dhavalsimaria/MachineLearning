{
 "cells": [
  {
   "cell_type": "code",
   "execution_count": 29,
   "metadata": {},
   "outputs": [
    {
     "name": "stdout",
     "output_type": "stream",
     "text": [
      "{\"created_at\":\"Sun Dec 08 12:05:58 +0000 2019\",\"id\":1203646901867827200,\"id_str\":\"1203646901867827200\",\"text\":\"RT @4th_No_Fon: \\u2716\\ufe0epython\\u9045\\u3044\\n\\n\\u2b55\\ufe0fpython\\u306f\\u8a00\\u8a9e\\u3067\\u306f\\u306a\\u3044\\n\\n\\u25cepython\\u306f\\u4ed6\\u8a00\\u8a9e\\u3067\\u66f8\\u304b\\u308c\\u305f\\u30e2\\u30b8\\u30e5\\u30fc\\u30eb\\u3092\\u7d71\\u5408\\u7684\\u306b\\u547c\\u3073\\u51fa\\u3059\\u30a4\\u30f3\\u30bf\\u30fc\\u30d5\\u30a7\\u30fc\\u30b9\\u3068\\u3057\\u3066\\u306eDSL\\u3067\\u3042\\u308a\\u3001\\u300c\\u305f\\u307e\\u305f\\u307e\\u300d\\u30c1\\u30e5\\u30fc\\u30ea\\u30f3\\u30b0\\u5b8c\\u5168\\u306b\\u306a\\u3063\\u3066\\u3057\\u307e\\u3063\\u305f\\u70ba\\u3001\\u5b8c\\u5168\\u6027\\u3092\\u60aa\\u7528\\u3057\\u3066python\\u3067\\u8a08\\u7b97\\u3092\\u3057\\u3088\\u3046\\u2026\",\"source\":\"\\u003ca href=\\\"http:\\/\\/twitter.com\\/download\\/android\\\" rel=\\\"nofollow\\\"\\u003eTwitter for Android\\u003c\\/a\\u003e\",\"truncated\":false,\"in_reply_to_status_id\":null,\"in_reply_to_status_id_str\":null,\"in_reply_to_user_id\":null,\"in_reply_to_user_id_str\":null,\"in_reply_to_screen_name\":null,\"user\":{\"id\":298548428,\"id_str\":\"298548428\",\"name\":\"\\u3067\\u3043\\u304a\\u306b\\u3059@\\u731b\\u864e\\u611b\\u2665\\ufe0f\\u6e80\\u30bf\\u30f3\\u2606\\u30b5\\u30de\\u30fc\\u30e9\\u30a4\\u30d5\",\"screen_name\":\"dhionisu_kui\",\"location\":\"\\u6a2a\\u6d5c\\u21d4\\u5ddd\\u8d8a\",\"url\":null,\"description\":\"\\u5584\\u5b50\\u300c\\u306d\\u3047\\u306d\\u3047\\u4eca\\u65e5\\u3069\\u3053\\u3067\\u904a\\u3076\\uff1f\\u300d\\n\\u66dc\\u300c\\u3046\\u30fc\\u3093\\u3001\\u3084\\u3063\\u3071\\u308a\\u9cf4\\u5c3e\\u6d5c\\u3057\\u304b\\u306a\\u3044\\u3067\\u3057\\u3087\\uff01\\u300d\\n\\u5584\\u5b50\\u300c\\u3048\\u3063\\uff1f\\u9cf4\\u5c3e\\u6d5c\\uff01\\uff1f\\u6628\\u65e5\\u3082\\u884c\\u3063\\u305f\\u3093\\u3058\\u3083\\u300d\\n\\u66dc\\u300c\\u305d\\u3093\\u306a\\u306e\\u95a2\\u4fc2\\u306a\\u3044\\u3063\\u3066\\u3002\\u300eIt's \\u52dd\\u7b11 Time! \\u30aa\\u30ec\\u304c\\u30e4\\u30eb\\u300f\\u300d\\n\\u73fe\\u5730\\u53c2\\u6226\\u4e88\\u5b9a\\u2192\\u8679\\u30f6\\u54b21st2\\u65e5\\u76ee\\u3001\\u6589\\u85e4\\u6731\\u590fFC\\u30a4\\u30d9\\u30fbZepp\\u30c4\\u30a2\\u30fc\\u5927\\u962a\\u3001\\u540d\\u53e4\\u5c4b\\u30fb\\u30ae\\u30eb\\u30ad\\u30b91\\u65e5\\u76ee\\/\\u6731\\u590f\\u4eba\\u3068Liand\\u306e\\u4e8c\\u5200\\u6d41\",\"translator_type\":\"none\",\"protected\":false,\"verified\":false,\"followers_count\":973,\"friends_count\":1081,\"listed_count\":45,\"favourites_count\":51768,\"statuses_count\":121153,\"created_at\":\"Sat May 14 14:21:05 +0000 2011\",\"utc_offset\":null,\"time_zone\":null,\"geo_enabled\":false,\"lang\":null,\"contributors_enabled\":false,\"is_translator\":false,\"profile_background_color\":\"C0DEED\",\"profile_background_image_url\":\"http:\\/\\/abs.twimg.com\\/images\\/themes\\/theme1\\/bg.png\",\"profile_background_image_url_https\":\"https:\\/\\/abs.twimg.com\\/images\\/themes\\/theme1\\/bg.png\",\"profile_background_tile\":false,\"profile_link_color\":\"0084B4\",\"profile_sidebar_border_color\":\"FFFFFF\",\"profile_sidebar_fill_color\":\"DDEEF6\",\"profile_text_color\":\"333333\",\"profile_use_background_image\":true,\"profile_image_url\":\"http:\\/\\/pbs.twimg.com\\/profile_images\\/1202228797774258177\\/nW4veG1V_normal.jpg\",\"profile_image_url_https\":\"https:\\/\\/pbs.twimg.com\\/profile_images\\/1202228797774258177\\/nW4veG1V_normal.jpg\",\"profile_banner_url\":\"https:\\/\\/pbs.twimg.com\\/profile_banners\\/298548428\\/1566832382\",\"default_profile\":false,\"default_profile_image\":false,\"following\":null,\"follow_request_sent\":null,\"notifications\":null},\"geo\":null,\"coordinates\":null,\"place\":null,\"contributors\":null,\"retweeted_status\":{\"created_at\":\"Sun Dec 08 08:33:33 +0000 2019\",\"id\":1203593444595122176,\"id_str\":\"1203593444595122176\",\"text\":\"\\u2716\\ufe0epython\\u9045\\u3044\\n\\n\\u2b55\\ufe0fpython\\u306f\\u8a00\\u8a9e\\u3067\\u306f\\u306a\\u3044\\n\\n\\u25cepython\\u306f\\u4ed6\\u8a00\\u8a9e\\u3067\\u66f8\\u304b\\u308c\\u305f\\u30e2\\u30b8\\u30e5\\u30fc\\u30eb\\u3092\\u7d71\\u5408\\u7684\\u306b\\u547c\\u3073\\u51fa\\u3059\\u30a4\\u30f3\\u30bf\\u30fc\\u30d5\\u30a7\\u30fc\\u30b9\\u3068\\u3057\\u3066\\u306eDSL\\u3067\\u3042\\u308a\\u3001\\u300c\\u305f\\u307e\\u305f\\u307e\\u300d\\u30c1\\u30e5\\u30fc\\u30ea\\u30f3\\u30b0\\u5b8c\\u5168\\u306b\\u306a\\u3063\\u3066\\u3057\\u307e\\u3063\\u305f\\u70ba\\u3001\\u5b8c\\u5168\\u6027\\u3092\\u60aa\\u7528\\u3057\\u3066python\\u3067\\u8a08\\u7b97\\u3092\\u3057\\u3088\\u3046\\u3068\\u3059\\u308b\\u4e0d\\u5c4a\\u304d\\u8005\\u304c\\u5f8c\\u3092\\u7d76\\u305f\\u306a\\u3044\",\"source\":\"\\u003ca href=\\\"http:\\/\\/twitter.com\\/download\\/iphone\\\" rel=\\\"nofollow\\\"\\u003eTwitter for iPhone\\u003c\\/a\\u003e\",\"truncated\":false,\"in_reply_to_status_id\":null,\"in_reply_to_status_id_str\":null,\"in_reply_to_user_id\":null,\"in_reply_to_user_id_str\":null,\"in_reply_to_screen_name\":null,\"user\":{\"id\":2562716629,\"id_str\":\"2562716629\",\"name\":\"\\u9650\\u754c\\u9662\\u751f\\u5438\\u8840\\u9b3c\\u306e\\u30fc\\u3075\\u3049\\u3093\\u3055\\u3093\",\"screen_name\":\"4th_No_Fon\",\"location\":null,\"url\":\"https:\\/\\/www.nicovideo.jp\\/mylist\\/66884451\",\"description\":\"\\u304a\\u9152\\u98f2\\u3080\\u306e\\u96e3\\u3057\\u3044\\u306b\\u3083\\u3093\",\"translator_type\":\"none\",\"protected\":false,\"verified\":false,\"followers_count\":1200,\"friends_count\":1750,\"listed_count\":49,\"favourites_count\":69850,\"statuses_count\":111427,\"created_at\":\"Thu Jun 12 04:49:58 +0000 2014\",\"utc_offset\":null,\"time_zone\":null,\"geo_enabled\":false,\"lang\":null,\"contributors_enabled\":false,\"is_translator\":false,\"profile_background_color\":\"642D8B\",\"profile_background_image_url\":\"http:\\/\\/abs.twimg.com\\/images\\/themes\\/theme10\\/bg.gif\",\"profile_background_image_url_https\":\"https:\\/\\/abs.twimg.com\\/images\\/themes\\/theme10\\/bg.gif\",\"profile_background_tile\":true,\"profile_link_color\":\"4A913C\",\"profile_sidebar_border_color\":\"65B0DA\",\"profile_sidebar_fill_color\":\"7AC3EE\",\"profile_text_color\":\"3D1957\",\"profile_use_background_image\":true,\"profile_image_url\":\"http:\\/\\/pbs.twimg.com\\/profile_images\\/765789847701315587\\/atf56UjP_normal.jpg\",\"profile_image_url_https\":\"https:\\/\\/pbs.twimg.com\\/profile_images\\/765789847701315587\\/atf56UjP_normal.jpg\",\"profile_banner_url\":\"https:\\/\\/pbs.twimg.com\\/profile_banners\\/2562716629\\/1499742672\",\"default_profile\":false,\"default_profile_image\":false,\"following\":null,\"follow_request_sent\":null,\"notifications\":null},\"geo\":null,\"coordinates\":null,\"place\":null,\"contributors\":null,\"is_quote_status\":false,\"quote_count\":27,\"reply_count\":0,\"retweet_count\":609,\"favorite_count\":1756,\"entities\":{\"hashtags\":[],\"urls\":[],\"user_mentions\":[],\"symbols\":[]},\"favorited\":false,\"retweeted\":false,\"filter_level\":\"low\",\"lang\":\"ja\"},\"is_quote_status\":false,\"quote_count\":0,\"reply_count\":0,\"retweet_count\":0,\"favorite_count\":0,\"entities\":{\"hashtags\":[],\"urls\":[],\"user_mentions\":[{\"screen_name\":\"4th_No_Fon\",\"name\":\"\\u9650\\u754c\\u9662\\u751f\\u5438\\u8840\\u9b3c\\u306e\\u30fc\\u3075\\u3049\\u3093\\u3055\\u3093\",\"id\":2562716629,\"id_str\":\"2562716629\",\"indices\":[3,14]}],\"symbols\":[]},\"favorited\":false,\"retweeted\":false,\"filter_level\":\"low\",\"lang\":\"ja\",\"timestamp_ms\":\"1575806758740\"}\r\n",
      "\n",
      "{\"created_at\":\"Sun Dec 08 12:05:58 +0000 2019\",\"id\":1203646901574422529,\"id_str\":\"1203646901574422529\",\"text\":\"Hey brotherrrr (by avicii) there's an endless road to be dismothered! Lmao \\n#joke #jokes #fun #funny #humour #bot\\u2026 https:\\/\\/t.co\\/GRbpJE96Xz\",\"display_text_range\":[0,140],\"source\":\"\\u003ca href=\\\"https:\\/\\/www.facebook.com\\/nikos.broikos\\\" rel=\\\"nofollow\\\"\\u003ePython Joke Bot\\u003c\\/a\\u003e\",\"truncated\":true,\"in_reply_to_status_id\":null,\"in_reply_to_status_id_str\":null,\"in_reply_to_user_id\":null,\"in_reply_to_user_id_str\":null,\"in_reply_to_screen_name\":null,\"user\":{\"id\":1142414488395821056,\"id_str\":\"1142414488395821056\",\"name\":\"Python Joke Bot\",\"screen_name\":\"PythonJokeBot\",\"location\":\"In someones Raspberry Pi\",\"url\":null,\"description\":\"Automated picking and generating jokes based on user feedback with the help of machine learning and python programming language\",\"translator_type\":\"none\",\"protected\":false,\"verified\":false,\"followers_count\":38,\"friends_count\":1,\"listed_count\":0,\"favourites_count\":0,\"statuses_count\":1529,\"created_at\":\"Sat Jun 22 12:50:13 +0000 2019\",\"utc_offset\":null,\"time_zone\":null,\"geo_enabled\":false,\"lang\":null,\"contributors_enabled\":false,\"is_translator\":false,\"profile_background_color\":\"000000\",\"profile_background_image_url\":\"http:\\/\\/abs.twimg.com\\/images\\/themes\\/theme1\\/bg.png\",\"profile_background_image_url_https\":\"https:\\/\\/abs.twimg.com\\/images\\/themes\\/theme1\\/bg.png\",\"profile_background_tile\":false,\"profile_link_color\":\"BE3228\",\"profile_sidebar_border_color\":\"000000\",\"profile_sidebar_fill_color\":\"000000\",\"profile_text_color\":\"000000\",\"profile_use_background_image\":false,\"profile_image_url\":\"http:\\/\\/pbs.twimg.com\\/profile_images\\/1142725382656942080\\/5Np3hC1j_normal.png\",\"profile_image_url_https\":\"https:\\/\\/pbs.twimg.com\\/profile_images\\/1142725382656942080\\/5Np3hC1j_normal.png\",\"profile_banner_url\":\"https:\\/\\/pbs.twimg.com\\/profile_banners\\/1142414488395821056\\/1563017676\",\"default_profile\":false,\"default_profile_image\":false,\"following\":null,\"follow_request_sent\":null,\"notifications\":null},\"geo\":null,\"coordinates\":null,\"place\":null,\"contributors\":null,\"is_quote_status\":false,\"extended_tweet\":{\"full_text\":\"Hey brotherrrr (by avicii) there's an endless road to be dismothered! Lmao \\n#joke #jokes #fun #funny #humour #bot #machine_learning #python #AI https:\\/\\/t.co\\/zzQjWgN8DU\",\"display_text_range\":[0,143],\"entities\":{\"hashtags\":[{\"text\":\"joke\",\"indices\":[76,81]},{\"text\":\"jokes\",\"indices\":[82,88]},{\"text\":\"fun\",\"indices\":[89,93]},{\"text\":\"funny\",\"indices\":[94,100]},{\"text\":\"humour\",\"indices\":[101,108]},{\"text\":\"bot\",\"indices\":[109,113]},{\"text\":\"machine_learning\",\"indices\":[114,131]},{\"text\":\"python\",\"indices\":[132,139]},{\"text\":\"AI\",\"indices\":[140,143]}],\"urls\":[],\"user_mentions\":[],\"symbols\":[],\"media\":[{\"id\":1203646900395806721,\"id_str\":\"1203646900395806721\",\"indices\":[144,167],\"media_url\":\"http:\\/\\/pbs.twimg.com\\/media\\/ELQ2eo0XkAEmzNs.jpg\",\"media_url_https\":\"https:\\/\\/pbs.twimg.com\\/media\\/ELQ2eo0XkAEmzNs.jpg\",\"url\":\"https:\\/\\/t.co\\/zzQjWgN8DU\",\"display_url\":\"pic.twitter.com\\/zzQjWgN8DU\",\"expanded_url\":\"https:\\/\\/twitter.com\\/PythonJokeBot\\/status\\/1203646901574422529\\/photo\\/1\",\"type\":\"photo\",\"sizes\":{\"thumb\":{\"w\":150,\"h\":150,\"resize\":\"crop\"},\"large\":{\"w\":640,\"h\":360,\"resize\":\"fit\"},\"medium\":{\"w\":640,\"h\":360,\"resize\":\"fit\"},\"small\":{\"w\":640,\"h\":360,\"resize\":\"fit\"}}}]},\"extended_entities\":{\"media\":[{\"id\":1203646900395806721,\"id_str\":\"1203646900395806721\",\"indices\":[144,167],\"media_url\":\"http:\\/\\/pbs.twimg.com\\/media\\/ELQ2eo0XkAEmzNs.jpg\",\"media_url_https\":\"https:\\/\\/pbs.twimg.com\\/media\\/ELQ2eo0XkAEmzNs.jpg\",\"url\":\"https:\\/\\/t.co\\/zzQjWgN8DU\",\"display_url\":\"pic.twitter.com\\/zzQjWgN8DU\",\"expanded_url\":\"https:\\/\\/twitter.com\\/PythonJokeBot\\/status\\/1203646901574422529\\/photo\\/1\",\"type\":\"photo\",\"sizes\":{\"thumb\":{\"w\":150,\"h\":150,\"resize\":\"crop\"},\"large\":{\"w\":640,\"h\":360,\"resize\":\"fit\"},\"medium\":{\"w\":640,\"h\":360,\"resize\":\"fit\"},\"small\":{\"w\":640,\"h\":360,\"resize\":\"fit\"}}}]}},\"quote_count\":0,\"reply_count\":0,\"retweet_count\":0,\"favorite_count\":0,\"entities\":{\"hashtags\":[{\"text\":\"joke\",\"indices\":[76,81]},{\"text\":\"jokes\",\"indices\":[82,88]},{\"text\":\"fun\",\"indices\":[89,93]},{\"text\":\"funny\",\"indices\":[94,100]},{\"text\":\"humour\",\"indices\":[101,108]},{\"text\":\"bot\",\"indices\":[109,113]}],\"urls\":[{\"url\":\"https:\\/\\/t.co\\/GRbpJE96Xz\",\"expanded_url\":\"https:\\/\\/twitter.com\\/i\\/web\\/status\\/1203646901574422529\",\"display_url\":\"twitter.com\\/i\\/web\\/status\\/1\\u2026\",\"indices\":[115,138]}],\"user_mentions\":[],\"symbols\":[]},\"favorited\":false,\"retweeted\":false,\"possibly_sensitive\":false,\"filter_level\":\"low\",\"lang\":\"en\",\"timestamp_ms\":\"1575806758670\"}\r\n",
      "\n"
     ]
    },
    {
     "name": "stdout",
     "output_type": "stream",
     "text": [
      "{\"created_at\":\"Sun Dec 08 12:05:58 +0000 2019\",\"id\":1203646902400667654,\"id_str\":\"1203646902400667654\",\"text\":\"Team Ohayo\\u306e\\u30b3\\u30a2\\u30b3\\u30f3\\u30d4\\u30bf\\u30f3\\u30b9\\u3067\\u3042\\u308basahi data science\\u3067\\u4e09\\u4f4d\\u5165\\u8cde\\u3057\\u307e\\u3057\\u305f\\uff01\",\"source\":\"\\u003ca href=\\\"https:\\/\\/about.twitter.com\\/products\\/tweetdeck\\\" rel=\\\"nofollow\\\"\\u003eTweetDeck\\u003c\\/a\\u003e\",\"truncated\":false,\"in_reply_to_status_id\":null,\"in_reply_to_status_id_str\":null,\"in_reply_to_user_id\":null,\"in_reply_to_user_id_str\":null,\"in_reply_to_screen_name\":null,\"user\":{\"id\":727115509129302016,\"id_str\":\"727115509129302016\",\"name\":\"kinoko\",\"screen_name\":\"kinoko_suki\",\"location\":\"memento\\u68ee\",\"url\":null,\"description\":\"to shine to shine to shine to shine\",\"translator_type\":\"none\",\"protected\":false,\"verified\":false,\"followers_count\":91,\"friends_count\":614,\"listed_count\":2,\"favourites_count\":1694,\"statuses_count\":10993,\"created_at\":\"Mon May 02 12:40:21 +0000 2016\",\"utc_offset\":null,\"time_zone\":null,\"geo_enabled\":true,\"lang\":null,\"contributors_enabled\":false,\"is_translator\":false,\"profile_background_color\":\"F5F8FA\",\"profile_background_image_url\":\"\",\"profile_background_image_url_https\":\"\",\"profile_background_tile\":false,\"profile_link_color\":\"1DA1F2\",\"profile_sidebar_border_color\":\"C0DEED\",\"profile_sidebar_fill_color\":\"DDEEF6\",\"profile_text_color\":\"333333\",\"profile_use_background_image\":true,\"profile_image_url\":\"http:\\/\\/pbs.twimg.com\\/profile_images\\/1090373434301771776\\/VXlrJsVs_normal.jpg\",\"profile_image_url_https\":\"https:\\/\\/pbs.twimg.com\\/profile_images\\/1090373434301771776\\/VXlrJsVs_normal.jpg\",\"profile_banner_url\":\"https:\\/\\/pbs.twimg.com\\/profile_banners\\/727115509129302016\\/1523481242\",\"default_profile\":true,\"default_profile_image\":false,\"following\":null,\"follow_request_sent\":null,\"notifications\":null},\"geo\":null,\"coordinates\":null,\"place\":null,\"contributors\":null,\"is_quote_status\":false,\"quote_count\":0,\"reply_count\":0,\"retweet_count\":0,\"favorite_count\":0,\"entities\":{\"hashtags\":[],\"urls\":[],\"user_mentions\":[],\"symbols\":[]},\"favorited\":false,\"retweeted\":false,\"filter_level\":\"low\",\"lang\":\"ja\",\"timestamp_ms\":\"1575806758867\"}\n",
      "\n",
      "{\"created_at\":\"Sun Dec 08 12:06:04 +0000 2019\",\"id\":1203646924970168320,\"id_str\":\"1203646924970168320\",\"text\":\"RT @rswebsols: What Is PyCharm? Why It's Become Mandatory for Python Programmer? #programming #rswebsols https:\\/\\/t.co\\/XPILWPUFyd\",\"source\":\"\\u003ca href=\\\"http:\\/\\/aaroncuddeback.com\\\" rel=\\\"nofollow\\\"\\u003eaaroncuddeback.com\\u003c\\/a\\u003e\",\"truncated\":false,\"in_reply_to_status_id\":null,\"in_reply_to_status_id_str\":null,\"in_reply_to_user_id\":null,\"in_reply_to_user_id_str\":null,\"in_reply_to_screen_name\":null,\"user\":{\"id\":310897418,\"id_str\":\"310897418\",\"name\":\"Aaron Cuddeback\",\"screen_name\":\"AaronCuddeback\",\"location\":\"Sacramento, CA\",\"url\":\"https:\\/\\/aaroncuddeback.com\",\"description\":\"Midlife Coder\\nFather, Entrepreneur, CEO, Software Developer, Dreamer, Fearless.\\nowner: http:\\/\\/urbanrisedesigns.com\",\"translator_type\":\"none\",\"protected\":false,\"verified\":false,\"followers_count\":10411,\"friends_count\":129,\"listed_count\":238,\"favourites_count\":36692,\"statuses_count\":678305,\"created_at\":\"Sat Jun 04 14:57:55 +0000 2011\",\"utc_offset\":null,\"time_zone\":null,\"geo_enabled\":false,\"lang\":null,\"contributors_enabled\":false,\"is_translator\":false,\"profile_background_color\":\"000000\",\"profile_background_image_url\":\"http:\\/\\/abs.twimg.com\\/images\\/themes\\/theme1\\/bg.png\",\"profile_background_image_url_https\":\"https:\\/\\/abs.twimg.com\\/images\\/themes\\/theme1\\/bg.png\",\"profile_background_tile\":false,\"profile_link_color\":\"FF691F\",\"profile_sidebar_border_color\":\"000000\",\"profile_sidebar_fill_color\":\"000000\",\"profile_text_color\":\"000000\",\"profile_use_background_image\":false,\"profile_image_url\":\"http:\\/\\/pbs.twimg.com\\/profile_images\\/1046220721087688704\\/RidtZYBx_normal.jpg\",\"profile_image_url_https\":\"https:\\/\\/pbs.twimg.com\\/profile_images\\/1046220721087688704\\/RidtZYBx_normal.jpg\",\"profile_banner_url\":\"https:\\/\\/pbs.twimg.com\\/profile_banners\\/310897418\\/1572929508\",\"default_profile\":false,\"default_profile_image\":false,\"following\":null,\"follow_request_sent\":null,\"notifications\":null},\"geo\":null,\"coordinates\":null,\"place\":null,\"contributors\":null,\"retweeted_status\":{\"created_at\":\"Sun Dec 08 12:05:02 +0000 2019\",\"id\":1203646664294187008,\"id_str\":\"1203646664294187008\",\"text\":\"What Is PyCharm? Why It's Become Mandatory for Python Programmer? #programming #rswebsols https:\\/\\/t.co\\/XPILWPUFyd\",\"source\":\"\\u003ca href=\\\"https:\\/\\/buffer.com\\\" rel=\\\"nofollow\\\"\\u003eBuffer\\u003c\\/a\\u003e\",\"truncated\":false,\"in_reply_to_status_id\":null,\"in_reply_to_status_id_str\":null,\"in_reply_to_user_id\":null,\"in_reply_to_user_id_str\":null,\"in_reply_to_screen_name\":null,\"user\":{\"id\":142696768,\"id_str\":\"142696768\",\"name\":\"RS Web Solutions\",\"screen_name\":\"rswebsols\",\"location\":\"Global\",\"url\":\"https:\\/\\/www.rswebsols.com\\/\",\"description\":\"We are a Web Resource Library providing tips, tutorials and reviews on Web Design, Programming, SEO, Marketing, eCommerce, Technology, Gadgets, Apps & Software.\",\"translator_type\":\"none\",\"protected\":false,\"verified\":false,\"followers_count\":3141,\"friends_count\":1740,\"listed_count\":634,\"favourites_count\":628,\"statuses_count\":56387,\"created_at\":\"Tue May 11 14:23:07 +0000 2010\",\"utc_offset\":null,\"time_zone\":null,\"geo_enabled\":false,\"lang\":null,\"contributors_enabled\":false,\"is_translator\":false,\"profile_background_color\":\"F6F6F6\",\"profile_background_image_url\":\"http:\\/\\/abs.twimg.com\\/images\\/themes\\/theme15\\/bg.png\",\"profile_background_image_url_https\":\"https:\\/\\/abs.twimg.com\\/images\\/themes\\/theme15\\/bg.png\",\"profile_background_tile\":true,\"profile_link_color\":\"EB9812\",\"profile_sidebar_border_color\":\"918561\",\"profile_sidebar_fill_color\":\"E5DBBC\",\"profile_text_color\":\"333333\",\"profile_use_background_image\":true,\"profile_image_url\":\"http:\\/\\/pbs.twimg.com\\/profile_images\\/1194646668617994242\\/vBP3ViUF_normal.jpg\",\"profile_image_url_https\":\"https:\\/\\/pbs.twimg.com\\/profile_images\\/1194646668617994242\\/vBP3ViUF_normal.jpg\",\"profile_banner_url\":\"https:\\/\\/pbs.twimg.com\\/profile_banners\\/142696768\\/1438344870\",\"default_profile\":false,\"default_profile_image\":false,\"following\":null,\"follow_request_sent\":null,\"notifications\":null},\"geo\":null,\"coordinates\":null,\"place\":null,\"contributors\":null,\"is_quote_status\":false,\"quote_count\":0,\"reply_count\":0,\"retweet_count\":1,\"favorite_count\":0,\"entities\":{\"hashtags\":[{\"text\":\"programming\",\"indices\":[66,78]},{\"text\":\"rswebsols\",\"indices\":[79,89]}],\"urls\":[{\"url\":\"https:\\/\\/t.co\\/XPILWPUFyd\",\"expanded_url\":\"https:\\/\\/buff.ly\\/2X1Jjri\",\"display_url\":\"buff.ly\\/2X1Jjri\",\"indices\":[90,113]}],\"user_mentions\":[],\"symbols\":[]},\"favorited\":false,\"retweeted\":false,\"possibly_sensitive\":false,\"filter_level\":\"low\",\"lang\":\"en\"},\"is_quote_status\":false,\"quote_count\":0,\"reply_count\":0,\"retweet_count\":0,\"favorite_count\":0,\"entities\":{\"hashtags\":[{\"text\":\"programming\",\"indices\":[81,93]},{\"text\":\"rswebsols\",\"indices\":[94,104]}],\"urls\":[{\"url\":\"https:\\/\\/t.co\\/XPILWPUFyd\",\"expanded_url\":\"https:\\/\\/buff.ly\\/2X1Jjri\",\"display_url\":\"buff.ly\\/2X1Jjri\",\"indices\":[105,128]}],\"user_mentions\":[{\"screen_name\":\"rswebsols\",\"name\":\"RS Web Solutions\",\"id\":142696768,\"id_str\":\"142696768\",\"indices\":[3,13]}],\"symbols\":[]},\"favorited\":false,\"retweeted\":false,\"possibly_sensitive\":false,\"filter_level\":\"low\",\"lang\":\"en\",\"timestamp_ms\":\"1575806764248\"}\n",
      "\n",
      "{\"created_at\":\"Sun Dec 08 12:06:05 +0000 2019\",\"id\":1203646932201230341,\"id_str\":\"1203646932201230341\",\"text\":\"@Doc_Unchained No that\\u2019s singular for the lead actor from Monty Python right?!\",\"display_text_range\":[15,78],\"source\":\"\\u003ca href=\\\"http:\\/\\/twitter.com\\/download\\/iphone\\\" rel=\\\"nofollow\\\"\\u003eTwitter for iPhone\\u003c\\/a\\u003e\",\"truncated\":false,\"in_reply_to_status_id\":1203444620501405697,\"in_reply_to_status_id_str\":\"1203444620501405697\",\"in_reply_to_user_id\":954143295848042496,\"in_reply_to_user_id_str\":\"954143295848042496\",\"in_reply_to_screen_name\":\"Doc_Unchained\",\"user\":{\"id\":628524342,\"id_str\":\"628524342\",\"name\":\"Carl Schmidt MD\",\"screen_name\":\"cancersurg\",\"location\":\"Morgantown, WV\",\"url\":null,\"description\":\"Surgical oncologist. Music and whisky fan. Opinions my own.\",\"translator_type\":\"none\",\"protected\":false,\"verified\":false,\"followers_count\":804,\"friends_count\":541,\"listed_count\":11,\"favourites_count\":285,\"statuses_count\":470,\"created_at\":\"Fri Jul 06 14:52:32 +0000 2012\",\"utc_offset\":null,\"time_zone\":null,\"geo_enabled\":false,\"lang\":null,\"contributors_enabled\":false,\"is_translator\":false,\"profile_background_color\":\"C0DEED\",\"profile_background_image_url\":\"http:\\/\\/abs.twimg.com\\/images\\/themes\\/theme1\\/bg.png\",\"profile_background_image_url_https\":\"https:\\/\\/abs.twimg.com\\/images\\/themes\\/theme1\\/bg.png\",\"profile_background_tile\":false,\"profile_link_color\":\"1DA1F2\",\"profile_sidebar_border_color\":\"C0DEED\",\"profile_sidebar_fill_color\":\"DDEEF6\",\"profile_text_color\":\"333333\",\"profile_use_background_image\":true,\"profile_image_url\":\"http:\\/\\/pbs.twimg.com\\/profile_images\\/1053242223465238529\\/GZa_jTZ0_normal.jpg\",\"profile_image_url_https\":\"https:\\/\\/pbs.twimg.com\\/profile_images\\/1053242223465238529\\/GZa_jTZ0_normal.jpg\",\"profile_banner_url\":\"https:\\/\\/pbs.twimg.com\\/profile_banners\\/628524342\\/1361552761\",\"default_profile\":true,\"default_profile_image\":false,\"following\":null,\"follow_request_sent\":null,\"notifications\":null},\"geo\":null,\"coordinates\":null,\"place\":null,\"contributors\":null,\"is_quote_status\":false,\"quote_count\":0,\"reply_count\":0,\"retweet_count\":0,\"favorite_count\":0,\"entities\":{\"hashtags\":[],\"urls\":[],\"user_mentions\":[{\"screen_name\":\"Doc_Unchained\",\"name\":\"Joshua Novy MD, MBA \\ud83e\\ude7a \\ud83d\\udc8a\\ud83e\\ude78\\ud83e\\ude79\",\"id\":954143295848042496,\"id_str\":\"954143295848042496\",\"indices\":[0,14]}],\"symbols\":[]},\"favorited\":false,\"retweeted\":false,\"filter_level\":\"low\",\"lang\":\"en\",\"timestamp_ms\":\"1575806765972\"}\n",
      "\n"
     ]
    },
    {
     "name": "stdout",
     "output_type": "stream",
     "text": [
      "{\"created_at\":\"Sun Dec 08 12:06:09 +0000 2019\",\"id\":1203646947007049728,\"id_str\":\"1203646947007049728\",\"text\":\"RT @maxjcm: #Robots are a rapidly growing part of the modern #healthcare landscape\\n\\n#AI #ML #Robotics #BigData #PredictiveAnalytics #IIoT #\\u2026\",\"source\":\"\\u003ca href=\\\"https:\\/\\/curiousluke.com\\\" rel=\\\"nofollow\\\"\\u003eRTML\\u003c\\/a\\u003e\",\"truncated\":false,\"in_reply_to_status_id\":null,\"in_reply_to_status_id_str\":null,\"in_reply_to_user_id\":null,\"in_reply_to_user_id_str\":null,\"in_reply_to_screen_name\":null,\"user\":{\"id\":1064108650271309826,\"id_str\":\"1064108650271309826\",\"name\":\"Curious Luke\",\"screen_name\":\"TheCuriousLuke\",\"location\":\"Switzerland\",\"url\":null,\"description\":\"Luke identifies himself as a: #MachineLearning #Enthusiast \\ud83e\\udd16 \\u00a6 #Biotechnology #Student \\ud83e\\udd13\\u00a0\\u00a6 former #Chemical #Labtechnician \\ud83d\\udc68\\u200d\\ud83d\\udd2c \\u00a6  #Human\",\"translator_type\":\"none\",\"protected\":false,\"verified\":false,\"followers_count\":3519,\"friends_count\":262,\"listed_count\":113,\"favourites_count\":79,\"statuses_count\":129454,\"created_at\":\"Sun Nov 18 10:50:47 +0000 2018\",\"utc_offset\":null,\"time_zone\":null,\"geo_enabled\":false,\"lang\":null,\"contributors_enabled\":false,\"is_translator\":false,\"profile_background_color\":\"000000\",\"profile_background_image_url\":\"http:\\/\\/abs.twimg.com\\/images\\/themes\\/theme1\\/bg.png\",\"profile_background_image_url_https\":\"https:\\/\\/abs.twimg.com\\/images\\/themes\\/theme1\\/bg.png\",\"profile_background_tile\":false,\"profile_link_color\":\"00D620\",\"profile_sidebar_border_color\":\"000000\",\"profile_sidebar_fill_color\":\"000000\",\"profile_text_color\":\"000000\",\"profile_use_background_image\":false,\"profile_image_url\":\"http:\\/\\/pbs.twimg.com\\/profile_images\\/1146772070547841024\\/u1aKb70M_normal.jpg\",\"profile_image_url_https\":\"https:\\/\\/pbs.twimg.com\\/profile_images\\/1146772070547841024\\/u1aKb70M_normal.jpg\",\"profile_banner_url\":\"https:\\/\\/pbs.twimg.com\\/profile_banners\\/1064108650271309826\\/1542538859\",\"default_profile\":false,\"default_profile_image\":false,\"following\":null,\"follow_request_sent\":null,\"notifications\":null},\"geo\":null,\"coordinates\":null,\"place\":null,\"contributors\":null,\"retweeted_status\":{\"created_at\":\"Thu Dec 05 13:16:55 +0000 2019\",\"id\":1202577593620475905,\"id_str\":\"1202577593620475905\",\"text\":\"#Robots are a rapidly growing part of the modern #healthcare landscape\\n\\n#AI #ML #Robotics #BigData\\u2026 https:\\/\\/t.co\\/BHZCWUjUVh\",\"source\":\"\\u003ca href=\\\"http:\\/\\/twitter.com\\\" rel=\\\"nofollow\\\"\\u003eTwitter Web Client\\u003c\\/a\\u003e\",\"truncated\":true,\"in_reply_to_status_id\":null,\"in_reply_to_status_id_str\":null,\"in_reply_to_user_id\":null,\"in_reply_to_user_id_str\":null,\"in_reply_to_screen_name\":null,\"user\":{\"id\":313525664,\"id_str\":\"313525664\",\"name\":\"John C. Maxwell III\",\"screen_name\":\"maxjcm\",\"location\":null,\"url\":\"http:\\/\\/www.constellationpartners.net\\/\",\"description\":\"Investor #AI #Blockchain #Fintech, Speaker, Author, Father, Sailor  http:\\/\\/paper.li\\/maxjcm\\/1360812539\",\"translator_type\":\"none\",\"protected\":false,\"verified\":false,\"followers_count\":8391,\"friends_count\":5465,\"listed_count\":1381,\"favourites_count\":3900,\"statuses_count\":25869,\"created_at\":\"Wed Jun 08 19:56:30 +0000 2011\",\"utc_offset\":null,\"time_zone\":null,\"geo_enabled\":false,\"lang\":null,\"contributors_enabled\":false,\"is_translator\":false,\"profile_background_color\":\"E6D9B2\",\"profile_background_image_url\":\"http:\\/\\/abs.twimg.com\\/images\\/themes\\/theme1\\/bg.png\",\"profile_background_image_url_https\":\"https:\\/\\/abs.twimg.com\\/images\\/themes\\/theme1\\/bg.png\",\"profile_background_tile\":true,\"profile_link_color\":\"1B95E0\",\"profile_sidebar_border_color\":\"FFFFFF\",\"profile_sidebar_fill_color\":\"5D998C\",\"profile_text_color\":\"73AF94\",\"profile_use_background_image\":true,\"profile_image_url\":\"http:\\/\\/pbs.twimg.com\\/profile_images\\/792090957294473216\\/Y_csGnOy_normal.jpg\",\"profile_image_url_https\":\"https:\\/\\/pbs.twimg.com\\/profile_images\\/792090957294473216\\/Y_csGnOy_normal.jpg\",\"profile_banner_url\":\"https:\\/\\/pbs.twimg.com\\/profile_banners\\/313525664\\/1475842931\",\"default_profile\":false,\"default_profile_image\":false,\"following\":null,\"follow_request_sent\":null,\"notifications\":null},\"geo\":null,\"coordinates\":null,\"place\":null,\"contributors\":null,\"is_quote_status\":false,\"extended_tweet\":{\"full_text\":\"#Robots are a rapidly growing part of the modern #healthcare landscape\\n\\n#AI #ML #Robotics #BigData #PredictiveAnalytics #IIoT #innovation #MachineLearning #NLP @chboursin @HaroldSinnott @kashthefuturist @Julez_Norton @kuriharan @antgrasso @Xbond49\\n\\nhttps:\\/\\/t.co\\/7877teQbQc\",\"display_text_range\":[0,272],\"entities\":{\"hashtags\":[{\"text\":\"Robots\",\"indices\":[0,7]},{\"text\":\"healthcare\",\"indices\":[49,60]},{\"text\":\"AI\",\"indices\":[72,75]},{\"text\":\"ML\",\"indices\":[76,79]},{\"text\":\"Robotics\",\"indices\":[80,89]},{\"text\":\"BigData\",\"indices\":[90,98]},{\"text\":\"PredictiveAnalytics\",\"indices\":[99,119]},{\"text\":\"IIoT\",\"indices\":[120,125]},{\"text\":\"innovation\",\"indices\":[126,137]},{\"text\":\"MachineLearning\",\"indices\":[138,154]},{\"text\":\"NLP\",\"indices\":[155,159]}],\"urls\":[{\"url\":\"https:\\/\\/t.co\\/7877teQbQc\",\"expanded_url\":\"https:\\/\\/hitconsultant.net\\/2019\\/12\\/05\\/the-growing-emergence-of-robots-in-healthcare-key-opportunities-benefits\\/#.XekCrS2ZPOQ\",\"display_url\":\"hitconsultant.net\\/2019\\/12\\/05\\/the\\u2026\",\"indices\":[249,272]}],\"user_mentions\":[{\"screen_name\":\"chboursin\",\"name\":\"Christine Boursin \\ud83c\\udf10\",\"id\":3169916217,\"id_str\":\"3169916217\",\"indices\":[160,170]},{\"screen_name\":\"HaroldSinnott\",\"name\":\"Harold Sinnott \\ud83c\\uddfa\\ud83c\\uddf8\",\"id\":202590356,\"id_str\":\"202590356\",\"indices\":[171,185]},{\"screen_name\":\"kashthefuturist\",\"name\":\"Dr. Kash Sirinanda\",\"id\":925112851894865920,\"id_str\":\"925112851894865920\",\"indices\":[186,202]},{\"screen_name\":\"Julez_Norton\",\"name\":\"Julia Norton\",\"id\":99807930,\"id_str\":\"99807930\",\"indices\":[203,216]},{\"screen_name\":\"kuriharan\",\"name\":\"Kohei Kurihara   Blockchain CMO\",\"id\":135922295,\"id_str\":\"135922295\",\"indices\":[217,227]},{\"screen_name\":\"antgrasso\",\"name\":\"Antonio Grasso\",\"id\":4338452835,\"id_str\":\"4338452835\",\"indices\":[228,238]},{\"screen_name\":\"Xbond49\",\"name\":\"Xavier Gomez\",\"id\":235684766,\"id_str\":\"235684766\",\"indices\":[239,247]}],\"symbols\":[]}},\"quote_count\":0,\"reply_count\":0,\"retweet_count\":7,\"favorite_count\":6,\"entities\":{\"hashtags\":[{\"text\":\"Robots\",\"indices\":[0,7]},{\"text\":\"healthcare\",\"indices\":[49,60]},{\"text\":\"AI\",\"indices\":[72,75]},{\"text\":\"ML\",\"indices\":[76,79]},{\"text\":\"Robotics\",\"indices\":[80,89]},{\"text\":\"BigData\",\"indices\":[90,98]}],\"urls\":[{\"url\":\"https:\\/\\/t.co\\/BHZCWUjUVh\",\"expanded_url\":\"https:\\/\\/twitter.com\\/i\\/web\\/status\\/1202577593620475905\",\"display_url\":\"twitter.com\\/i\\/web\\/status\\/1\\u2026\",\"indices\":[100,123]}],\"user_mentions\":[],\"symbols\":[]},\"favorited\":false,\"retweeted\":false,\"possibly_sensitive\":false,\"filter_level\":\"low\",\"lang\":\"en\"},\"is_quote_status\":false,\"quote_count\":0,\"reply_count\":0,\"retweet_count\":0,\"favorite_count\":0,\"entities\":{\"hashtags\":[{\"text\":\"Robots\",\"indices\":[12,19]},{\"text\":\"healthcare\",\"indices\":[61,72]},{\"text\":\"AI\",\"indices\":[84,87]},{\"text\":\"ML\",\"indices\":[88,91]},{\"text\":\"Robotics\",\"indices\":[92,101]},{\"text\":\"BigData\",\"indices\":[102,110]},{\"text\":\"PredictiveAnalytics\",\"indices\":[111,131]},{\"text\":\"IIoT\",\"indices\":[132,137]}],\"urls\":[],\"user_mentions\":[{\"screen_name\":\"maxjcm\",\"name\":\"John C. Maxwell III\",\"id\":313525664,\"id_str\":\"313525664\",\"indices\":[3,10]}],\"symbols\":[]},\"favorited\":false,\"retweeted\":false,\"filter_level\":\"low\",\"lang\":\"en\",\"timestamp_ms\":\"1575806769502\"}\n",
      "\n",
      "{\"created_at\":\"Sun Dec 08 12:06:10 +0000 2019\",\"id\":1203646951238983685,\"id_str\":\"1203646951238983685\",\"text\":\"RT @nixcraft: Poll:  Python will stop supporting Python version 2 on January 1, 2020.  Are you ready for the end of Python 2?\",\"source\":\"\\u003ca href=\\\"http:\\/\\/twitter.com\\/download\\/android\\\" rel=\\\"nofollow\\\"\\u003eTwitter for Android\\u003c\\/a\\u003e\",\"truncated\":false,\"in_reply_to_status_id\":null,\"in_reply_to_status_id_str\":null,\"in_reply_to_user_id\":null,\"in_reply_to_user_id_str\":null,\"in_reply_to_screen_name\":null,\"user\":{\"id\":214049600,\"id_str\":\"214049600\",\"name\":\"Honey\",\"screen_name\":\"0xNikhilRathor\",\"location\":\"[death\\/espionage]\",\"url\":\"https:\\/\\/bit.ly\\/2OohOW7\",\"description\":\"Covert Cyber Espionage,Digital Forensics, Reversing, Fighting Disinformation & for Privacy Rights.\\nPGP :~https:\\/\\/keybase.io\\/0xnikhilrathor.\",\"translator_type\":\"none\",\"protected\":false,\"verified\":false,\"followers_count\":881,\"friends_count\":431,\"listed_count\":27,\"favourites_count\":47102,\"statuses_count\":95372,\"created_at\":\"Wed Nov 10 12:52:51 +0000 2010\",\"utc_offset\":null,\"time_zone\":null,\"geo_enabled\":true,\"lang\":null,\"contributors_enabled\":false,\"is_translator\":false,\"profile_background_color\":\"000000\",\"profile_background_image_url\":\"http:\\/\\/abs.twimg.com\\/images\\/themes\\/theme1\\/bg.png\",\"profile_background_image_url_https\":\"https:\\/\\/abs.twimg.com\\/images\\/themes\\/theme1\\/bg.png\",\"profile_background_tile\":false,\"profile_link_color\":\"7FDBB6\",\"profile_sidebar_border_color\":\"000000\",\"profile_sidebar_fill_color\":\"000000\",\"profile_text_color\":\"000000\",\"profile_use_background_image\":false,\"profile_image_url\":\"http:\\/\\/pbs.twimg.com\\/profile_images\\/1202181903979204608\\/CrcwxLkO_normal.jpg\",\"profile_image_url_https\":\"https:\\/\\/pbs.twimg.com\\/profile_images\\/1202181903979204608\\/CrcwxLkO_normal.jpg\",\"profile_banner_url\":\"https:\\/\\/pbs.twimg.com\\/profile_banners\\/214049600\\/1575455293\",\"default_profile\":false,\"default_profile_image\":false,\"following\":null,\"follow_request_sent\":null,\"notifications\":null},\"geo\":null,\"coordinates\":null,\"place\":null,\"contributors\":null,\"retweeted_status\":{\"created_at\":\"Sun Dec 08 11:49:08 +0000 2019\",\"id\":1203642663838175238,\"id_str\":\"1203642663838175238\",\"text\":\"Poll:  Python will stop supporting Python version 2 on January 1, 2020.  Are you ready for the end of Python 2?\",\"source\":\"\\u003ca href=\\\"https:\\/\\/mobile.twitter.com\\\" rel=\\\"nofollow\\\"\\u003eTwitter Web App\\u003c\\/a\\u003e\",\"truncated\":false,\"in_reply_to_status_id\":null,\"in_reply_to_status_id_str\":null,\"in_reply_to_user_id\":null,\"in_reply_to_user_id_str\":null,\"in_reply_to_screen_name\":null,\"user\":{\"id\":17484680,\"id_str\":\"17484680\",\"name\":\"The Best Linux Blog In the Unixverse\",\"screen_name\":\"nixcraft\",\"location\":\"Rootland\",\"url\":\"https:\\/\\/www.cyberciti.biz\\/\",\"description\":\"Enjoy Linux & Unix-like systems? Open source software and programming? Sysadmin & DevOps work? Follow us to make the most of sysadmin-hood.\",\"translator_type\":\"none\",\"protected\":false,\"verified\":false,\"followers_count\":153085,\"friends_count\":325,\"listed_count\":3358,\"favourites_count\":36625,\"statuses_count\":39918,\"created_at\":\"Wed Nov 19 12:12:37 +0000 2008\",\"utc_offset\":null,\"time_zone\":null,\"geo_enabled\":false,\"lang\":null,\"contributors_enabled\":false,\"is_translator\":false,\"profile_background_color\":\"ACDED6\",\"profile_background_image_url\":\"http:\\/\\/abs.twimg.com\\/images\\/themes\\/theme18\\/bg.gif\",\"profile_background_image_url_https\":\"https:\\/\\/abs.twimg.com\\/images\\/themes\\/theme18\\/bg.gif\",\"profile_background_tile\":true,\"profile_link_color\":\"91D2FA\",\"profile_sidebar_border_color\":\"000000\",\"profile_sidebar_fill_color\":\"000000\",\"profile_text_color\":\"000000\",\"profile_use_background_image\":true,\"profile_image_url\":\"http:\\/\\/pbs.twimg.com\\/profile_images\\/854775743552696324\\/JPAU_2aP_normal.jpg\",\"profile_image_url_https\":\"https:\\/\\/pbs.twimg.com\\/profile_images\\/854775743552696324\\/JPAU_2aP_normal.jpg\",\"profile_banner_url\":\"https:\\/\\/pbs.twimg.com\\/profile_banners\\/17484680\\/1486494500\",\"default_profile\":false,\"default_profile_image\":false,\"following\":null,\"follow_request_sent\":null,\"notifications\":null},\"geo\":null,\"coordinates\":null,\"place\":null,\"contributors\":null,\"is_quote_status\":false,\"quote_count\":1,\"reply_count\":9,\"retweet_count\":9,\"favorite_count\":11,\"entities\":{\"hashtags\":[],\"urls\":[],\"user_mentions\":[],\"symbols\":[]},\"favorited\":false,\"retweeted\":false,\"filter_level\":\"low\",\"lang\":\"en\"},\"is_quote_status\":false,\"quote_count\":0,\"reply_count\":0,\"retweet_count\":0,\"favorite_count\":0,\"entities\":{\"hashtags\":[],\"urls\":[],\"user_mentions\":[{\"screen_name\":\"nixcraft\",\"name\":\"The Best Linux Blog In the Unixverse\",\"id\":17484680,\"id_str\":\"17484680\",\"indices\":[3,12]}],\"symbols\":[]},\"favorited\":false,\"retweeted\":false,\"filter_level\":\"low\",\"lang\":\"en\",\"timestamp_ms\":\"1575806770511\"}\n",
      "\n"
     ]
    },
    {
     "name": "stdout",
     "output_type": "stream",
     "text": [
      "{\"created_at\":\"Sun Dec 08 12:06:11 +0000 2019\",\"id\":1203646955945111552,\"id_str\":\"1203646955945111552\",\"text\":\"RT @dragos_crintea: Day 10: #100DaysOfCode progress: today I worked on Bite 110. Type conversion and exception handling: https:\\/\\/t.co\\/0Z1Q0\\u2026\",\"source\":\"\\u003ca href=\\\"https:\\/\\/yathinbabu.github.io\\\" rel=\\\"nofollow\\\"\\u003exael bot\\u003c\\/a\\u003e\",\"truncated\":false,\"in_reply_to_status_id\":null,\"in_reply_to_status_id_str\":null,\"in_reply_to_user_id\":null,\"in_reply_to_user_id_str\":null,\"in_reply_to_screen_name\":null,\"user\":{\"id\":1127829883013361665,\"id_str\":\"1127829883013361665\",\"name\":\"xael bot\",\"screen_name\":\"xaelbot\",\"location\":\"Earth\",\"url\":null,\"description\":\"My creator @yathinbabu\",\"translator_type\":\"none\",\"protected\":false,\"verified\":false,\"followers_count\":1081,\"friends_count\":255,\"listed_count\":39,\"favourites_count\":64555,\"statuses_count\":175966,\"created_at\":\"Mon May 13 06:56:12 +0000 2019\",\"utc_offset\":null,\"time_zone\":null,\"geo_enabled\":false,\"lang\":null,\"contributors_enabled\":false,\"is_translator\":false,\"profile_background_color\":\"F5F8FA\",\"profile_background_image_url\":\"\",\"profile_background_image_url_https\":\"\",\"profile_background_tile\":false,\"profile_link_color\":\"1DA1F2\",\"profile_sidebar_border_color\":\"C0DEED\",\"profile_sidebar_fill_color\":\"DDEEF6\",\"profile_text_color\":\"333333\",\"profile_use_background_image\":true,\"profile_image_url\":\"http:\\/\\/pbs.twimg.com\\/profile_images\\/1127896024737935360\\/J0nVyVyF_normal.png\",\"profile_image_url_https\":\"https:\\/\\/pbs.twimg.com\\/profile_images\\/1127896024737935360\\/J0nVyVyF_normal.png\",\"default_profile\":true,\"default_profile_image\":false,\"following\":null,\"follow_request_sent\":null,\"notifications\":null},\"geo\":null,\"coordinates\":null,\"place\":null,\"contributors\":null,\"retweeted_status\":{\"created_at\":\"Sun Dec 08 12:05:49 +0000 2019\",\"id\":1203646864370884608,\"id_str\":\"1203646864370884608\",\"text\":\"Day 10: #100DaysOfCode progress: today I worked on Bite 110. Type conversion and exception handling:\\u2026 https:\\/\\/t.co\\/yFc6fRvBtj\",\"source\":\"\\u003ca href=\\\"http:\\/\\/twitter.com\\\" rel=\\\"nofollow\\\"\\u003eTwitter Web Client\\u003c\\/a\\u003e\",\"truncated\":true,\"in_reply_to_status_id\":null,\"in_reply_to_status_id_str\":null,\"in_reply_to_user_id\":null,\"in_reply_to_user_id_str\":null,\"in_reply_to_screen_name\":null,\"user\":{\"id\":188360734,\"id_str\":\"188360734\",\"name\":\"Dragos Crintea\",\"screen_name\":\"dragos_crintea\",\"location\":\"London, England\",\"url\":null,\"description\":null,\"translator_type\":\"none\",\"protected\":false,\"verified\":false,\"followers_count\":51,\"friends_count\":332,\"listed_count\":0,\"favourites_count\":126,\"statuses_count\":129,\"created_at\":\"Wed Sep 08 15:08:19 +0000 2010\",\"utc_offset\":null,\"time_zone\":null,\"geo_enabled\":false,\"lang\":null,\"contributors_enabled\":false,\"is_translator\":false,\"profile_background_color\":\"C0DEED\",\"profile_background_image_url\":\"http:\\/\\/abs.twimg.com\\/images\\/themes\\/theme1\\/bg.png\",\"profile_background_image_url_https\":\"https:\\/\\/abs.twimg.com\\/images\\/themes\\/theme1\\/bg.png\",\"profile_background_tile\":false,\"profile_link_color\":\"1DA1F2\",\"profile_sidebar_border_color\":\"C0DEED\",\"profile_sidebar_fill_color\":\"DDEEF6\",\"profile_text_color\":\"333333\",\"profile_use_background_image\":true,\"profile_image_url\":\"http:\\/\\/pbs.twimg.com\\/profile_images\\/1121706791820234754\\/Cv89s9yR_normal.png\",\"profile_image_url_https\":\"https:\\/\\/pbs.twimg.com\\/profile_images\\/1121706791820234754\\/Cv89s9yR_normal.png\",\"default_profile\":true,\"default_profile_image\":false,\"following\":null,\"follow_request_sent\":null,\"notifications\":null},\"geo\":null,\"coordinates\":null,\"place\":null,\"contributors\":null,\"is_quote_status\":false,\"extended_tweet\":{\"full_text\":\"Day 10: #100DaysOfCode progress: today I worked on Bite 110. Type conversion and exception handling: https:\\/\\/t.co\\/0Z1Q0czZrv - code more #Python @PyBites https:\\/\\/t.co\\/dxrPQnzDDq\\nAnother one bites the dust :) Same thinking different implementation, not sure which one is better :)\",\"display_text_range\":[0,279],\"entities\":{\"hashtags\":[{\"text\":\"100DaysOfCode\",\"indices\":[8,22]},{\"text\":\"Python\",\"indices\":[137,144]}],\"urls\":[{\"url\":\"https:\\/\\/t.co\\/0Z1Q0czZrv\",\"expanded_url\":\"https:\\/\\/codechalleng.es\\/bites\\/110\",\"display_url\":\"codechalleng.es\\/bites\\/110\",\"indices\":[101,124]},{\"url\":\"https:\\/\\/t.co\\/dxrPQnzDDq\",\"expanded_url\":\"http:\\/\\/CodeChalleng.es\",\"display_url\":\"CodeChalleng.es\",\"indices\":[154,177]}],\"user_mentions\":[{\"screen_name\":\"pybites\",\"name\":\"Pybites\",\"id\":812103603116613632,\"id_str\":\"812103603116613632\",\"indices\":[145,153]}],\"symbols\":[]}},\"quote_count\":0,\"reply_count\":0,\"retweet_count\":3,\"favorite_count\":1,\"entities\":{\"hashtags\":[{\"text\":\"100DaysOfCode\",\"indices\":[8,22]}],\"urls\":[{\"url\":\"https:\\/\\/t.co\\/yFc6fRvBtj\",\"expanded_url\":\"https:\\/\\/twitter.com\\/i\\/web\\/status\\/1203646864370884608\",\"display_url\":\"twitter.com\\/i\\/web\\/status\\/1\\u2026\",\"indices\":[102,125]}],\"user_mentions\":[],\"symbols\":[]},\"favorited\":false,\"retweeted\":false,\"possibly_sensitive\":false,\"filter_level\":\"low\",\"lang\":\"en\"},\"is_quote_status\":false,\"quote_count\":0,\"reply_count\":0,\"retweet_count\":0,\"favorite_count\":0,\"entities\":{\"hashtags\":[{\"text\":\"100DaysOfCode\",\"indices\":[28,42]}],\"urls\":[],\"user_mentions\":[{\"screen_name\":\"dragos_crintea\",\"name\":\"Dragos Crintea\",\"id\":188360734,\"id_str\":\"188360734\",\"indices\":[3,18]}],\"symbols\":[]},\"favorited\":false,\"retweeted\":false,\"filter_level\":\"low\",\"lang\":\"en\",\"timestamp_ms\":\"1575806771633\"}\n",
      "\n",
      "{\"created_at\":\"Sun Dec 08 12:06:12 +0000 2019\",\"id\":1203646960290254848,\"id_str\":\"1203646960290254848\",\"text\":\"RT @4th_No_Fon: \\u2716\\ufe0epython\\u9045\\u3044\\n\\n\\u2b55\\ufe0fpython\\u306f\\u8a00\\u8a9e\\u3067\\u306f\\u306a\\u3044\\n\\n\\u25cepython\\u306f\\u4ed6\\u8a00\\u8a9e\\u3067\\u66f8\\u304b\\u308c\\u305f\\u30e2\\u30b8\\u30e5\\u30fc\\u30eb\\u3092\\u7d71\\u5408\\u7684\\u306b\\u547c\\u3073\\u51fa\\u3059\\u30a4\\u30f3\\u30bf\\u30fc\\u30d5\\u30a7\\u30fc\\u30b9\\u3068\\u3057\\u3066\\u306eDSL\\u3067\\u3042\\u308a\\u3001\\u300c\\u305f\\u307e\\u305f\\u307e\\u300d\\u30c1\\u30e5\\u30fc\\u30ea\\u30f3\\u30b0\\u5b8c\\u5168\\u306b\\u306a\\u3063\\u3066\\u3057\\u307e\\u3063\\u305f\\u70ba\\u3001\\u5b8c\\u5168\\u6027\\u3092\\u60aa\\u7528\\u3057\\u3066python\\u3067\\u8a08\\u7b97\\u3092\\u3057\\u3088\\u3046\\u2026\",\"source\":\"\\u003ca href=\\\"http:\\/\\/twitter.com\\/#!\\/download\\/ipad\\\" rel=\\\"nofollow\\\"\\u003eTwitter for iPad\\u003c\\/a\\u003e\",\"truncated\":false,\"in_reply_to_status_id\":null,\"in_reply_to_status_id_str\":null,\"in_reply_to_user_id\":null,\"in_reply_to_user_id_str\":null,\"in_reply_to_screen_name\":null,\"user\":{\"id\":2529855798,\"id_str\":\"2529855798\",\"name\":\"\\u25b3\\u3059\\u306a\\u30fc\\u308b\\u25b3\",\"screen_name\":\"Snaar_4683\",\"location\":null,\"url\":null,\"description\":\"Snaar(\\u30b9\\u30ca\\u30fc\\u30eb)\\u3067\\u3059\\u3002\\u30b2\\u30fc\\u30e0\\u3068\\u97f3\\u697d\\u3068\\u60f0\\u7720\\u304c\\u5927\\u597d\\u304d\\u3002UK Hardcore\\u3084J-core\\u3092\\u30e1\\u30a4\\u30f3\\u306bDJ\\u3057\\u3066\\u307e\\u3059\\u3002\\u9332\\u3063\\u305fMix\\u7f6e\\u304d\\u5834\\u2192 http:\\/\\/m.mixcloud.com\\/Snaar_DJ\\/\",\"translator_type\":\"none\",\"protected\":false,\"verified\":false,\"followers_count\":356,\"friends_count\":613,\"listed_count\":0,\"favourites_count\":91720,\"statuses_count\":22438,\"created_at\":\"Wed May 28 12:06:11 +0000 2014\",\"utc_offset\":null,\"time_zone\":null,\"geo_enabled\":false,\"lang\":null,\"contributors_enabled\":false,\"is_translator\":false,\"profile_background_color\":\"000000\",\"profile_background_image_url\":\"http:\\/\\/abs.twimg.com\\/images\\/themes\\/theme1\\/bg.png\",\"profile_background_image_url_https\":\"https:\\/\\/abs.twimg.com\\/images\\/themes\\/theme1\\/bg.png\",\"profile_background_tile\":false,\"profile_link_color\":\"981CEB\",\"profile_sidebar_border_color\":\"000000\",\"profile_sidebar_fill_color\":\"000000\",\"profile_text_color\":\"000000\",\"profile_use_background_image\":false,\"profile_image_url\":\"http:\\/\\/pbs.twimg.com\\/profile_images\\/915193575612194816\\/GKCySuYl_normal.jpg\",\"profile_image_url_https\":\"https:\\/\\/pbs.twimg.com\\/profile_images\\/915193575612194816\\/GKCySuYl_normal.jpg\",\"profile_banner_url\":\"https:\\/\\/pbs.twimg.com\\/profile_banners\\/2529855798\\/1573093121\",\"default_profile\":false,\"default_profile_image\":false,\"following\":null,\"follow_request_sent\":null,\"notifications\":null},\"geo\":null,\"coordinates\":null,\"place\":null,\"contributors\":null,\"retweeted_status\":{\"created_at\":\"Sun Dec 08 08:33:33 +0000 2019\",\"id\":1203593444595122176,\"id_str\":\"1203593444595122176\",\"text\":\"\\u2716\\ufe0epython\\u9045\\u3044\\n\\n\\u2b55\\ufe0fpython\\u306f\\u8a00\\u8a9e\\u3067\\u306f\\u306a\\u3044\\n\\n\\u25cepython\\u306f\\u4ed6\\u8a00\\u8a9e\\u3067\\u66f8\\u304b\\u308c\\u305f\\u30e2\\u30b8\\u30e5\\u30fc\\u30eb\\u3092\\u7d71\\u5408\\u7684\\u306b\\u547c\\u3073\\u51fa\\u3059\\u30a4\\u30f3\\u30bf\\u30fc\\u30d5\\u30a7\\u30fc\\u30b9\\u3068\\u3057\\u3066\\u306eDSL\\u3067\\u3042\\u308a\\u3001\\u300c\\u305f\\u307e\\u305f\\u307e\\u300d\\u30c1\\u30e5\\u30fc\\u30ea\\u30f3\\u30b0\\u5b8c\\u5168\\u306b\\u306a\\u3063\\u3066\\u3057\\u307e\\u3063\\u305f\\u70ba\\u3001\\u5b8c\\u5168\\u6027\\u3092\\u60aa\\u7528\\u3057\\u3066python\\u3067\\u8a08\\u7b97\\u3092\\u3057\\u3088\\u3046\\u3068\\u3059\\u308b\\u4e0d\\u5c4a\\u304d\\u8005\\u304c\\u5f8c\\u3092\\u7d76\\u305f\\u306a\\u3044\",\"source\":\"\\u003ca href=\\\"http:\\/\\/twitter.com\\/download\\/iphone\\\" rel=\\\"nofollow\\\"\\u003eTwitter for iPhone\\u003c\\/a\\u003e\",\"truncated\":false,\"in_reply_to_status_id\":null,\"in_reply_to_status_id_str\":null,\"in_reply_to_user_id\":null,\"in_reply_to_user_id_str\":null,\"in_reply_to_screen_name\":null,\"user\":{\"id\":2562716629,\"id_str\":\"2562716629\",\"name\":\"\\u9650\\u754c\\u9662\\u751f\\u5438\\u8840\\u9b3c\\u306e\\u30fc\\u3075\\u3049\\u3093\\u3055\\u3093\",\"screen_name\":\"4th_No_Fon\",\"location\":null,\"url\":\"https:\\/\\/www.nicovideo.jp\\/mylist\\/66884451\",\"description\":\"\\u304a\\u9152\\u98f2\\u3080\\u306e\\u96e3\\u3057\\u3044\\u306b\\u3083\\u3093\",\"translator_type\":\"none\",\"protected\":false,\"verified\":false,\"followers_count\":1200,\"friends_count\":1750,\"listed_count\":49,\"favourites_count\":69850,\"statuses_count\":111427,\"created_at\":\"Thu Jun 12 04:49:58 +0000 2014\",\"utc_offset\":null,\"time_zone\":null,\"geo_enabled\":false,\"lang\":null,\"contributors_enabled\":false,\"is_translator\":false,\"profile_background_color\":\"642D8B\",\"profile_background_image_url\":\"http:\\/\\/abs.twimg.com\\/images\\/themes\\/theme10\\/bg.gif\",\"profile_background_image_url_https\":\"https:\\/\\/abs.twimg.com\\/images\\/themes\\/theme10\\/bg.gif\",\"profile_background_tile\":true,\"profile_link_color\":\"4A913C\",\"profile_sidebar_border_color\":\"65B0DA\",\"profile_sidebar_fill_color\":\"7AC3EE\",\"profile_text_color\":\"3D1957\",\"profile_use_background_image\":true,\"profile_image_url\":\"http:\\/\\/pbs.twimg.com\\/profile_images\\/765789847701315587\\/atf56UjP_normal.jpg\",\"profile_image_url_https\":\"https:\\/\\/pbs.twimg.com\\/profile_images\\/765789847701315587\\/atf56UjP_normal.jpg\",\"profile_banner_url\":\"https:\\/\\/pbs.twimg.com\\/profile_banners\\/2562716629\\/1499742672\",\"default_profile\":false,\"default_profile_image\":false,\"following\":null,\"follow_request_sent\":null,\"notifications\":null},\"geo\":null,\"coordinates\":null,\"place\":null,\"contributors\":null,\"is_quote_status\":false,\"quote_count\":27,\"reply_count\":0,\"retweet_count\":610,\"favorite_count\":1758,\"entities\":{\"hashtags\":[],\"urls\":[],\"user_mentions\":[],\"symbols\":[]},\"favorited\":false,\"retweeted\":false,\"filter_level\":\"low\",\"lang\":\"ja\"},\"is_quote_status\":false,\"quote_count\":0,\"reply_count\":0,\"retweet_count\":0,\"favorite_count\":0,\"entities\":{\"hashtags\":[],\"urls\":[],\"user_mentions\":[{\"screen_name\":\"4th_No_Fon\",\"name\":\"\\u9650\\u754c\\u9662\\u751f\\u5438\\u8840\\u9b3c\\u306e\\u30fc\\u3075\\u3049\\u3093\\u3055\\u3093\",\"id\":2562716629,\"id_str\":\"2562716629\",\"indices\":[3,14]}],\"symbols\":[]},\"favorited\":false,\"retweeted\":false,\"filter_level\":\"low\",\"lang\":\"ja\",\"timestamp_ms\":\"1575806772669\"}\n",
      "\n"
     ]
    },
    {
     "name": "stdout",
     "output_type": "stream",
     "text": [
      "{\"created_at\":\"Sun Dec 08 12:06:15 +0000 2019\",\"id\":1203646972613120002,\"id_str\":\"1203646972613120002\",\"text\":\"RT @McMcgregory: @Fisher85M: The Simplified #AI Landscape \\u007bInfographic\\u007d\\n\\n#ArtificialIntelligence #chatbots #NLP @Fisher85M #MachineLearning\\u2026\",\"source\":\"\\u003ca href=\\\"https:\\/\\/pardoe.ai\\\" rel=\\\"nofollow\\\"\\u003ePardoeAIapp\\u003c\\/a\\u003e\",\"truncated\":false,\"in_reply_to_status_id\":null,\"in_reply_to_status_id_str\":null,\"in_reply_to_user_id\":null,\"in_reply_to_user_id_str\":null,\"in_reply_to_screen_name\":null,\"user\":{\"id\":2607404960,\"id_str\":\"2607404960\",\"name\":\"Prof Andy Pardoe #intoAI #AI\",\"screen_name\":\"Pardoe_AI\",\"location\":\"Global\",\"url\":\"http:\\/\\/Pardoe.AI\",\"description\":\"#AI Global #Influencer, #Speaker, #Advisor & #Investor. Founder @Informed_AI Group @into_AI @Awards_AI @Events_AI @Neurons_AI @RoboticsandAI #intoAI #B2B\",\"translator_type\":\"none\",\"protected\":false,\"verified\":false,\"followers_count\":13747,\"friends_count\":6733,\"listed_count\":3093,\"favourites_count\":2828,\"statuses_count\":175359,\"created_at\":\"Sun Jul 06 12:41:41 +0000 2014\",\"utc_offset\":null,\"time_zone\":null,\"geo_enabled\":false,\"lang\":null,\"contributors_enabled\":false,\"is_translator\":false,\"profile_background_color\":\"000000\",\"profile_background_image_url\":\"http:\\/\\/abs.twimg.com\\/images\\/themes\\/theme1\\/bg.png\",\"profile_background_image_url_https\":\"https:\\/\\/abs.twimg.com\\/images\\/themes\\/theme1\\/bg.png\",\"profile_background_tile\":false,\"profile_link_color\":\"9266CC\",\"profile_sidebar_border_color\":\"000000\",\"profile_sidebar_fill_color\":\"000000\",\"profile_text_color\":\"000000\",\"profile_use_background_image\":false,\"profile_image_url\":\"http:\\/\\/pbs.twimg.com\\/profile_images\\/1033645456306458624\\/K7uIEHSL_normal.jpg\",\"profile_image_url_https\":\"https:\\/\\/pbs.twimg.com\\/profile_images\\/1033645456306458624\\/K7uIEHSL_normal.jpg\",\"profile_banner_url\":\"https:\\/\\/pbs.twimg.com\\/profile_banners\\/2607404960\\/1573131676\",\"default_profile\":false,\"default_profile_image\":false,\"following\":null,\"follow_request_sent\":null,\"notifications\":null},\"geo\":null,\"coordinates\":null,\"place\":null,\"contributors\":null,\"retweeted_status\":{\"created_at\":\"Sun Dec 08 07:06:15 +0000 2019\",\"id\":1203571474893811712,\"id_str\":\"1203571474893811712\",\"text\":\"@Fisher85M: The Simplified #AI Landscape \\u007bInfographic\\u007d\\n\\n#ArtificialIntelligence #chatbots #NLP @Fisher85M #MachineLearning #NeuralNetwor\\u2026\",\"source\":\"\\u003ca href=\\\"http:\\/\\/www.kebliny.pl\\\" rel=\\\"nofollow\\\"\\u003eJozek\\u003c\\/a\\u003e\",\"truncated\":false,\"in_reply_to_status_id\":null,\"in_reply_to_status_id_str\":null,\"in_reply_to_user_id\":846014785246367745,\"in_reply_to_user_id_str\":\"846014785246367745\",\"in_reply_to_screen_name\":\"Fisher85M\",\"user\":{\"id\":3099404849,\"id_str\":\"3099404849\",\"name\":\"Jozef McGregory\",\"screen_name\":\"McMcgregory\",\"location\":\"Silicon Valley\",\"url\":null,\"description\":\"Big Data Pro and Machine Learning Expert. Creator of Big Data field and the most modern programming languages.\",\"translator_type\":\"none\",\"protected\":false,\"verified\":false,\"followers_count\":3862,\"friends_count\":36,\"listed_count\":2458,\"favourites_count\":197911,\"statuses_count\":28035,\"created_at\":\"Fri Mar 20 14:30:42 +0000 2015\",\"utc_offset\":null,\"time_zone\":null,\"geo_enabled\":false,\"lang\":null,\"contributors_enabled\":false,\"is_translator\":false,\"profile_background_color\":\"C0DEED\",\"profile_background_image_url\":\"http:\\/\\/abs.twimg.com\\/images\\/themes\\/theme1\\/bg.png\",\"profile_background_image_url_https\":\"https:\\/\\/abs.twimg.com\\/images\\/themes\\/theme1\\/bg.png\",\"profile_background_tile\":false,\"profile_link_color\":\"1DA1F2\",\"profile_sidebar_border_color\":\"C0DEED\",\"profile_sidebar_fill_color\":\"DDEEF6\",\"profile_text_color\":\"333333\",\"profile_use_background_image\":true,\"profile_image_url\":\"http:\\/\\/pbs.twimg.com\\/profile_images\\/578927253100318721\\/IWplgHGJ_normal.jpeg\",\"profile_image_url_https\":\"https:\\/\\/pbs.twimg.com\\/profile_images\\/578927253100318721\\/IWplgHGJ_normal.jpeg\",\"profile_banner_url\":\"https:\\/\\/pbs.twimg.com\\/profile_banners\\/3099404849\\/1426862300\",\"default_profile\":true,\"default_profile_image\":false,\"following\":null,\"follow_request_sent\":null,\"notifications\":null},\"geo\":null,\"coordinates\":null,\"place\":null,\"contributors\":null,\"is_quote_status\":false,\"quote_count\":0,\"reply_count\":0,\"retweet_count\":1,\"favorite_count\":3,\"entities\":{\"hashtags\":[{\"text\":\"AI\",\"indices\":[27,30]},{\"text\":\"ArtificialIntelligence\",\"indices\":[56,79]},{\"text\":\"chatbots\",\"indices\":[80,89]},{\"text\":\"NLP\",\"indices\":[90,94]},{\"text\":\"MachineLearning\",\"indices\":[106,122]},{\"text\":\"NeuralNetwor\",\"indices\":[123,136]}],\"urls\":[],\"user_mentions\":[{\"screen_name\":\"Fisher85M\",\"name\":\"Michael Fisher\",\"id\":846014785246367745,\"id_str\":\"846014785246367745\",\"indices\":[0,10]},{\"screen_name\":\"Fisher85M\",\"name\":\"Michael Fisher\",\"id\":846014785246367745,\"id_str\":\"846014785246367745\",\"indices\":[95,105]}],\"symbols\":[]},\"favorited\":false,\"retweeted\":false,\"filter_level\":\"low\",\"lang\":\"en\"},\"is_quote_status\":false,\"quote_count\":0,\"reply_count\":0,\"retweet_count\":0,\"favorite_count\":0,\"entities\":{\"hashtags\":[{\"text\":\"AI\",\"indices\":[44,47]},{\"text\":\"ArtificialIntelligence\",\"indices\":[73,96]},{\"text\":\"chatbots\",\"indices\":[97,106]},{\"text\":\"NLP\",\"indices\":[107,111]},{\"text\":\"MachineLearning\",\"indices\":[123,139]}],\"urls\":[],\"user_mentions\":[{\"screen_name\":\"McMcgregory\",\"name\":\"Jozef McGregory\",\"id\":3099404849,\"id_str\":\"3099404849\",\"indices\":[3,15]},{\"screen_name\":\"Fisher85M\",\"name\":\"Michael Fisher\",\"id\":846014785246367745,\"id_str\":\"846014785246367745\",\"indices\":[17,27]},{\"screen_name\":\"Fisher85M\",\"name\":\"Michael Fisher\",\"id\":846014785246367745,\"id_str\":\"846014785246367745\",\"indices\":[112,122]}],\"symbols\":[]},\"favorited\":false,\"retweeted\":false,\"filter_level\":\"low\",\"lang\":\"en\",\"timestamp_ms\":\"1575806775607\"}\n",
      "\n",
      "{\"created_at\":\"Sun Dec 08 12:06:31 +0000 2019\",\"id\":1203647037268484098,\"id_str\":\"1203647037268484098\",\"text\":\"@Singletoned I really like the with statement. That was post decorators. I still love Python :-)\",\"display_text_range\":[13,96],\"source\":\"\\u003ca href=\\\"https:\\/\\/about.twitter.com\\/products\\/tweetdeck\\\" rel=\\\"nofollow\\\"\\u003eTweetDeck\\u003c\\/a\\u003e\",\"truncated\":false,\"in_reply_to_status_id\":1203253124649103360,\"in_reply_to_status_id_str\":\"1203253124649103360\",\"in_reply_to_user_id\":5610212,\"in_reply_to_user_id_str\":\"5610212\",\"in_reply_to_screen_name\":\"Singletoned\",\"user\":{\"id\":11486902,\"id_str\":\"11486902\",\"name\":\"Michael Foord\",\"screen_name\":\"voidspace\",\"location\":\"Northampton, UK\",\"url\":\"https:\\/\\/agileabstractions.com\",\"description\":\"A hoopy Frood. Python Trainer & Consultant. Process engineering. PSF Fellow. Fnord. Python Core Dev. Technomancer and Dudeist Priest. GenX. Also @mfoord He\\/him.\",\"translator_type\":\"none\",\"protected\":false,\"verified\":false,\"followers_count\":8917,\"friends_count\":1567,\"listed_count\":621,\"favourites_count\":3122,\"statuses_count\":48799,\"created_at\":\"Mon Dec 24 20:33:38 +0000 2007\",\"utc_offset\":null,\"time_zone\":null,\"geo_enabled\":true,\"lang\":null,\"contributors_enabled\":false,\"is_translator\":false,\"profile_background_color\":\"9AE4E8\",\"profile_background_image_url\":\"http:\\/\\/abs.twimg.com\\/images\\/themes\\/theme1\\/bg.png\",\"profile_background_image_url_https\":\"https:\\/\\/abs.twimg.com\\/images\\/themes\\/theme1\\/bg.png\",\"profile_background_tile\":false,\"profile_link_color\":\"0084B4\",\"profile_sidebar_border_color\":\"BDDCAD\",\"profile_sidebar_fill_color\":\"DDFFCC\",\"profile_text_color\":\"333333\",\"profile_use_background_image\":true,\"profile_image_url\":\"http:\\/\\/pbs.twimg.com\\/profile_images\\/1169663804537487361\\/xV7gIDiF_normal.jpg\",\"profile_image_url_https\":\"https:\\/\\/pbs.twimg.com\\/profile_images\\/1169663804537487361\\/xV7gIDiF_normal.jpg\",\"profile_banner_url\":\"https:\\/\\/pbs.twimg.com\\/profile_banners\\/11486902\\/1567704560\",\"default_profile\":false,\"default_profile_image\":false,\"following\":null,\"follow_request_sent\":null,\"notifications\":null},\"geo\":null,\"coordinates\":null,\"place\":null,\"contributors\":null,\"is_quote_status\":false,\"quote_count\":0,\"reply_count\":0,\"retweet_count\":0,\"favorite_count\":0,\"entities\":{\"hashtags\":[],\"urls\":[],\"user_mentions\":[{\"screen_name\":\"Singletoned\",\"name\":\"Ed Singleton\",\"id\":5610212,\"id_str\":\"5610212\",\"indices\":[0,12]}],\"symbols\":[]},\"favorited\":false,\"retweeted\":false,\"filter_level\":\"low\",\"lang\":\"en\",\"timestamp_ms\":\"1575806791022\"}\n",
      "\n"
     ]
    },
    {
     "ename": "KeyboardInterrupt",
     "evalue": "",
     "output_type": "error",
     "traceback": [
      "\u001b[1;31m---------------------------------------------------------------------------\u001b[0m",
      "\u001b[1;31mWantReadError\u001b[0m                             Traceback (most recent call last)",
      "\u001b[1;32m~\\Anaconda3\\lib\\site-packages\\urllib3\\contrib\\pyopenssl.py\u001b[0m in \u001b[0;36mrecv_into\u001b[1;34m(self, *args, **kwargs)\u001b[0m\n\u001b[0;32m    279\u001b[0m         \u001b[1;32mtry\u001b[0m\u001b[1;33m:\u001b[0m\u001b[1;33m\u001b[0m\u001b[0m\n\u001b[1;32m--> 280\u001b[1;33m             \u001b[1;32mreturn\u001b[0m \u001b[0mself\u001b[0m\u001b[1;33m.\u001b[0m\u001b[0mconnection\u001b[0m\u001b[1;33m.\u001b[0m\u001b[0mrecv_into\u001b[0m\u001b[1;33m(\u001b[0m\u001b[1;33m*\u001b[0m\u001b[0margs\u001b[0m\u001b[1;33m,\u001b[0m \u001b[1;33m**\u001b[0m\u001b[0mkwargs\u001b[0m\u001b[1;33m)\u001b[0m\u001b[1;33m\u001b[0m\u001b[0m\n\u001b[0m\u001b[0;32m    281\u001b[0m         \u001b[1;32mexcept\u001b[0m \u001b[0mOpenSSL\u001b[0m\u001b[1;33m.\u001b[0m\u001b[0mSSL\u001b[0m\u001b[1;33m.\u001b[0m\u001b[0mSysCallError\u001b[0m \u001b[1;32mas\u001b[0m \u001b[0me\u001b[0m\u001b[1;33m:\u001b[0m\u001b[1;33m\u001b[0m\u001b[0m\n",
      "\u001b[1;32m~\\Anaconda3\\lib\\site-packages\\OpenSSL\\SSL.py\u001b[0m in \u001b[0;36mrecv_into\u001b[1;34m(self, buffer, nbytes, flags)\u001b[0m\n\u001b[0;32m   1813\u001b[0m             \u001b[0mresult\u001b[0m \u001b[1;33m=\u001b[0m \u001b[0m_lib\u001b[0m\u001b[1;33m.\u001b[0m\u001b[0mSSL_read\u001b[0m\u001b[1;33m(\u001b[0m\u001b[0mself\u001b[0m\u001b[1;33m.\u001b[0m\u001b[0m_ssl\u001b[0m\u001b[1;33m,\u001b[0m \u001b[0mbuf\u001b[0m\u001b[1;33m,\u001b[0m \u001b[0mnbytes\u001b[0m\u001b[1;33m)\u001b[0m\u001b[1;33m\u001b[0m\u001b[0m\n\u001b[1;32m-> 1814\u001b[1;33m         \u001b[0mself\u001b[0m\u001b[1;33m.\u001b[0m\u001b[0m_raise_ssl_error\u001b[0m\u001b[1;33m(\u001b[0m\u001b[0mself\u001b[0m\u001b[1;33m.\u001b[0m\u001b[0m_ssl\u001b[0m\u001b[1;33m,\u001b[0m \u001b[0mresult\u001b[0m\u001b[1;33m)\u001b[0m\u001b[1;33m\u001b[0m\u001b[0m\n\u001b[0m\u001b[0;32m   1815\u001b[0m \u001b[1;33m\u001b[0m\u001b[0m\n",
      "\u001b[1;32m~\\Anaconda3\\lib\\site-packages\\OpenSSL\\SSL.py\u001b[0m in \u001b[0;36m_raise_ssl_error\u001b[1;34m(self, ssl, result)\u001b[0m\n\u001b[0;32m   1613\u001b[0m         \u001b[1;32mif\u001b[0m \u001b[0merror\u001b[0m \u001b[1;33m==\u001b[0m \u001b[0m_lib\u001b[0m\u001b[1;33m.\u001b[0m\u001b[0mSSL_ERROR_WANT_READ\u001b[0m\u001b[1;33m:\u001b[0m\u001b[1;33m\u001b[0m\u001b[0m\n\u001b[1;32m-> 1614\u001b[1;33m             \u001b[1;32mraise\u001b[0m \u001b[0mWantReadError\u001b[0m\u001b[1;33m(\u001b[0m\u001b[1;33m)\u001b[0m\u001b[1;33m\u001b[0m\u001b[0m\n\u001b[0m\u001b[0;32m   1615\u001b[0m         \u001b[1;32melif\u001b[0m \u001b[0merror\u001b[0m \u001b[1;33m==\u001b[0m \u001b[0m_lib\u001b[0m\u001b[1;33m.\u001b[0m\u001b[0mSSL_ERROR_WANT_WRITE\u001b[0m\u001b[1;33m:\u001b[0m\u001b[1;33m\u001b[0m\u001b[0m\n",
      "\u001b[1;31mWantReadError\u001b[0m: ",
      "\nDuring handling of the above exception, another exception occurred:\n",
      "\u001b[1;31mKeyboardInterrupt\u001b[0m                         Traceback (most recent call last)",
      "\u001b[1;32m<ipython-input-29-8b6be2634453>\u001b[0m in \u001b[0;36m<module>\u001b[1;34m()\u001b[0m\n\u001b[0;32m     29\u001b[0m \u001b[1;33m\u001b[0m\u001b[0m\n\u001b[0;32m     30\u001b[0m     \u001b[1;31m#This line filter Twitter Streams to capture data by the keywords: 'python', 'javascript', 'ruby'\u001b[0m\u001b[1;33m\u001b[0m\u001b[1;33m\u001b[0m\u001b[0m\n\u001b[1;32m---> 31\u001b[1;33m     \u001b[0mstream\u001b[0m\u001b[1;33m.\u001b[0m\u001b[0mfilter\u001b[0m\u001b[1;33m(\u001b[0m\u001b[0mtrack\u001b[0m\u001b[1;33m=\u001b[0m\u001b[1;33m[\u001b[0m\u001b[1;34m'python'\u001b[0m\u001b[1;33m,\u001b[0m \u001b[1;34m'nlp'\u001b[0m\u001b[1;33m,\u001b[0m \u001b[1;34m'data science'\u001b[0m\u001b[1;33m,\u001b[0m\u001b[1;34m'natural language processing'\u001b[0m\u001b[1;33m]\u001b[0m\u001b[1;33m)\u001b[0m\u001b[1;33m\u001b[0m\u001b[0m\n\u001b[0m",
      "\u001b[1;32m~\\Anaconda3\\lib\\site-packages\\tweepy\\streaming.py\u001b[0m in \u001b[0;36mfilter\u001b[1;34m(self, follow, track, is_async, locations, stall_warnings, languages, encoding, filter_level)\u001b[0m\n\u001b[0;32m    451\u001b[0m             \u001b[0mself\u001b[0m\u001b[1;33m.\u001b[0m\u001b[0mbody\u001b[0m\u001b[1;33m[\u001b[0m\u001b[1;34m'filter_level'\u001b[0m\u001b[1;33m]\u001b[0m \u001b[1;33m=\u001b[0m \u001b[0mfilter_level\u001b[0m\u001b[1;33m.\u001b[0m\u001b[0mencode\u001b[0m\u001b[1;33m(\u001b[0m\u001b[0mencoding\u001b[0m\u001b[1;33m)\u001b[0m\u001b[1;33m\u001b[0m\u001b[0m\n\u001b[0;32m    452\u001b[0m         \u001b[0mself\u001b[0m\u001b[1;33m.\u001b[0m\u001b[0msession\u001b[0m\u001b[1;33m.\u001b[0m\u001b[0mparams\u001b[0m \u001b[1;33m=\u001b[0m \u001b[1;33m{\u001b[0m\u001b[1;34m'delimited'\u001b[0m\u001b[1;33m:\u001b[0m \u001b[1;34m'length'\u001b[0m\u001b[1;33m}\u001b[0m\u001b[1;33m\u001b[0m\u001b[0m\n\u001b[1;32m--> 453\u001b[1;33m         \u001b[0mself\u001b[0m\u001b[1;33m.\u001b[0m\u001b[0m_start\u001b[0m\u001b[1;33m(\u001b[0m\u001b[0mis_async\u001b[0m\u001b[1;33m)\u001b[0m\u001b[1;33m\u001b[0m\u001b[0m\n\u001b[0m\u001b[0;32m    454\u001b[0m \u001b[1;33m\u001b[0m\u001b[0m\n\u001b[0;32m    455\u001b[0m     def sitestream(self, follow, stall_warnings=False,\n",
      "\u001b[1;32m~\\Anaconda3\\lib\\site-packages\\tweepy\\streaming.py\u001b[0m in \u001b[0;36m_start\u001b[1;34m(self, is_async)\u001b[0m\n\u001b[0;32m    366\u001b[0m             \u001b[0mself\u001b[0m\u001b[1;33m.\u001b[0m\u001b[0m_thread\u001b[0m\u001b[1;33m.\u001b[0m\u001b[0mstart\u001b[0m\u001b[1;33m(\u001b[0m\u001b[1;33m)\u001b[0m\u001b[1;33m\u001b[0m\u001b[0m\n\u001b[0;32m    367\u001b[0m         \u001b[1;32melse\u001b[0m\u001b[1;33m:\u001b[0m\u001b[1;33m\u001b[0m\u001b[0m\n\u001b[1;32m--> 368\u001b[1;33m             \u001b[0mself\u001b[0m\u001b[1;33m.\u001b[0m\u001b[0m_run\u001b[0m\u001b[1;33m(\u001b[0m\u001b[1;33m)\u001b[0m\u001b[1;33m\u001b[0m\u001b[0m\n\u001b[0m\u001b[0;32m    369\u001b[0m \u001b[1;33m\u001b[0m\u001b[0m\n\u001b[0;32m    370\u001b[0m     \u001b[1;32mdef\u001b[0m \u001b[0mon_closed\u001b[0m\u001b[1;33m(\u001b[0m\u001b[0mself\u001b[0m\u001b[1;33m,\u001b[0m \u001b[0mresp\u001b[0m\u001b[1;33m)\u001b[0m\u001b[1;33m:\u001b[0m\u001b[1;33m\u001b[0m\u001b[0m\n",
      "\u001b[1;32m~\\Anaconda3\\lib\\site-packages\\tweepy\\streaming.py\u001b[0m in \u001b[0;36m_run\u001b[1;34m(self)\u001b[0m\n\u001b[0;32m    267\u001b[0m                     \u001b[0mself\u001b[0m\u001b[1;33m.\u001b[0m\u001b[0msnooze_time\u001b[0m \u001b[1;33m=\u001b[0m \u001b[0mself\u001b[0m\u001b[1;33m.\u001b[0m\u001b[0msnooze_time_step\u001b[0m\u001b[1;33m\u001b[0m\u001b[0m\n\u001b[0;32m    268\u001b[0m                     \u001b[0mself\u001b[0m\u001b[1;33m.\u001b[0m\u001b[0mlistener\u001b[0m\u001b[1;33m.\u001b[0m\u001b[0mon_connect\u001b[0m\u001b[1;33m(\u001b[0m\u001b[1;33m)\u001b[0m\u001b[1;33m\u001b[0m\u001b[0m\n\u001b[1;32m--> 269\u001b[1;33m                     \u001b[0mself\u001b[0m\u001b[1;33m.\u001b[0m\u001b[0m_read_loop\u001b[0m\u001b[1;33m(\u001b[0m\u001b[0mresp\u001b[0m\u001b[1;33m)\u001b[0m\u001b[1;33m\u001b[0m\u001b[0m\n\u001b[0m\u001b[0;32m    270\u001b[0m             \u001b[1;32mexcept\u001b[0m \u001b[1;33m(\u001b[0m\u001b[0mTimeout\u001b[0m\u001b[1;33m,\u001b[0m \u001b[0mssl\u001b[0m\u001b[1;33m.\u001b[0m\u001b[0mSSLError\u001b[0m\u001b[1;33m)\u001b[0m \u001b[1;32mas\u001b[0m \u001b[0mexc\u001b[0m\u001b[1;33m:\u001b[0m\u001b[1;33m\u001b[0m\u001b[0m\n\u001b[0;32m    271\u001b[0m                 \u001b[1;31m# This is still necessary, as a SSLError can actually be\u001b[0m\u001b[1;33m\u001b[0m\u001b[1;33m\u001b[0m\u001b[0m\n",
      "\u001b[1;32m~\\Anaconda3\\lib\\site-packages\\tweepy\\streaming.py\u001b[0m in \u001b[0;36m_read_loop\u001b[1;34m(self, resp)\u001b[0m\n\u001b[0;32m    317\u001b[0m             \u001b[0mlength\u001b[0m \u001b[1;33m=\u001b[0m \u001b[1;36m0\u001b[0m\u001b[1;33m\u001b[0m\u001b[0m\n\u001b[0;32m    318\u001b[0m             \u001b[1;32mwhile\u001b[0m \u001b[1;32mnot\u001b[0m \u001b[0mresp\u001b[0m\u001b[1;33m.\u001b[0m\u001b[0mraw\u001b[0m\u001b[1;33m.\u001b[0m\u001b[0mclosed\u001b[0m\u001b[1;33m:\u001b[0m\u001b[1;33m\u001b[0m\u001b[0m\n\u001b[1;32m--> 319\u001b[1;33m                 \u001b[0mline\u001b[0m \u001b[1;33m=\u001b[0m \u001b[0mbuf\u001b[0m\u001b[1;33m.\u001b[0m\u001b[0mread_line\u001b[0m\u001b[1;33m(\u001b[0m\u001b[1;33m)\u001b[0m\u001b[1;33m\u001b[0m\u001b[0m\n\u001b[0m\u001b[0;32m    320\u001b[0m                 \u001b[0mstripped_line\u001b[0m \u001b[1;33m=\u001b[0m \u001b[0mline\u001b[0m\u001b[1;33m.\u001b[0m\u001b[0mstrip\u001b[0m\u001b[1;33m(\u001b[0m\u001b[1;33m)\u001b[0m \u001b[1;32mif\u001b[0m \u001b[0mline\u001b[0m \u001b[1;32melse\u001b[0m \u001b[0mline\u001b[0m \u001b[1;31m# line is sometimes None so we need to check here\u001b[0m\u001b[1;33m\u001b[0m\u001b[0m\n\u001b[0;32m    321\u001b[0m                 \u001b[1;32mif\u001b[0m \u001b[1;32mnot\u001b[0m \u001b[0mstripped_line\u001b[0m\u001b[1;33m:\u001b[0m\u001b[1;33m\u001b[0m\u001b[0m\n",
      "\u001b[1;32m~\\Anaconda3\\lib\\site-packages\\tweepy\\streaming.py\u001b[0m in \u001b[0;36mread_line\u001b[1;34m(self, sep)\u001b[0m\n\u001b[0;32m    179\u001b[0m             \u001b[1;32melse\u001b[0m\u001b[1;33m:\u001b[0m\u001b[1;33m\u001b[0m\u001b[0m\n\u001b[0;32m    180\u001b[0m                 \u001b[0mstart\u001b[0m \u001b[1;33m=\u001b[0m \u001b[0mlen\u001b[0m\u001b[1;33m(\u001b[0m\u001b[0mself\u001b[0m\u001b[1;33m.\u001b[0m\u001b[0m_buffer\u001b[0m\u001b[1;33m)\u001b[0m\u001b[1;33m\u001b[0m\u001b[0m\n\u001b[1;32m--> 181\u001b[1;33m             \u001b[0mself\u001b[0m\u001b[1;33m.\u001b[0m\u001b[0m_buffer\u001b[0m \u001b[1;33m+=\u001b[0m \u001b[0mself\u001b[0m\u001b[1;33m.\u001b[0m\u001b[0m_stream\u001b[0m\u001b[1;33m.\u001b[0m\u001b[0mread\u001b[0m\u001b[1;33m(\u001b[0m\u001b[0mself\u001b[0m\u001b[1;33m.\u001b[0m\u001b[0m_chunk_size\u001b[0m\u001b[1;33m)\u001b[0m\u001b[1;33m\u001b[0m\u001b[0m\n\u001b[0m\u001b[0;32m    182\u001b[0m         \u001b[1;32mreturn\u001b[0m \u001b[0msix\u001b[0m\u001b[1;33m.\u001b[0m\u001b[0mb\u001b[0m\u001b[1;33m(\u001b[0m\u001b[1;34m''\u001b[0m\u001b[1;33m)\u001b[0m\u001b[1;33m\u001b[0m\u001b[0m\n\u001b[0;32m    183\u001b[0m \u001b[1;33m\u001b[0m\u001b[0m\n",
      "\u001b[1;32m~\\Anaconda3\\lib\\site-packages\\urllib3\\response.py\u001b[0m in \u001b[0;36mread\u001b[1;34m(self, amt, decode_content, cache_content)\u001b[0m\n\u001b[0;32m    382\u001b[0m             \u001b[1;32melse\u001b[0m\u001b[1;33m:\u001b[0m\u001b[1;33m\u001b[0m\u001b[0m\n\u001b[0;32m    383\u001b[0m                 \u001b[0mcache_content\u001b[0m \u001b[1;33m=\u001b[0m \u001b[1;32mFalse\u001b[0m\u001b[1;33m\u001b[0m\u001b[0m\n\u001b[1;32m--> 384\u001b[1;33m                 \u001b[0mdata\u001b[0m \u001b[1;33m=\u001b[0m \u001b[0mself\u001b[0m\u001b[1;33m.\u001b[0m\u001b[0m_fp\u001b[0m\u001b[1;33m.\u001b[0m\u001b[0mread\u001b[0m\u001b[1;33m(\u001b[0m\u001b[0mamt\u001b[0m\u001b[1;33m)\u001b[0m\u001b[1;33m\u001b[0m\u001b[0m\n\u001b[0m\u001b[0;32m    385\u001b[0m                 \u001b[1;32mif\u001b[0m \u001b[0mamt\u001b[0m \u001b[1;33m!=\u001b[0m \u001b[1;36m0\u001b[0m \u001b[1;32mand\u001b[0m \u001b[1;32mnot\u001b[0m \u001b[0mdata\u001b[0m\u001b[1;33m:\u001b[0m  \u001b[1;31m# Platform-specific: Buggy versions of Python.\u001b[0m\u001b[1;33m\u001b[0m\u001b[0m\n\u001b[0;32m    386\u001b[0m                     \u001b[1;31m# Close the connection when no data is returned\u001b[0m\u001b[1;33m\u001b[0m\u001b[1;33m\u001b[0m\u001b[0m\n",
      "\u001b[1;32m~\\Anaconda3\\lib\\http\\client.py\u001b[0m in \u001b[0;36mread\u001b[1;34m(self, amt)\u001b[0m\n\u001b[0;32m    447\u001b[0m             \u001b[1;31m# Amount is given, implement using readinto\u001b[0m\u001b[1;33m\u001b[0m\u001b[1;33m\u001b[0m\u001b[0m\n\u001b[0;32m    448\u001b[0m             \u001b[0mb\u001b[0m \u001b[1;33m=\u001b[0m \u001b[0mbytearray\u001b[0m\u001b[1;33m(\u001b[0m\u001b[0mamt\u001b[0m\u001b[1;33m)\u001b[0m\u001b[1;33m\u001b[0m\u001b[0m\n\u001b[1;32m--> 449\u001b[1;33m             \u001b[0mn\u001b[0m \u001b[1;33m=\u001b[0m \u001b[0mself\u001b[0m\u001b[1;33m.\u001b[0m\u001b[0mreadinto\u001b[0m\u001b[1;33m(\u001b[0m\u001b[0mb\u001b[0m\u001b[1;33m)\u001b[0m\u001b[1;33m\u001b[0m\u001b[0m\n\u001b[0m\u001b[0;32m    450\u001b[0m             \u001b[1;32mreturn\u001b[0m \u001b[0mmemoryview\u001b[0m\u001b[1;33m(\u001b[0m\u001b[0mb\u001b[0m\u001b[1;33m)\u001b[0m\u001b[1;33m[\u001b[0m\u001b[1;33m:\u001b[0m\u001b[0mn\u001b[0m\u001b[1;33m]\u001b[0m\u001b[1;33m.\u001b[0m\u001b[0mtobytes\u001b[0m\u001b[1;33m(\u001b[0m\u001b[1;33m)\u001b[0m\u001b[1;33m\u001b[0m\u001b[0m\n\u001b[0;32m    451\u001b[0m         \u001b[1;32melse\u001b[0m\u001b[1;33m:\u001b[0m\u001b[1;33m\u001b[0m\u001b[0m\n",
      "\u001b[1;32m~\\Anaconda3\\lib\\http\\client.py\u001b[0m in \u001b[0;36mreadinto\u001b[1;34m(self, b)\u001b[0m\n\u001b[0;32m    481\u001b[0m \u001b[1;33m\u001b[0m\u001b[0m\n\u001b[0;32m    482\u001b[0m         \u001b[1;32mif\u001b[0m \u001b[0mself\u001b[0m\u001b[1;33m.\u001b[0m\u001b[0mchunked\u001b[0m\u001b[1;33m:\u001b[0m\u001b[1;33m\u001b[0m\u001b[0m\n\u001b[1;32m--> 483\u001b[1;33m             \u001b[1;32mreturn\u001b[0m \u001b[0mself\u001b[0m\u001b[1;33m.\u001b[0m\u001b[0m_readinto_chunked\u001b[0m\u001b[1;33m(\u001b[0m\u001b[0mb\u001b[0m\u001b[1;33m)\u001b[0m\u001b[1;33m\u001b[0m\u001b[0m\n\u001b[0m\u001b[0;32m    484\u001b[0m \u001b[1;33m\u001b[0m\u001b[0m\n\u001b[0;32m    485\u001b[0m         \u001b[1;32mif\u001b[0m \u001b[0mself\u001b[0m\u001b[1;33m.\u001b[0m\u001b[0mlength\u001b[0m \u001b[1;32mis\u001b[0m \u001b[1;32mnot\u001b[0m \u001b[1;32mNone\u001b[0m\u001b[1;33m:\u001b[0m\u001b[1;33m\u001b[0m\u001b[0m\n",
      "\u001b[1;32m~\\Anaconda3\\lib\\http\\client.py\u001b[0m in \u001b[0;36m_readinto_chunked\u001b[1;34m(self, b)\u001b[0m\n\u001b[0;32m    576\u001b[0m         \u001b[1;32mtry\u001b[0m\u001b[1;33m:\u001b[0m\u001b[1;33m\u001b[0m\u001b[0m\n\u001b[0;32m    577\u001b[0m             \u001b[1;32mwhile\u001b[0m \u001b[1;32mTrue\u001b[0m\u001b[1;33m:\u001b[0m\u001b[1;33m\u001b[0m\u001b[0m\n\u001b[1;32m--> 578\u001b[1;33m                 \u001b[0mchunk_left\u001b[0m \u001b[1;33m=\u001b[0m \u001b[0mself\u001b[0m\u001b[1;33m.\u001b[0m\u001b[0m_get_chunk_left\u001b[0m\u001b[1;33m(\u001b[0m\u001b[1;33m)\u001b[0m\u001b[1;33m\u001b[0m\u001b[0m\n\u001b[0m\u001b[0;32m    579\u001b[0m                 \u001b[1;32mif\u001b[0m \u001b[0mchunk_left\u001b[0m \u001b[1;32mis\u001b[0m \u001b[1;32mNone\u001b[0m\u001b[1;33m:\u001b[0m\u001b[1;33m\u001b[0m\u001b[0m\n\u001b[0;32m    580\u001b[0m                     \u001b[1;32mreturn\u001b[0m \u001b[0mtotal_bytes\u001b[0m\u001b[1;33m\u001b[0m\u001b[0m\n",
      "\u001b[1;32m~\\Anaconda3\\lib\\http\\client.py\u001b[0m in \u001b[0;36m_get_chunk_left\u001b[1;34m(self)\u001b[0m\n\u001b[0;32m    544\u001b[0m                 \u001b[0mself\u001b[0m\u001b[1;33m.\u001b[0m\u001b[0m_safe_read\u001b[0m\u001b[1;33m(\u001b[0m\u001b[1;36m2\u001b[0m\u001b[1;33m)\u001b[0m  \u001b[1;31m# toss the CRLF at the end of the chunk\u001b[0m\u001b[1;33m\u001b[0m\u001b[0m\n\u001b[0;32m    545\u001b[0m             \u001b[1;32mtry\u001b[0m\u001b[1;33m:\u001b[0m\u001b[1;33m\u001b[0m\u001b[0m\n\u001b[1;32m--> 546\u001b[1;33m                 \u001b[0mchunk_left\u001b[0m \u001b[1;33m=\u001b[0m \u001b[0mself\u001b[0m\u001b[1;33m.\u001b[0m\u001b[0m_read_next_chunk_size\u001b[0m\u001b[1;33m(\u001b[0m\u001b[1;33m)\u001b[0m\u001b[1;33m\u001b[0m\u001b[0m\n\u001b[0m\u001b[0;32m    547\u001b[0m             \u001b[1;32mexcept\u001b[0m \u001b[0mValueError\u001b[0m\u001b[1;33m:\u001b[0m\u001b[1;33m\u001b[0m\u001b[0m\n\u001b[0;32m    548\u001b[0m                 \u001b[1;32mraise\u001b[0m \u001b[0mIncompleteRead\u001b[0m\u001b[1;33m(\u001b[0m\u001b[1;34mb''\u001b[0m\u001b[1;33m)\u001b[0m\u001b[1;33m\u001b[0m\u001b[0m\n",
      "\u001b[1;32m~\\Anaconda3\\lib\\http\\client.py\u001b[0m in \u001b[0;36m_read_next_chunk_size\u001b[1;34m(self)\u001b[0m\n\u001b[0;32m    504\u001b[0m     \u001b[1;32mdef\u001b[0m \u001b[0m_read_next_chunk_size\u001b[0m\u001b[1;33m(\u001b[0m\u001b[0mself\u001b[0m\u001b[1;33m)\u001b[0m\u001b[1;33m:\u001b[0m\u001b[1;33m\u001b[0m\u001b[0m\n\u001b[0;32m    505\u001b[0m         \u001b[1;31m# Read the next chunk size from the file\u001b[0m\u001b[1;33m\u001b[0m\u001b[1;33m\u001b[0m\u001b[0m\n\u001b[1;32m--> 506\u001b[1;33m         \u001b[0mline\u001b[0m \u001b[1;33m=\u001b[0m \u001b[0mself\u001b[0m\u001b[1;33m.\u001b[0m\u001b[0mfp\u001b[0m\u001b[1;33m.\u001b[0m\u001b[0mreadline\u001b[0m\u001b[1;33m(\u001b[0m\u001b[0m_MAXLINE\u001b[0m \u001b[1;33m+\u001b[0m \u001b[1;36m1\u001b[0m\u001b[1;33m)\u001b[0m\u001b[1;33m\u001b[0m\u001b[0m\n\u001b[0m\u001b[0;32m    507\u001b[0m         \u001b[1;32mif\u001b[0m \u001b[0mlen\u001b[0m\u001b[1;33m(\u001b[0m\u001b[0mline\u001b[0m\u001b[1;33m)\u001b[0m \u001b[1;33m>\u001b[0m \u001b[0m_MAXLINE\u001b[0m\u001b[1;33m:\u001b[0m\u001b[1;33m\u001b[0m\u001b[0m\n\u001b[0;32m    508\u001b[0m             \u001b[1;32mraise\u001b[0m \u001b[0mLineTooLong\u001b[0m\u001b[1;33m(\u001b[0m\u001b[1;34m\"chunk size\"\u001b[0m\u001b[1;33m)\u001b[0m\u001b[1;33m\u001b[0m\u001b[0m\n",
      "\u001b[1;32m~\\Anaconda3\\lib\\socket.py\u001b[0m in \u001b[0;36mreadinto\u001b[1;34m(self, b)\u001b[0m\n\u001b[0;32m    584\u001b[0m         \u001b[1;32mwhile\u001b[0m \u001b[1;32mTrue\u001b[0m\u001b[1;33m:\u001b[0m\u001b[1;33m\u001b[0m\u001b[0m\n\u001b[0;32m    585\u001b[0m             \u001b[1;32mtry\u001b[0m\u001b[1;33m:\u001b[0m\u001b[1;33m\u001b[0m\u001b[0m\n\u001b[1;32m--> 586\u001b[1;33m                 \u001b[1;32mreturn\u001b[0m \u001b[0mself\u001b[0m\u001b[1;33m.\u001b[0m\u001b[0m_sock\u001b[0m\u001b[1;33m.\u001b[0m\u001b[0mrecv_into\u001b[0m\u001b[1;33m(\u001b[0m\u001b[0mb\u001b[0m\u001b[1;33m)\u001b[0m\u001b[1;33m\u001b[0m\u001b[0m\n\u001b[0m\u001b[0;32m    587\u001b[0m             \u001b[1;32mexcept\u001b[0m \u001b[0mtimeout\u001b[0m\u001b[1;33m:\u001b[0m\u001b[1;33m\u001b[0m\u001b[0m\n\u001b[0;32m    588\u001b[0m                 \u001b[0mself\u001b[0m\u001b[1;33m.\u001b[0m\u001b[0m_timeout_occurred\u001b[0m \u001b[1;33m=\u001b[0m \u001b[1;32mTrue\u001b[0m\u001b[1;33m\u001b[0m\u001b[0m\n",
      "\u001b[1;32m~\\Anaconda3\\lib\\site-packages\\urllib3\\contrib\\pyopenssl.py\u001b[0m in \u001b[0;36mrecv_into\u001b[1;34m(self, *args, **kwargs)\u001b[0m\n\u001b[0;32m    290\u001b[0m                 \u001b[1;32mraise\u001b[0m\u001b[1;33m\u001b[0m\u001b[0m\n\u001b[0;32m    291\u001b[0m         \u001b[1;32mexcept\u001b[0m \u001b[0mOpenSSL\u001b[0m\u001b[1;33m.\u001b[0m\u001b[0mSSL\u001b[0m\u001b[1;33m.\u001b[0m\u001b[0mWantReadError\u001b[0m\u001b[1;33m:\u001b[0m\u001b[1;33m\u001b[0m\u001b[0m\n\u001b[1;32m--> 292\u001b[1;33m             \u001b[0mrd\u001b[0m \u001b[1;33m=\u001b[0m \u001b[0mutil\u001b[0m\u001b[1;33m.\u001b[0m\u001b[0mwait_for_read\u001b[0m\u001b[1;33m(\u001b[0m\u001b[0mself\u001b[0m\u001b[1;33m.\u001b[0m\u001b[0msocket\u001b[0m\u001b[1;33m,\u001b[0m \u001b[0mself\u001b[0m\u001b[1;33m.\u001b[0m\u001b[0msocket\u001b[0m\u001b[1;33m.\u001b[0m\u001b[0mgettimeout\u001b[0m\u001b[1;33m(\u001b[0m\u001b[1;33m)\u001b[0m\u001b[1;33m)\u001b[0m\u001b[1;33m\u001b[0m\u001b[0m\n\u001b[0m\u001b[0;32m    293\u001b[0m             \u001b[1;32mif\u001b[0m \u001b[1;32mnot\u001b[0m \u001b[0mrd\u001b[0m\u001b[1;33m:\u001b[0m\u001b[1;33m\u001b[0m\u001b[0m\n\u001b[0;32m    294\u001b[0m                 \u001b[1;32mraise\u001b[0m \u001b[0mtimeout\u001b[0m\u001b[1;33m(\u001b[0m\u001b[1;34m'The read operation timed out'\u001b[0m\u001b[1;33m)\u001b[0m\u001b[1;33m\u001b[0m\u001b[0m\n",
      "\u001b[1;32m~\\Anaconda3\\lib\\site-packages\\urllib3\\util\\wait.py\u001b[0m in \u001b[0;36mwait_for_read\u001b[1;34m(socks, timeout)\u001b[0m\n\u001b[0;32m     31\u001b[0m     \u001b[1;32mor\u001b[0m \u001b[0moptionally\u001b[0m \u001b[0ma\u001b[0m \u001b[0msingle\u001b[0m \u001b[0msocket\u001b[0m \u001b[1;32mif\u001b[0m \u001b[0mpassed\u001b[0m \u001b[1;32min\u001b[0m\u001b[1;33m.\u001b[0m \u001b[0mReturns\u001b[0m \u001b[0ma\u001b[0m \u001b[0mlist\u001b[0m \u001b[0mof\u001b[0m\u001b[1;33m\u001b[0m\u001b[0m\n\u001b[0;32m     32\u001b[0m     sockets that can be read from immediately. \"\"\"\n\u001b[1;32m---> 33\u001b[1;33m     \u001b[1;32mreturn\u001b[0m \u001b[0m_wait_for_io_events\u001b[0m\u001b[1;33m(\u001b[0m\u001b[0msocks\u001b[0m\u001b[1;33m,\u001b[0m \u001b[0mEVENT_READ\u001b[0m\u001b[1;33m,\u001b[0m \u001b[0mtimeout\u001b[0m\u001b[1;33m)\u001b[0m\u001b[1;33m\u001b[0m\u001b[0m\n\u001b[0m\u001b[0;32m     34\u001b[0m \u001b[1;33m\u001b[0m\u001b[0m\n\u001b[0;32m     35\u001b[0m \u001b[1;33m\u001b[0m\u001b[0m\n",
      "\u001b[1;32m~\\Anaconda3\\lib\\site-packages\\urllib3\\util\\wait.py\u001b[0m in \u001b[0;36m_wait_for_io_events\u001b[1;34m(socks, events, timeout)\u001b[0m\n\u001b[0;32m     24\u001b[0m             \u001b[0mselector\u001b[0m\u001b[1;33m.\u001b[0m\u001b[0mregister\u001b[0m\u001b[1;33m(\u001b[0m\u001b[0msock\u001b[0m\u001b[1;33m,\u001b[0m \u001b[0mevents\u001b[0m\u001b[1;33m)\u001b[0m\u001b[1;33m\u001b[0m\u001b[0m\n\u001b[0;32m     25\u001b[0m         return [key[0].fileobj for key in\n\u001b[1;32m---> 26\u001b[1;33m                 selector.select(timeout) if key[1] & events]\n\u001b[0m\u001b[0;32m     27\u001b[0m \u001b[1;33m\u001b[0m\u001b[0m\n\u001b[0;32m     28\u001b[0m \u001b[1;33m\u001b[0m\u001b[0m\n",
      "\u001b[1;32m~\\Anaconda3\\lib\\site-packages\\urllib3\\util\\selectors.py\u001b[0m in \u001b[0;36mselect\u001b[1;34m(self, timeout)\u001b[0m\n\u001b[0;32m    318\u001b[0m             \u001b[0mready\u001b[0m \u001b[1;33m=\u001b[0m \u001b[1;33m[\u001b[0m\u001b[1;33m]\u001b[0m\u001b[1;33m\u001b[0m\u001b[0m\n\u001b[0;32m    319\u001b[0m             r, w, _ = _syscall_wrapper(self._select, True, self._readers,\n\u001b[1;32m--> 320\u001b[1;33m                                        self._writers, timeout)\n\u001b[0m\u001b[0;32m    321\u001b[0m             \u001b[0mr\u001b[0m \u001b[1;33m=\u001b[0m \u001b[0mset\u001b[0m\u001b[1;33m(\u001b[0m\u001b[0mr\u001b[0m\u001b[1;33m)\u001b[0m\u001b[1;33m\u001b[0m\u001b[0m\n\u001b[0;32m    322\u001b[0m             \u001b[0mw\u001b[0m \u001b[1;33m=\u001b[0m \u001b[0mset\u001b[0m\u001b[1;33m(\u001b[0m\u001b[0mw\u001b[0m\u001b[1;33m)\u001b[0m\u001b[1;33m\u001b[0m\u001b[0m\n",
      "\u001b[1;32m~\\Anaconda3\\lib\\site-packages\\urllib3\\util\\selectors.py\u001b[0m in \u001b[0;36m_syscall_wrapper\u001b[1;34m(func, _, *args, **kwargs)\u001b[0m\n\u001b[0;32m     62\u001b[0m         and recalculate their timeouts. \"\"\"\n\u001b[0;32m     63\u001b[0m         \u001b[1;32mtry\u001b[0m\u001b[1;33m:\u001b[0m\u001b[1;33m\u001b[0m\u001b[0m\n\u001b[1;32m---> 64\u001b[1;33m             \u001b[1;32mreturn\u001b[0m \u001b[0mfunc\u001b[0m\u001b[1;33m(\u001b[0m\u001b[1;33m*\u001b[0m\u001b[0margs\u001b[0m\u001b[1;33m,\u001b[0m \u001b[1;33m**\u001b[0m\u001b[0mkwargs\u001b[0m\u001b[1;33m)\u001b[0m\u001b[1;33m\u001b[0m\u001b[0m\n\u001b[0m\u001b[0;32m     65\u001b[0m         \u001b[1;32mexcept\u001b[0m \u001b[1;33m(\u001b[0m\u001b[0mOSError\u001b[0m\u001b[1;33m,\u001b[0m \u001b[0mIOError\u001b[0m\u001b[1;33m,\u001b[0m \u001b[0mselect\u001b[0m\u001b[1;33m.\u001b[0m\u001b[0merror\u001b[0m\u001b[1;33m)\u001b[0m \u001b[1;32mas\u001b[0m \u001b[0me\u001b[0m\u001b[1;33m:\u001b[0m\u001b[1;33m\u001b[0m\u001b[0m\n\u001b[0;32m     66\u001b[0m             \u001b[0merrcode\u001b[0m \u001b[1;33m=\u001b[0m \u001b[1;32mNone\u001b[0m\u001b[1;33m\u001b[0m\u001b[0m\n",
      "\u001b[1;32m~\\Anaconda3\\lib\\site-packages\\urllib3\\util\\selectors.py\u001b[0m in \u001b[0;36m_select\u001b[1;34m(self, r, w, timeout)\u001b[0m\n\u001b[0;32m    308\u001b[0m         \u001b[1;32mdef\u001b[0m \u001b[0m_select\u001b[0m\u001b[1;33m(\u001b[0m\u001b[0mself\u001b[0m\u001b[1;33m,\u001b[0m \u001b[0mr\u001b[0m\u001b[1;33m,\u001b[0m \u001b[0mw\u001b[0m\u001b[1;33m,\u001b[0m \u001b[0mtimeout\u001b[0m\u001b[1;33m=\u001b[0m\u001b[1;32mNone\u001b[0m\u001b[1;33m)\u001b[0m\u001b[1;33m:\u001b[0m\u001b[1;33m\u001b[0m\u001b[0m\n\u001b[0;32m    309\u001b[0m             \u001b[1;34m\"\"\" Wrapper for select.select because timeout is a positional arg \"\"\"\u001b[0m\u001b[1;33m\u001b[0m\u001b[0m\n\u001b[1;32m--> 310\u001b[1;33m             \u001b[1;32mreturn\u001b[0m \u001b[0mselect\u001b[0m\u001b[1;33m.\u001b[0m\u001b[0mselect\u001b[0m\u001b[1;33m(\u001b[0m\u001b[0mr\u001b[0m\u001b[1;33m,\u001b[0m \u001b[0mw\u001b[0m\u001b[1;33m,\u001b[0m \u001b[1;33m[\u001b[0m\u001b[1;33m]\u001b[0m\u001b[1;33m,\u001b[0m \u001b[0mtimeout\u001b[0m\u001b[1;33m)\u001b[0m\u001b[1;33m\u001b[0m\u001b[0m\n\u001b[0m\u001b[0;32m    311\u001b[0m \u001b[1;33m\u001b[0m\u001b[0m\n\u001b[0;32m    312\u001b[0m         \u001b[1;32mdef\u001b[0m \u001b[0mselect\u001b[0m\u001b[1;33m(\u001b[0m\u001b[0mself\u001b[0m\u001b[1;33m,\u001b[0m \u001b[0mtimeout\u001b[0m\u001b[1;33m=\u001b[0m\u001b[1;32mNone\u001b[0m\u001b[1;33m)\u001b[0m\u001b[1;33m:\u001b[0m\u001b[1;33m\u001b[0m\u001b[0m\n",
      "\u001b[1;31mKeyboardInterrupt\u001b[0m: "
     ]
    }
   ],
   "source": [
    "from tweepy.streaming import StreamListener\n",
    "from tweepy import OAuthHandler\n",
    "from tweepy import Stream\n",
    "from accesskeys import mytokens\n",
    "\n",
    "ACCESS_TOKEN = mytokens.ACCESS_TOKEN\n",
    "ACCESS_SECRET = mytokens.ACCESS_SECRET\n",
    "CONSUMER_KEY = mytokens.CONSUMER_KEY\n",
    "CONSUMER_SECRET = mytokens.CONSUMER_SECRET\n",
    "\n",
    "#This is a basic listener that just prints received tweets to stdout.\n",
    "class StdOutListener(StreamListener):\n",
    "\n",
    "    def on_data(self, data):\n",
    "        print (data)\n",
    "        return True\n",
    "\n",
    "    def on_error(self, status):\n",
    "        print (status)\n",
    "\n",
    "\n",
    "if __name__ == '__main__':\n",
    "\n",
    "    #This handles Twitter authetification and the connection to Twitter Streaming API\n",
    "    l = StdOutListener()\n",
    "    auth = OAuthHandler(CONSUMER_KEY, CONSUMER_SECRET)\n",
    "    auth.set_access_token(ACCESS_TOKEN, ACCESS_SECRET)\n",
    "    stream = Stream(auth, l)\n",
    "\n",
    "    #This line filter Twitter Streams to capture data by the keywords: 'python', 'javascript', 'ruby'\n",
    "    stream.filter(track=['python', 'nlp', 'data science','natural language processing'])"
   ]
  },
  {
   "cell_type": "code",
   "execution_count": 2,
   "metadata": {},
   "outputs": [],
   "source": [
    "import json\n",
    "import pandas as pd\n",
    "import matplotlib.pyplot as plt"
   ]
  },
  {
   "cell_type": "code",
   "execution_count": 3,
   "metadata": {},
   "outputs": [],
   "source": [
    "tweets_data_path = 'twitter_data.txt'\n",
    "\n",
    "tweets_data = []\n",
    "tweets_file = open(tweets_data_path, \"r\")\n",
    "for line in tweets_file:\n",
    "    try:\n",
    "        tweet = json.loads(line)\n",
    "        tweets_data.append(tweet)\n",
    "    except:\n",
    "        continue"
   ]
  },
  {
   "cell_type": "code",
   "execution_count": 6,
   "metadata": {},
   "outputs": [
    {
     "name": "stdout",
     "output_type": "stream",
     "text": [
      "19\n"
     ]
    }
   ],
   "source": [
    "print (len(tweets_data))"
   ]
  },
  {
   "cell_type": "code",
   "execution_count": 7,
   "metadata": {},
   "outputs": [],
   "source": [
    "tweets = pd.DataFrame()"
   ]
  },
  {
   "cell_type": "code",
   "execution_count": 24,
   "metadata": {},
   "outputs": [],
   "source": [
    "tweets['text'] = list(map(lambda tweet: tweet['text'], tweets_data))\n",
    "tweets['lang'] = list(map(lambda tweet: tweet['lang'], tweets_data))\n",
    "tweets['location'] = list(map(lambda tweet: tweet['user']['location'], tweets_data))\n",
    "tweets['coordinates'] = list(map(lambda tweet: tweet['coordinates'], tweets_data))\n",
    "tweets['country'] = list(map(lambda tweet: tweet['place']['country'] if tweet['place'] != None else None, tweets_data))"
   ]
  },
  {
   "cell_type": "code",
   "execution_count": 25,
   "metadata": {},
   "outputs": [
    {
     "data": {
      "text/html": [
       "<div>\n",
       "<style scoped>\n",
       "    .dataframe tbody tr th:only-of-type {\n",
       "        vertical-align: middle;\n",
       "    }\n",
       "\n",
       "    .dataframe tbody tr th {\n",
       "        vertical-align: top;\n",
       "    }\n",
       "\n",
       "    .dataframe thead th {\n",
       "        text-align: right;\n",
       "    }\n",
       "</style>\n",
       "<table border=\"1\" class=\"dataframe\">\n",
       "  <thead>\n",
       "    <tr style=\"text-align: right;\">\n",
       "      <th></th>\n",
       "      <th>text</th>\n",
       "      <th>lang</th>\n",
       "      <th>country</th>\n",
       "      <th>coordinates</th>\n",
       "      <th>user</th>\n",
       "      <th>location</th>\n",
       "    </tr>\n",
       "  </thead>\n",
       "  <tbody>\n",
       "    <tr>\n",
       "      <th>0</th>\n",
       "      <td>RT @NomadXrp: ⏰  PRICE UPDATE  🚀 \\n\\n⭐️ $XRP $...</td>\n",
       "      <td>en</td>\n",
       "      <td>None</td>\n",
       "      <td>None</td>\n",
       "      <td>{'id': 310897418, 'id_str': '310897418', 'name...</td>\n",
       "      <td>Sacramento, CA</td>\n",
       "    </tr>\n",
       "    <tr>\n",
       "      <th>1</th>\n",
       "      <td>Getting Started with Vue. js https://t.co/JsyN...</td>\n",
       "      <td>en</td>\n",
       "      <td>None</td>\n",
       "      <td>None</td>\n",
       "      <td>{'id': 4277617239, 'id_str': '4277617239', 'na...</td>\n",
       "      <td>None</td>\n",
       "    </tr>\n",
       "    <tr>\n",
       "      <th>2</th>\n",
       "      <td>Popular JavaScript Framework! Learn The Langua...</td>\n",
       "      <td>en</td>\n",
       "      <td>None</td>\n",
       "      <td>None</td>\n",
       "      <td>{'id': 4277617239, 'id_str': '4277617239', 'na...</td>\n",
       "      <td>None</td>\n",
       "    </tr>\n",
       "    <tr>\n",
       "      <th>3</th>\n",
       "      <td>RT @TWICETrends: SMA voting will start tomorro...</td>\n",
       "      <td>en</td>\n",
       "      <td>None</td>\n",
       "      <td>None</td>\n",
       "      <td>{'id': 933138468292608002, 'id_str': '93313846...</td>\n",
       "      <td>Twicelights In KL,Malaysia</td>\n",
       "    </tr>\n",
       "    <tr>\n",
       "      <th>4</th>\n",
       "      <td>RT @92hunnaa: Mais qui veux une dedicace de si...</td>\n",
       "      <td>fr</td>\n",
       "      <td>None</td>\n",
       "      <td>None</td>\n",
       "      <td>{'id': 1064037313, 'id_str': '1064037313', 'na...</td>\n",
       "      <td>A Saïdia dans le Val d’Oise</td>\n",
       "    </tr>\n",
       "    <tr>\n",
       "      <th>5</th>\n",
       "      <td>RT @TWICETrends: SMA voting will start tomorro...</td>\n",
       "      <td>en</td>\n",
       "      <td>None</td>\n",
       "      <td>None</td>\n",
       "      <td>{'id': 1128434441431314432, 'id_str': '1128434...</td>\n",
       "      <td>Republic of the Philippines</td>\n",
       "    </tr>\n",
       "    <tr>\n",
       "      <th>6</th>\n",
       "      <td>RT @javascriptflx: COMING SOON: The JavaScript...</td>\n",
       "      <td>en</td>\n",
       "      <td>None</td>\n",
       "      <td>None</td>\n",
       "      <td>{'id': 310897418, 'id_str': '310897418', 'name...</td>\n",
       "      <td>Sacramento, CA</td>\n",
       "    </tr>\n",
       "    <tr>\n",
       "      <th>7</th>\n",
       "      <td>RT @RhianaHeath: Just drove by a place called ...</td>\n",
       "      <td>en</td>\n",
       "      <td>None</td>\n",
       "      <td>None</td>\n",
       "      <td>{'id': 177171242, 'id_str': '177171242', 'name...</td>\n",
       "      <td>São Paulo</td>\n",
       "    </tr>\n",
       "    <tr>\n",
       "      <th>8</th>\n",
       "      <td>RT @davelackie: Today's luxe beauty giveaway i...</td>\n",
       "      <td>en</td>\n",
       "      <td>None</td>\n",
       "      <td>None</td>\n",
       "      <td>{'id': 91092538, 'id_str': '91092538', 'name':...</td>\n",
       "      <td>None</td>\n",
       "    </tr>\n",
       "    <tr>\n",
       "      <th>9</th>\n",
       "      <td>RT @javascriptflx: A Quick Overview of map(), ...</td>\n",
       "      <td>en</td>\n",
       "      <td>None</td>\n",
       "      <td>None</td>\n",
       "      <td>{'id': 310897418, 'id_str': '310897418', 'name...</td>\n",
       "      <td>Sacramento, CA</td>\n",
       "    </tr>\n",
       "    <tr>\n",
       "      <th>10</th>\n",
       "      <td>Favourite Female - Ruby Allen however it's sup...</td>\n",
       "      <td>en</td>\n",
       "      <td>None</td>\n",
       "      <td>None</td>\n",
       "      <td>{'id': 159030250, 'id_str': '159030250', 'name...</td>\n",
       "      <td>United Kingdom</td>\n",
       "    </tr>\n",
       "    <tr>\n",
       "      <th>11</th>\n",
       "      <td>見てます。\\n\\nRubyでクソコード作るよ【Vtuber】 https://t.co/iF...</td>\n",
       "      <td>ja</td>\n",
       "      <td>None</td>\n",
       "      <td>None</td>\n",
       "      <td>{'id': 1103631017724674048, 'id_str': '1103631...</td>\n",
       "      <td>魔術世界からバーチャルに接続</td>\n",
       "    </tr>\n",
       "    <tr>\n",
       "      <th>12</th>\n",
       "      <td>RT @92hunnaa: Mais qui veux une dedicace de si...</td>\n",
       "      <td>fr</td>\n",
       "      <td>None</td>\n",
       "      <td>None</td>\n",
       "      <td>{'id': 2896292979, 'id_str': '2896292979', 'na...</td>\n",
       "      <td>None</td>\n",
       "    </tr>\n",
       "    <tr>\n",
       "      <th>13</th>\n",
       "      <td>RT @swsjona: Recon Tip:\\nJavaScript files may ...</td>\n",
       "      <td>en</td>\n",
       "      <td>None</td>\n",
       "      <td>None</td>\n",
       "      <td>{'id': 92026573, 'id_str': '92026573', 'name':...</td>\n",
       "      <td>Buenos Aires, Argentina</td>\n",
       "    </tr>\n",
       "    <tr>\n",
       "      <th>14</th>\n",
       "      <td>RT @uuyr112: 仕事や勉強で「ある文字列からよく使われるキーワードを調べたい」こと...</td>\n",
       "      <td>ja</td>\n",
       "      <td>None</td>\n",
       "      <td>None</td>\n",
       "      <td>{'id': 1198893488349143040, 'id_str': '1198893...</td>\n",
       "      <td>六本木</td>\n",
       "    </tr>\n",
       "    <tr>\n",
       "      <th>15</th>\n",
       "      <td>@gay4jenlisa c++ka diba? python at java pa lan...</td>\n",
       "      <td>tl</td>\n",
       "      <td>None</td>\n",
       "      <td>None</td>\n",
       "      <td>{'id': 1157194052464340992, 'id_str': '1157194...</td>\n",
       "      <td>bhosx jennie m4lditah</td>\n",
       "    </tr>\n",
       "    <tr>\n",
       "      <th>16</th>\n",
       "      <td>Least Favourite Couple - Max and Ruby at the m...</td>\n",
       "      <td>en</td>\n",
       "      <td>None</td>\n",
       "      <td>None</td>\n",
       "      <td>{'id': 159030250, 'id_str': '159030250', 'name...</td>\n",
       "      <td>United Kingdom</td>\n",
       "    </tr>\n",
       "    <tr>\n",
       "      <th>17</th>\n",
       "      <td>RT @merc1er: BitCash (Python Bitcoin Cash libr...</td>\n",
       "      <td>en</td>\n",
       "      <td>None</td>\n",
       "      <td>None</td>\n",
       "      <td>{'id': 1078573036712878080, 'id_str': '1078573...</td>\n",
       "      <td>Bangkok, Thailand</td>\n",
       "    </tr>\n",
       "    <tr>\n",
       "      <th>18</th>\n",
       "      <td>Learn Python for data science and machine lear...</td>\n",
       "      <td>en</td>\n",
       "      <td>None</td>\n",
       "      <td>None</td>\n",
       "      <td>{'id': 66162566, 'id_str': '66162566', 'name':...</td>\n",
       "      <td>None</td>\n",
       "    </tr>\n",
       "  </tbody>\n",
       "</table>\n",
       "</div>"
      ],
      "text/plain": [
       "                                                 text lang country  \\\n",
       "0   RT @NomadXrp: ⏰  PRICE UPDATE  🚀 \\n\\n⭐️ $XRP $...   en    None   \n",
       "1   Getting Started with Vue. js https://t.co/JsyN...   en    None   \n",
       "2   Popular JavaScript Framework! Learn The Langua...   en    None   \n",
       "3   RT @TWICETrends: SMA voting will start tomorro...   en    None   \n",
       "4   RT @92hunnaa: Mais qui veux une dedicace de si...   fr    None   \n",
       "5   RT @TWICETrends: SMA voting will start tomorro...   en    None   \n",
       "6   RT @javascriptflx: COMING SOON: The JavaScript...   en    None   \n",
       "7   RT @RhianaHeath: Just drove by a place called ...   en    None   \n",
       "8   RT @davelackie: Today's luxe beauty giveaway i...   en    None   \n",
       "9   RT @javascriptflx: A Quick Overview of map(), ...   en    None   \n",
       "10  Favourite Female - Ruby Allen however it's sup...   en    None   \n",
       "11  見てます。\\n\\nRubyでクソコード作るよ【Vtuber】 https://t.co/iF...   ja    None   \n",
       "12  RT @92hunnaa: Mais qui veux une dedicace de si...   fr    None   \n",
       "13  RT @swsjona: Recon Tip:\\nJavaScript files may ...   en    None   \n",
       "14  RT @uuyr112: 仕事や勉強で「ある文字列からよく使われるキーワードを調べたい」こと...   ja    None   \n",
       "15  @gay4jenlisa c++ka diba? python at java pa lan...   tl    None   \n",
       "16  Least Favourite Couple - Max and Ruby at the m...   en    None   \n",
       "17  RT @merc1er: BitCash (Python Bitcoin Cash libr...   en    None   \n",
       "18  Learn Python for data science and machine lear...   en    None   \n",
       "\n",
       "   coordinates                                               user  \\\n",
       "0         None  {'id': 310897418, 'id_str': '310897418', 'name...   \n",
       "1         None  {'id': 4277617239, 'id_str': '4277617239', 'na...   \n",
       "2         None  {'id': 4277617239, 'id_str': '4277617239', 'na...   \n",
       "3         None  {'id': 933138468292608002, 'id_str': '93313846...   \n",
       "4         None  {'id': 1064037313, 'id_str': '1064037313', 'na...   \n",
       "5         None  {'id': 1128434441431314432, 'id_str': '1128434...   \n",
       "6         None  {'id': 310897418, 'id_str': '310897418', 'name...   \n",
       "7         None  {'id': 177171242, 'id_str': '177171242', 'name...   \n",
       "8         None  {'id': 91092538, 'id_str': '91092538', 'name':...   \n",
       "9         None  {'id': 310897418, 'id_str': '310897418', 'name...   \n",
       "10        None  {'id': 159030250, 'id_str': '159030250', 'name...   \n",
       "11        None  {'id': 1103631017724674048, 'id_str': '1103631...   \n",
       "12        None  {'id': 2896292979, 'id_str': '2896292979', 'na...   \n",
       "13        None  {'id': 92026573, 'id_str': '92026573', 'name':...   \n",
       "14        None  {'id': 1198893488349143040, 'id_str': '1198893...   \n",
       "15        None  {'id': 1157194052464340992, 'id_str': '1157194...   \n",
       "16        None  {'id': 159030250, 'id_str': '159030250', 'name...   \n",
       "17        None  {'id': 1078573036712878080, 'id_str': '1078573...   \n",
       "18        None  {'id': 66162566, 'id_str': '66162566', 'name':...   \n",
       "\n",
       "                       location  \n",
       "0                Sacramento, CA  \n",
       "1                          None  \n",
       "2                          None  \n",
       "3    Twicelights In KL,Malaysia  \n",
       "4   A Saïdia dans le Val d’Oise  \n",
       "5   Republic of the Philippines  \n",
       "6                Sacramento, CA  \n",
       "7                     São Paulo  \n",
       "8                          None  \n",
       "9                Sacramento, CA  \n",
       "10               United Kingdom  \n",
       "11               魔術世界からバーチャルに接続  \n",
       "12                         None  \n",
       "13      Buenos Aires, Argentina  \n",
       "14                          六本木  \n",
       "15        bhosx jennie m4lditah  \n",
       "16               United Kingdom  \n",
       "17            Bangkok, Thailand  \n",
       "18                         None  "
      ]
     },
     "execution_count": 25,
     "metadata": {},
     "output_type": "execute_result"
    }
   ],
   "source": [
    "tweets"
   ]
  },
  {
   "cell_type": "code",
   "execution_count": 28,
   "metadata": {},
   "outputs": [
    {
     "data": {
      "text/plain": [
       "dict_keys(['created_at', 'id', 'id_str', 'text', 'source', 'truncated', 'in_reply_to_status_id', 'in_reply_to_status_id_str', 'in_reply_to_user_id', 'in_reply_to_user_id_str', 'in_reply_to_screen_name', 'user', 'geo', 'coordinates', 'place', 'contributors', 'retweeted_status', 'is_quote_status', 'quote_count', 'reply_count', 'retweet_count', 'favorite_count', 'entities', 'favorited', 'retweeted', 'filter_level', 'lang', 'timestamp_ms'])"
      ]
     },
     "execution_count": 28,
     "metadata": {},
     "output_type": "execute_result"
    }
   ],
   "source": [
    "tweets_data[0].keys()    "
   ]
  },
  {
   "cell_type": "code",
   "execution_count": 11,
   "metadata": {},
   "outputs": [
    {
     "data": {
      "text/plain": [
       "<matplotlib.axes._subplots.AxesSubplot at 0x22fc8cadd68>"
      ]
     },
     "execution_count": 11,
     "metadata": {},
     "output_type": "execute_result"
    },
    {
     "data": {
      "image/png": "[encoded data removed]",
      "text/plain": [
       "<Figure size 432x288 with 1 Axes>"
      ]
     },
     "metadata": {},
     "output_type": "display_data"
    }
   ],
   "source": [
    "tweets_by_lang = tweets['lang'].value_counts()\n",
    "\n",
    "fig, ax = plt.subplots()\n",
    "ax.tick_params(axis='x', labelsize=15)\n",
    "ax.tick_params(axis='y', labelsize=10)\n",
    "ax.set_xlabel('Languages', fontsize=15)\n",
    "ax.set_ylabel('Number of tweets' , fontsize=15)\n",
    "ax.set_title('Top 5 languages', fontsize=15, fontweight='bold')\n",
    "tweets_by_lang[:5].plot(ax=ax, kind='bar', color='red')"
   ]
  },
  {
   "cell_type": "code",
   "execution_count": null,
   "metadata": {},
   "outputs": [],
   "source": [
    "tweets_by_country = tweets['country'].value_counts()\n",
    "\n",
    "fig, ax = plt.subplots()\n",
    "ax.tick_params(axis='x', labelsize=15)\n",
    "ax.tick_params(axis='y', labelsize=10)\n",
    "ax.set_xlabel('Countries', fontsize=15)\n",
    "ax.set_ylabel('Number of tweets' , fontsize=15)\n",
    "ax.set_title('Top 5 countries', fontsize=15, fontweight='bold')\n",
    "tweets_by_country[:5].plot(ax=ax, kind='bar', color='blue')"
   ]
  },
  {
   "cell_type": "code",
   "execution_count": null,
   "metadata": {},
   "outputs": [],
   "source": []
  },
  {
   "cell_type": "code",
   "execution_count": null,
   "metadata": {},
   "outputs": [],
   "source": []
  },
  {
   "cell_type": "code",
   "execution_count": null,
   "metadata": {},
   "outputs": [],
   "source": []
  },
  {
   "cell_type": "code",
   "execution_count": null,
   "metadata": {},
   "outputs": [],
   "source": []
  },
  {
   "cell_type": "code",
   "execution_count": null,
   "metadata": {},
   "outputs": [],
   "source": []
  }
 ],
 "metadata": {
  "kernelspec": {
   "display_name": "Python 3",
   "language": "python",
   "name": "python3"
  },
  "language_info": {
   "codemirror_mode": {
    "name": "ipython",
    "version": 3
   },
   "file_extension": ".py",
   "mimetype": "text/x-python",
   "name": "python",
   "nbconvert_exporter": "python",
   "pygments_lexer": "ipython3",
   "version": "3.7.3"
  }
 },
 "nbformat": 4,
 "nbformat_minor": 2
}
