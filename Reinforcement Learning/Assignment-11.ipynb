{
 "cells": [
  {
   "cell_type": "code",
   "execution_count": 2,
   "metadata": {},
   "outputs": [],
   "source": [
    "import gym\n",
    "import numpy as np\n",
    "import pandas as pd\n",
    "import random"
   ]
  },
  {
   "cell_type": "code",
   "execution_count": 17,
   "metadata": {},
   "outputs": [],
   "source": [
    "# A customized multi armed bandit environment with Bernoulli distribution is provided \n",
    "# Rewards associated with each arm are modeled by Bernoulli distributions which returns 1 or 0.\n",
    "\n",
    "class MultiArmedBandit:\n",
    "    def __init__(self, reward_probability_dist=[0.3, 0.5, 0.8]):\n",
    "\n",
    "        self.reward_probability_dist = reward_probability_dist\n",
    "\n",
    "    def step(self, action):\n",
    "\n",
    "        if action > len(self.reward_probability_dist):\n",
    "            raise Exception(\"MULTI ARMED BANDIT][ERROR] the action\" + str(action) + \" is out of range, total actions: \" + str(len(self.reward_probability_dist)))\n",
    "        p = self.reward_probability_dist[action]\n",
    "        q = 1.0-p\n",
    "        return np.random.choice(2, p=[q, p])"
   ]
  },
  {
   "cell_type": "code",
   "execution_count": 22,
   "metadata": {},
   "outputs": [],
   "source": [
    "def create_bandit(reward_dist):\n",
    "    if abs(sum(reward_dist) - 1) > 0.1e-2:\n",
    "        print(\"Adjust the reward dist. to sum to one..\")\n",
    "    env = MultiArmedBandit(reward_probability_dist=reward_dist)\n",
    "    num_arms = len(reward_dist)\n",
    "    return env,num_arms"
   ]
  },
  {
   "cell_type": "code",
   "execution_count": 23,
   "metadata": {},
   "outputs": [
    {
     "name": "stdout",
     "output_type": "stream",
     "text": [
      "8\n"
     ]
    }
   ],
   "source": [
    "tot_episodes=250\n",
    "tot_steps =150\n",
    "reward_distribution = [0.1, 0.06, 0.06, 0.4, 0.3, 0.02, 0.03, 0.03]\n",
    "env, tot_arms = create_bandit(reward_distribution)\n",
    "tot_arms = len(reward_distribution)\n",
    "print(tot_arms)"
   ]
  },
  {
   "cell_type": "code",
   "execution_count": 24,
   "metadata": {},
   "outputs": [],
   "source": [
    "def random_selection():\n",
    "    average_value_function = np.zeros(tot_arms)\n",
    "    cumulated_reward_list = list()\n",
    "    \n",
    "    for episode in range(tot_episodes):\n",
    "        cumulated_reward = 0\n",
    "        reward_counter_array = np.zeros(tot_arms)\n",
    "        action_counter_array = np.full(tot_arms, 1.0e-5)\n",
    "        for step in range(tot_steps):\n",
    "            action = np.random.randint(low=0, high=tot_arms)\n",
    "            reward = env.step(action)\n",
    "            reward_counter_array[action] += reward\n",
    "            action_counter_array[action] += 1\n",
    "            cumulated_reward += reward\n",
    "        cumulated_reward_list.append(cumulated_reward)\n",
    "        value_function = np.true_divide(reward_counter_array, action_counter_array)\n",
    "        average_value_function += value_function\n",
    "    return average_value_function, cumulated_reward_list, action_counter_array    \n",
    "            "
   ]
  },
  {
   "cell_type": "code",
   "execution_count": 25,
   "metadata": {},
   "outputs": [
    {
     "name": "stdout",
     "output_type": "stream",
     "text": [
      "18.568\n"
     ]
    }
   ],
   "source": [
    "random_average_value_fn, random_rewards, random_actions = random_selection()\n",
    "mean_random_rewards = np.mean(random_rewards)\n",
    "print(mean_random_rewards)"
   ]
  }
 ],
 "metadata": {
  "kernelspec": {
   "display_name": "Python 3",
   "language": "python",
   "name": "python3"
  },
  "language_info": {
   "codemirror_mode": {
    "name": "ipython",
    "version": 3
   },
   "file_extension": ".py",
   "mimetype": "text/x-python",
   "name": "python",
   "nbconvert_exporter": "python",
   "pygments_lexer": "ipython3",
   "version": "3.7.3"
  }
 },
 "nbformat": 4,
 "nbformat_minor": 2
}
