{
 "cells": [
  {
   "cell_type": "code",
   "execution_count": 2,
   "metadata": {},
   "outputs": [],
   "source": [
    "import pandas as pd\n",
    "import numpy as np\n",
    "import csv"
   ]
  },
  {
   "cell_type": "code",
   "execution_count": 4,
   "metadata": {},
   "outputs": [],
   "source": [
    "df = pd.read_csv(\"D:\\\\APP\\\\NITW\\\\Predictive Analysis\\\\Assignment-1\\\\Problem3\\\\blackfriday.csv\",sep=\",\")"
   ]
  },
  {
   "cell_type": "code",
   "execution_count": 7,
   "metadata": {},
   "outputs": [
    {
     "name": "stdout",
     "output_type": "stream",
     "text": [
      "24234755.09\n"
     ]
    }
   ],
   "source": [
    "# Variance(of one column): Method 1\n",
    "print(round(df['Purchase'].var(), 2))"
   ]
  },
  {
   "cell_type": "code",
   "execution_count": 11,
   "metadata": {},
   "outputs": [
    {
     "name": "stdout",
     "output_type": "stream",
     "text": [
      "24234755.09\n"
     ]
    }
   ],
   "source": [
    "# Variance(of one column): Method 2\n",
    "print(round(df.loc[:, 'Purchase'].var(), 2))"
   ]
  },
  {
   "cell_type": "code",
   "execution_count": 13,
   "metadata": {},
   "outputs": [
    {
     "name": "stdout",
     "output_type": "stream",
     "text": [
      "4922.88\n"
     ]
    }
   ],
   "source": [
    "# Standard Deviation(of one column): Method 1\n",
    "print(round(df['Purchase'].std(), 2))"
   ]
  },
  {
   "cell_type": "code",
   "execution_count": 17,
   "metadata": {},
   "outputs": [
    {
     "name": "stdout",
     "output_type": "stream",
     "text": [
      "4922.88\n"
     ]
    }
   ],
   "source": [
    "# Standard Deviation(of one column): Method 2\n",
    "print(round(df.loc[:, 'Purchase'].std(), 2))"
   ]
  },
  {
   "cell_type": "code",
   "execution_count": 19,
   "metadata": {},
   "outputs": [
    {
     "name": "stdout",
     "output_type": "stream",
     "text": [
      "0.63\n"
     ]
    }
   ],
   "source": [
    "# Skewness(of one column): Method 1\n",
    "print(round(df['Purchase'].skew(), 2))"
   ]
  },
  {
   "cell_type": "code",
   "execution_count": 21,
   "metadata": {},
   "outputs": [
    {
     "name": "stdout",
     "output_type": "stream",
     "text": [
      "0.63\n"
     ]
    }
   ],
   "source": [
    "# Skewness(of one column): Method 2\n",
    "print(round(df.loc[:, 'Purchase'].skew(), 2))"
   ]
  },
  {
   "cell_type": "code",
   "execution_count": 25,
   "metadata": {},
   "outputs": [
    {
     "name": "stdout",
     "output_type": "stream",
     "text": [
      "-0.3\n"
     ]
    }
   ],
   "source": [
    "# Kurtosis(of one column): Method 1\n",
    "print(round(df['Purchase'].kurt(), 1))"
   ]
  },
  {
   "cell_type": "code",
   "execution_count": 27,
   "metadata": {},
   "outputs": [
    {
     "name": "stdout",
     "output_type": "stream",
     "text": [
      "-0.3\n"
     ]
    }
   ],
   "source": [
    "# Kurtosis(of one column): Method 2\n",
    "print(round(df.loc[:, 'Purchase'].kurt(), 1))"
   ]
  },
  {
   "cell_type": "code",
   "execution_count": 28,
   "metadata": {},
   "outputs": [],
   "source": [
    "with open(\"D:\\\\APP\\\\NITW\\\\Predictive Analysis\\\\Assignment-1\\\\Problem3\\\\output.csv\", \"w\") as out:\n",
    "    writer = csv.writer(out, delimiter=\",\")\n",
    "    writer.writerow([str(round(df['Purchase'].var(), 2))])\n",
    "    writer.writerow([str(round(df['Purchase'].std(), 2))])\n",
    "    writer.writerow([str(round(df['Purchase'].skew(), 2))])\n",
    "    writer.writerow([str(round(df['Purchase'].kurt(), 1))])"
   ]
  }
 ],
 "metadata": {
  "kernelspec": {
   "display_name": "Python 3",
   "language": "python",
   "name": "python3"
  },
  "language_info": {
   "codemirror_mode": {
    "name": "ipython",
    "version": 3
   },
   "file_extension": ".py",
   "mimetype": "text/x-python",
   "name": "python",
   "nbconvert_exporter": "python",
   "pygments_lexer": "ipython3",
   "version": "3.7.3"
  }
 },
 "nbformat": 4,
 "nbformat_minor": 2
}
