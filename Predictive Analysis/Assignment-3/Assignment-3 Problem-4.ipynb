{
 "cells": [
  {
   "cell_type": "code",
   "execution_count": 2,
   "metadata": {},
   "outputs": [],
   "source": [
    "import pandas as pd\n",
    "import numpy as np\n",
    "import csv"
   ]
  },
  {
   "cell_type": "code",
   "execution_count": 55,
   "metadata": {},
   "outputs": [],
   "source": [
    "df = pd.read_csv(\"D:\\\\APP\\\\NITW\\\\Predictive Analysis\\\\Assignment-1\\\\Problem4\\\\blackfriday.csv\",sep=\",\")"
   ]
  },
  {
   "cell_type": "code",
   "execution_count": 52,
   "metadata": {},
   "outputs": [
    {
     "data": {
      "text/plain": [
       "4"
      ]
     },
     "execution_count": 52,
     "metadata": {},
     "output_type": "execute_result"
    }
   ],
   "source": [
    "df.isnull().values.sum()"
   ]
  },
  {
   "cell_type": "code",
   "execution_count": 4,
   "metadata": {},
   "outputs": [],
   "source": [
    "# Steps\n",
    "# 1. Arrange the data in increasing order (sort by column 'Purchase')\n",
    "# 2. Calculate first(q1) and third(q3) quartile\n",
    "# 3. Calculate interquartile range --> iqr = q3 - q1\n",
    "# 4. Find lower bound --> q1 * 1.5\n",
    "# 5. Find upper bound --> q3 * 1.5\n",
    "# 6. Anything that lies outside of lower and upper bound is an outlier"
   ]
  },
  {
   "cell_type": "code",
   "execution_count": 56,
   "metadata": {},
   "outputs": [],
   "source": [
    "# Step-1: Arrange the data in increasing order (sort by column 'Purchase')\n",
    "dfSorted = df.sort_values(by = 'Purchase')"
   ]
  },
  {
   "cell_type": "code",
   "execution_count": 57,
   "metadata": {},
   "outputs": [],
   "source": [
    "# Step-2: Calculate first(q1) and third(q3) quartile\n",
    "q1, q3 = np.percentile(dfSorted['Purchase'].dropna(), [25, 75])"
   ]
  },
  {
   "cell_type": "code",
   "execution_count": 58,
   "metadata": {},
   "outputs": [
    {
     "name": "stdout",
     "output_type": "stream",
     "text": [
      "5878.75\n",
      "12011.25\n"
     ]
    }
   ],
   "source": [
    "print(q1)\n",
    "print(q3)"
   ]
  },
  {
   "cell_type": "code",
   "execution_count": 59,
   "metadata": {},
   "outputs": [],
   "source": [
    "# Step-3: Calculate interquartile range --> iqr = q3 - q1\n",
    "iqr = q3 - q1"
   ]
  },
  {
   "cell_type": "code",
   "execution_count": 60,
   "metadata": {},
   "outputs": [
    {
     "name": "stdout",
     "output_type": "stream",
     "text": [
      "6132.5\n"
     ]
    }
   ],
   "source": [
    "print(iqr)"
   ]
  },
  {
   "cell_type": "code",
   "execution_count": 61,
   "metadata": {},
   "outputs": [],
   "source": [
    "# Step-4: Find lower bound --> q1 * 1.5\n",
    "lowerBound = q1 - (iqr * 1.5)"
   ]
  },
  {
   "cell_type": "code",
   "execution_count": 62,
   "metadata": {},
   "outputs": [
    {
     "name": "stdout",
     "output_type": "stream",
     "text": [
      "-3320.0\n"
     ]
    }
   ],
   "source": [
    "print(lowerBound)"
   ]
  },
  {
   "cell_type": "code",
   "execution_count": 63,
   "metadata": {},
   "outputs": [],
   "source": [
    "# Step-5: Find upper bound --> q3 * 1.5\n",
    "upperBound = q3 + (iqr * 1.5)"
   ]
  },
  {
   "cell_type": "code",
   "execution_count": 64,
   "metadata": {},
   "outputs": [
    {
     "name": "stdout",
     "output_type": "stream",
     "text": [
      "21210.0\n"
     ]
    }
   ],
   "source": [
    "print(upperBound)"
   ]
  },
  {
   "cell_type": "code",
   "execution_count": 69,
   "metadata": {},
   "outputs": [
    {
     "data": {
      "text/plain": [
       "dtype('float64')"
      ]
     },
     "execution_count": 69,
     "metadata": {},
     "output_type": "execute_result"
    }
   ],
   "source": [
    "upperBound.dtype\n",
    "#dfSorted['Purchase'].dtype"
   ]
  },
  {
   "cell_type": "code",
   "execution_count": 72,
   "metadata": {},
   "outputs": [],
   "source": [
    "outlierCount = 0\n",
    "purchaseData = dfSorted['Purchase'].astype(np.float64)\n",
    "for val in purchaseData:\n",
    "    #print(val)\n",
    "    if((val < lowerBound) | (val > upperBound)):\n",
    "        outlierCount += 1"
   ]
  },
  {
   "cell_type": "code",
   "execution_count": 73,
   "metadata": {},
   "outputs": [],
   "source": [
    "with open(\"D:\\\\APP\\\\NITW\\\\Predictive Analysis\\\\Assignment-1\\\\Problem4\\\\output.csv\", \"w\") as out:\n",
    "    writer = csv.writer(out, delimiter=\",\")\n",
    "    writer.writerow([str(iqr)])\n",
    "    writer.writerow([str(outlierCount)])"
   ]
  }
 ],
 "metadata": {
  "kernelspec": {
   "display_name": "Python 3",
   "language": "python",
   "name": "python3"
  },
  "language_info": {
   "codemirror_mode": {
    "name": "ipython",
    "version": 3
   },
   "file_extension": ".py",
   "mimetype": "text/x-python",
   "name": "python",
   "nbconvert_exporter": "python",
   "pygments_lexer": "ipython3",
   "version": "3.7.3"
  }
 },
 "nbformat": 4,
 "nbformat_minor": 2
}
