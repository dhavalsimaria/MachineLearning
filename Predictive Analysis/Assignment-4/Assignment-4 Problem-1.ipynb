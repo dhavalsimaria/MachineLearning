{
 "cells": [
  {
   "cell_type": "code",
   "execution_count": 44,
   "metadata": {},
   "outputs": [],
   "source": [
    "import pandas as pd\n",
    "import numpy as np\n",
    "import scipy.stats as stats\n",
    "from scipy.stats import ttest_1samp\n",
    "import csv"
   ]
  },
  {
   "cell_type": "code",
   "execution_count": 51,
   "metadata": {},
   "outputs": [],
   "source": [
    "df = np.loadtxt(\"D:\\\\APP\\\\NITW\\\\Predictive Analysis\\\\Assignment-4\\\\Problem1\\\\iqdata.csv\")"
   ]
  },
  {
   "cell_type": "code",
   "execution_count": 3,
   "metadata": {},
   "outputs": [
    {
     "data": {
      "text/html": [
       "<div>\n",
       "<style scoped>\n",
       "    .dataframe tbody tr th:only-of-type {\n",
       "        vertical-align: middle;\n",
       "    }\n",
       "\n",
       "    .dataframe tbody tr th {\n",
       "        vertical-align: top;\n",
       "    }\n",
       "\n",
       "    .dataframe thead th {\n",
       "        text-align: right;\n",
       "    }\n",
       "</style>\n",
       "<table border=\"1\" class=\"dataframe\">\n",
       "  <thead>\n",
       "    <tr style=\"text-align: right;\">\n",
       "      <th></th>\n",
       "      <th>108</th>\n",
       "    </tr>\n",
       "  </thead>\n",
       "  <tbody>\n",
       "    <tr>\n",
       "      <th>0</th>\n",
       "      <td>126</td>\n",
       "    </tr>\n",
       "    <tr>\n",
       "      <th>1</th>\n",
       "      <td>103</td>\n",
       "    </tr>\n",
       "    <tr>\n",
       "      <th>2</th>\n",
       "      <td>130</td>\n",
       "    </tr>\n",
       "    <tr>\n",
       "      <th>3</th>\n",
       "      <td>112</td>\n",
       "    </tr>\n",
       "    <tr>\n",
       "      <th>4</th>\n",
       "      <td>80</td>\n",
       "    </tr>\n",
       "  </tbody>\n",
       "</table>\n",
       "</div>"
      ],
      "text/plain": [
       "   108\n",
       "0  126\n",
       "1  103\n",
       "2  130\n",
       "3  112\n",
       "4   80"
      ]
     },
     "execution_count": 3,
     "metadata": {},
     "output_type": "execute_result"
    }
   ],
   "source": [
    "df.head()"
   ]
  },
  {
   "cell_type": "code",
   "execution_count": 4,
   "metadata": {},
   "outputs": [
    {
     "data": {
      "text/html": [
       "<div>\n",
       "<style scoped>\n",
       "    .dataframe tbody tr th:only-of-type {\n",
       "        vertical-align: middle;\n",
       "    }\n",
       "\n",
       "    .dataframe tbody tr th {\n",
       "        vertical-align: top;\n",
       "    }\n",
       "\n",
       "    .dataframe thead th {\n",
       "        text-align: right;\n",
       "    }\n",
       "</style>\n",
       "<table border=\"1\" class=\"dataframe\">\n",
       "  <thead>\n",
       "    <tr style=\"text-align: right;\">\n",
       "      <th></th>\n",
       "      <th>108</th>\n",
       "    </tr>\n",
       "  </thead>\n",
       "  <tbody>\n",
       "    <tr>\n",
       "      <th>count</th>\n",
       "      <td>9999.000000</td>\n",
       "    </tr>\n",
       "    <tr>\n",
       "      <th>mean</th>\n",
       "      <td>110.038504</td>\n",
       "    </tr>\n",
       "    <tr>\n",
       "      <th>std</th>\n",
       "      <td>20.107190</td>\n",
       "    </tr>\n",
       "    <tr>\n",
       "      <th>min</th>\n",
       "      <td>34.000000</td>\n",
       "    </tr>\n",
       "    <tr>\n",
       "      <th>25%</th>\n",
       "      <td>96.000000</td>\n",
       "    </tr>\n",
       "    <tr>\n",
       "      <th>50%</th>\n",
       "      <td>110.000000</td>\n",
       "    </tr>\n",
       "    <tr>\n",
       "      <th>75%</th>\n",
       "      <td>124.000000</td>\n",
       "    </tr>\n",
       "    <tr>\n",
       "      <th>max</th>\n",
       "      <td>192.000000</td>\n",
       "    </tr>\n",
       "  </tbody>\n",
       "</table>\n",
       "</div>"
      ],
      "text/plain": [
       "               108\n",
       "count  9999.000000\n",
       "mean    110.038504\n",
       "std      20.107190\n",
       "min      34.000000\n",
       "25%      96.000000\n",
       "50%     110.000000\n",
       "75%     124.000000\n",
       "max     192.000000"
      ]
     },
     "execution_count": 4,
     "metadata": {},
     "output_type": "execute_result"
    }
   ],
   "source": [
    "df.describe()"
   ]
  },
  {
   "cell_type": "code",
   "execution_count": 52,
   "metadata": {},
   "outputs": [],
   "source": [
    "mean = np.mean(df, axis=0)"
   ]
  },
  {
   "cell_type": "code",
   "execution_count": 53,
   "metadata": {},
   "outputs": [
    {
     "name": "stdout",
     "output_type": "stream",
     "text": [
      "110.0383\n"
     ]
    }
   ],
   "source": [
    "print(mean)"
   ]
  },
  {
   "cell_type": "code",
   "execution_count": 54,
   "metadata": {},
   "outputs": [],
   "source": [
    "stddev = np.std(df)"
   ]
  },
  {
   "cell_type": "code",
   "execution_count": 55,
   "metadata": {},
   "outputs": [
    {
     "name": "stdout",
     "output_type": "stream",
     "text": [
      "20.11\n"
     ]
    }
   ],
   "source": [
    "print(round(stddev, 2))"
   ]
  },
  {
   "cell_type": "code",
   "execution_count": 56,
   "metadata": {},
   "outputs": [],
   "source": [
    "testfile = open(\"D:\\\\APP\\\\NITW\\\\Predictive Analysis\\\\Assignment-4\\\\Problem1\\\\testcaseiq.txt\")"
   ]
  },
  {
   "cell_type": "code",
   "execution_count": 57,
   "metadata": {},
   "outputs": [],
   "source": [
    "testcases = testfile.readlines()"
   ]
  },
  {
   "cell_type": "code",
   "execution_count": 58,
   "metadata": {},
   "outputs": [],
   "source": [
    "noOfTestCases = int(testcases[0].strip())"
   ]
  },
  {
   "cell_type": "code",
   "execution_count": 59,
   "metadata": {},
   "outputs": [
    {
     "name": "stdout",
     "output_type": "stream",
     "text": [
      "2\n"
     ]
    }
   ],
   "source": [
    "print(noOfTestCases)"
   ]
  },
  {
   "cell_type": "code",
   "execution_count": 64,
   "metadata": {},
   "outputs": [
    {
     "name": "stdout",
     "output_type": "stream",
     "text": [
      "0\n",
      "0.06758035222122011\n",
      "0.9319203624715144\n",
      "86.4\n",
      "sampleFileName: iqsample1\n",
      "pval [0.00859452]\n",
      "1\n",
      "0.15946162057909885\n",
      "0.8396116569639926\n",
      "68.0\n",
      "sampleFileName: iqsample2\n",
      "pval [0.85101348]\n"
     ]
    }
   ],
   "source": [
    "line = 1\n",
    "for input in range(noOfTestCases):\n",
    "    print(input)\n",
    "    lowerVal = testcases[line]\n",
    "    lowerProbability = stats.norm(mean, stddev).cdf(int(lowerVal))\n",
    "    print(lowerProbability)\n",
    "    line += 1\n",
    "    upperVal = testcases[line]\n",
    "    upperProbability = stats.norm(mean, stddev).cdf(int(upperVal))\n",
    "    print(upperProbability)\n",
    "    finalProbability = round((upperProbability - lowerProbability), 3)*100\n",
    "    print(finalProbability)\n",
    "    line += 1\n",
    "    sampleFileName = testcases[line]\n",
    "    print(\"sampleFileName: \" + sampleFileName.strip())\n",
    "    sameFile = pd.read_csv(\"D:\\\\APP\\\\NITW\\\\Predictive Analysis\\\\Assignment-4\\\\Problem1\\\\\" + sampleFileName.strip() + \".csv\")\n",
    "    line += 1\n",
    "    tset, pval = ttest_1samp(sameFile, mean)\n",
    "    print(\"pval\",pval)\n",
    "    if(pval[0] < 0.05):\n",
    "        nullHypothesisResult = \"Reject\"\n",
    "    else:\n",
    "        nullHypothesisResult = \"Accept\"\n",
    "    \n",
    "    with open(\"D:\\\\APP\\\\NITW\\\\Predictive Analysis\\\\Assignment-4\\\\Problem1\\\\output\" + str(input+1) + \".csv\", \"w\") as out:\n",
    "        writer = csv.writer(out, delimiter=\",\")\n",
    "        writer.writerow([mean])\n",
    "        writer.writerow([stddev])\n",
    "        writer.writerow([finalProbability])\n",
    "        writer.writerow([nullHypothesisResult])\n",
    "        \n",
    "    "
   ]
  }
 ],
 "metadata": {
  "kernelspec": {
   "display_name": "Python 3",
   "language": "python",
   "name": "python3"
  },
  "language_info": {
   "codemirror_mode": {
    "name": "ipython",
    "version": 3
   },
   "file_extension": ".py",
   "mimetype": "text/x-python",
   "name": "python",
   "nbconvert_exporter": "python",
   "pygments_lexer": "ipython3",
   "version": "3.7.3"
  }
 },
 "nbformat": 4,
 "nbformat_minor": 2
}
