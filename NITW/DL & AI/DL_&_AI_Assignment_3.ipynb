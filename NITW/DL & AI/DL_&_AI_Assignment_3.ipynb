{
  "nbformat": 4,
  "nbformat_minor": 0,
  "metadata": {
    "colab": {
      "name": "DL & AI Assignment - 3.ipynb",
      "provenance": [],
      "authorship_tag": "ABX9TyPtDQyFUx2pbF8IGx2FEsLU",
      "include_colab_link": true
    },
    "kernelspec": {
      "name": "python3",
      "display_name": "Python 3"
    }
  },
  "cells": [
    {
      "cell_type": "markdown",
      "metadata": {
        "id": "view-in-github",
        "colab_type": "text"
      },
      "source": [
        "<a href=\"https://colab.research.google.com/github/dhavalsimaria/MachineLearning/blob/master/NITW/DL%20%26%20AI/DL_%26_AI_Assignment_3.ipynb\" target=\"_parent\"><img src=\"https://colab.research.google.com/assets/colab-badge.svg\" alt=\"Open In Colab\"/></a>"
      ]
    },
    {
      "cell_type": "markdown",
      "metadata": {
        "id": "VVPtNtty9YPr",
        "colab_type": "text"
      },
      "source": [
        "Import libraries"
      ]
    },
    {
      "cell_type": "code",
      "metadata": {
        "id": "zDXEpJj3omo0",
        "colab_type": "code",
        "colab": {}
      },
      "source": [
        "import numpy as np\n",
        "from keras.layers import Conv2D, UpSampling2D, BatchNormalization, Dense, Flatten, Reshape, Input, InputLayer, MaxPooling2D\n",
        "from keras.models import Sequential, Model\n",
        "from keras.datasets import cifar10\n",
        "import matplotlib.pyplot as plt\n",
        "from keras import regularizers\n",
        "from keras.utils import np_utils"
      ],
      "execution_count": 0,
      "outputs": []
    },
    {
      "cell_type": "markdown",
      "metadata": {
        "id": "bzc_1I8s9UMJ",
        "colab_type": "text"
      },
      "source": [
        "Load the Data from the Dataset"
      ]
    },
    {
      "cell_type": "code",
      "metadata": {
        "id": "L1KiXSz5zPJa",
        "colab_type": "code",
        "colab": {}
      },
      "source": [
        "(x_train, y_train), (x_test, y_test) = cifar10.load_data()"
      ],
      "execution_count": 0,
      "outputs": []
    },
    {
      "cell_type": "code",
      "metadata": {
        "id": "3tyk-bLgP_sp",
        "colab_type": "code",
        "colab": {
          "base_uri": "https://localhost:8080/",
          "height": 52
        },
        "outputId": "a47addf7-79c7-4963-d37e-ddda40da5ed5"
      },
      "source": [
        "print('x_train shape: ', x_train.shape)\n",
        "print('x_test shape: ', x_test.shape)"
      ],
      "execution_count": 35,
      "outputs": [
        {
          "output_type": "stream",
          "text": [
            "x_train shape:  (50000, 32, 32, 3)\n",
            "x_test shape:  (10000, 32, 32, 3)\n"
          ],
          "name": "stdout"
        }
      ]
    },
    {
      "cell_type": "markdown",
      "metadata": {
        "id": "12TKhtKf9QSK",
        "colab_type": "text"
      },
      "source": [
        "Normalize the data"
      ]
    },
    {
      "cell_type": "code",
      "metadata": {
        "id": "9zAhuGm8zqO9",
        "colab_type": "code",
        "colab": {}
      },
      "source": [
        "x_train_normalized = x_train.astype('float32')/255\n",
        "x_test_normalized = x_test.astype('float32')/255\n",
        "#x_train_normalized = x_train_normalized.reshape((len(x_train_normalized), np.prod(x_train_normalized.shape[1:])))\n",
        "#x_test_normalized = x_test_normalized.reshape((len(x_test_normalized), np.prod(x_test_normalized.shape[1:])))"
      ],
      "execution_count": 0,
      "outputs": []
    },
    {
      "cell_type": "code",
      "metadata": {
        "id": "STJsve9UaApp",
        "colab_type": "code",
        "colab": {
          "base_uri": "https://localhost:8080/",
          "height": 52
        },
        "outputId": "8a9a7f68-9921-4794-b63c-b48491ea2731"
      },
      "source": [
        "print('x_train_normalized shape: ', x_train_normalized.shape)\n",
        "print('x_test_normalized shape: ', x_test_normalized.shape)"
      ],
      "execution_count": 85,
      "outputs": [
        {
          "output_type": "stream",
          "text": [
            "x_train_normalized shape:  (50000, 32, 32, 3)\n",
            "x_test_normalized shape:  (10000, 32, 32, 3)\n"
          ],
          "name": "stdout"
        }
      ]
    },
    {
      "cell_type": "code",
      "metadata": {
        "id": "5lcTGM1PdxTd",
        "colab_type": "code",
        "colab": {}
      },
      "source": [
        "y_train = np_utils.to_categorical(y_train)\n",
        "y_test = np_utils.to_categorical(y_test)"
      ],
      "execution_count": 0,
      "outputs": []
    },
    {
      "cell_type": "markdown",
      "metadata": {
        "id": "1T1naSnc8_FC",
        "colab_type": "text"
      },
      "source": [
        "Creating Encoder and Decoder"
      ]
    },
    {
      "cell_type": "code",
      "metadata": {
        "id": "dIrIYGJ9Obkj",
        "colab_type": "code",
        "colab": {
          "base_uri": "https://localhost:8080/",
          "height": 35
        },
        "outputId": "6d928b02-2195-4b7c-caa8-e15f0cacc8aa"
      },
      "source": [
        "input_layer = Input(shape=(32, 32, 3))\n",
        "print(input_layer)\n",
        "x = Conv2D(64, (3, 3), activation='relu', padding='same')(input_layer)\n",
        "x = BatchNormalization()(x)\n",
        "x = MaxPooling2D((2, 2), padding='same')(x)\n",
        "x = Conv2D(16, (3, 3), activation='relu', padding='same')(x)\n",
        "x = BatchNormalization()(x)\n",
        "x = MaxPooling2D((2, 2), padding='same')(x)\n",
        "encoded = MaxPooling2D((2, 2), padding='same')(x)\n",
        "\n",
        "x = Conv2D(16, (3, 3), activation='relu', padding='same')(encoded)\n",
        "x = BatchNormalization()(x)\n",
        "x = UpSampling2D((2, 2))(x)\n",
        "x = Conv2D(64, (3, 3), activation='relu', padding='same')(x)\n",
        "x = BatchNormalization()(x)\n",
        "x = UpSampling2D((2, 2))(x)\n",
        "#decoded = Conv2D(1, (3, 3), activation='sigmoid', padding='same')(x)\n",
        "x = Flatten()(x)\n",
        "decoded = Dense(10, activation='sigmoid')(x)"
      ],
      "execution_count": 94,
      "outputs": [
        {
          "output_type": "stream",
          "text": [
            "Tensor(\"input_35:0\", shape=(None, 32, 32, 3), dtype=float32)\n"
          ],
          "name": "stdout"
        }
      ]
    },
    {
      "cell_type": "markdown",
      "metadata": {
        "id": "F_sRkfft9EWJ",
        "colab_type": "text"
      },
      "source": [
        "Creating, Compile and Summarize the Autoencoder"
      ]
    },
    {
      "cell_type": "code",
      "metadata": {
        "id": "usBVI-6cPKNz",
        "colab_type": "code",
        "colab": {
          "base_uri": "https://localhost:8080/",
          "height": 711
        },
        "outputId": "acc4a646-2447-41e0-ce61-9dbd6a526bdb"
      },
      "source": [
        "autoencoder = Model(input_layer, decoded)\n",
        "autoencoder.compile(optimizer='adam', loss='binary_crossentropy')\n",
        "autoencoder.summary()"
      ],
      "execution_count": 95,
      "outputs": [
        {
          "output_type": "stream",
          "text": [
            "Model: \"model_12\"\n",
            "_________________________________________________________________\n",
            "Layer (type)                 Output Shape              Param #   \n",
            "=================================================================\n",
            "input_35 (InputLayer)        (None, 32, 32, 3)         0         \n",
            "_________________________________________________________________\n",
            "conv2d_136 (Conv2D)          (None, 32, 32, 64)        1792      \n",
            "_________________________________________________________________\n",
            "batch_normalization_117 (Bat (None, 32, 32, 64)        256       \n",
            "_________________________________________________________________\n",
            "max_pooling2d_81 (MaxPooling (None, 16, 16, 64)        0         \n",
            "_________________________________________________________________\n",
            "conv2d_137 (Conv2D)          (None, 16, 16, 16)        9232      \n",
            "_________________________________________________________________\n",
            "batch_normalization_118 (Bat (None, 16, 16, 16)        64        \n",
            "_________________________________________________________________\n",
            "max_pooling2d_82 (MaxPooling (None, 8, 8, 16)          0         \n",
            "_________________________________________________________________\n",
            "max_pooling2d_83 (MaxPooling (None, 4, 4, 16)          0         \n",
            "_________________________________________________________________\n",
            "conv2d_138 (Conv2D)          (None, 4, 4, 16)          2320      \n",
            "_________________________________________________________________\n",
            "batch_normalization_119 (Bat (None, 4, 4, 16)          64        \n",
            "_________________________________________________________________\n",
            "up_sampling2d_59 (UpSampling (None, 8, 8, 16)          0         \n",
            "_________________________________________________________________\n",
            "conv2d_139 (Conv2D)          (None, 8, 8, 64)          9280      \n",
            "_________________________________________________________________\n",
            "batch_normalization_120 (Bat (None, 8, 8, 64)          256       \n",
            "_________________________________________________________________\n",
            "up_sampling2d_60 (UpSampling (None, 16, 16, 64)        0         \n",
            "_________________________________________________________________\n",
            "flatten_8 (Flatten)          (None, 16384)             0         \n",
            "_________________________________________________________________\n",
            "dense_9 (Dense)              (None, 10)                163850    \n",
            "=================================================================\n",
            "Total params: 187,114\n",
            "Trainable params: 186,794\n",
            "Non-trainable params: 320\n",
            "_________________________________________________________________\n"
          ],
          "name": "stdout"
        }
      ]
    },
    {
      "cell_type": "markdown",
      "metadata": {
        "id": "uZA7ycIA9dGq",
        "colab_type": "text"
      },
      "source": [
        "Fit the autoencoder"
      ]
    },
    {
      "cell_type": "code",
      "metadata": {
        "id": "JRd8-1ovHNvt",
        "colab_type": "code",
        "colab": {
          "base_uri": "https://localhost:8080/",
          "height": 1000
        },
        "outputId": "b1b4e24a-dc38-40b6-e526-f1590fa2357f"
      },
      "source": [
        "autoencoder.fit(x=x_train_normalized, y=y_train, epochs=50,\n",
        "                batch_size=1000,\n",
        "                shuffle=True,\n",
        "                validation_data=(x_test_normalized, y_test))"
      ],
      "execution_count": 96,
      "outputs": [
        {
          "output_type": "stream",
          "text": [
            "Train on 50000 samples, validate on 10000 samples\n",
            "Epoch 1/50\n",
            "50000/50000 [==============================] - 154s 3ms/step - loss: 0.3186 - val_loss: 0.4965\n",
            "Epoch 2/50\n",
            "50000/50000 [==============================] - 155s 3ms/step - loss: 0.2129 - val_loss: 0.4029\n",
            "Epoch 3/50\n",
            "50000/50000 [==============================] - 153s 3ms/step - loss: 0.1929 - val_loss: 0.3743\n",
            "Epoch 4/50\n",
            "50000/50000 [==============================] - 154s 3ms/step - loss: 0.1758 - val_loss: 0.3775\n",
            "Epoch 5/50\n",
            "50000/50000 [==============================] - 154s 3ms/step - loss: 0.1649 - val_loss: 0.3692\n",
            "Epoch 6/50\n",
            "50000/50000 [==============================] - 159s 3ms/step - loss: 0.1560 - val_loss: 0.3485\n",
            "Epoch 7/50\n",
            "50000/50000 [==============================] - 156s 3ms/step - loss: 0.1483 - val_loss: 0.3467\n",
            "Epoch 8/50\n",
            "50000/50000 [==============================] - 156s 3ms/step - loss: 0.1423 - val_loss: 0.3311\n",
            "Epoch 9/50\n",
            "50000/50000 [==============================] - 157s 3ms/step - loss: 0.1377 - val_loss: 0.2530\n",
            "Epoch 10/50\n",
            "50000/50000 [==============================] - 160s 3ms/step - loss: 0.1327 - val_loss: 0.2224\n",
            "Epoch 11/50\n",
            "50000/50000 [==============================] - 157s 3ms/step - loss: 0.1262 - val_loss: 0.2064\n",
            "Epoch 12/50\n",
            "50000/50000 [==============================] - 154s 3ms/step - loss: 0.1222 - val_loss: 0.1751\n",
            "Epoch 13/50\n",
            "50000/50000 [==============================] - 159s 3ms/step - loss: 0.1192 - val_loss: 0.1741\n",
            "Epoch 14/50\n",
            "50000/50000 [==============================] - 157s 3ms/step - loss: 0.1163 - val_loss: 0.1776\n",
            "Epoch 15/50\n",
            "50000/50000 [==============================] - 160s 3ms/step - loss: 0.1138 - val_loss: 0.1733\n",
            "Epoch 16/50\n",
            "50000/50000 [==============================] - 159s 3ms/step - loss: 0.1095 - val_loss: 0.1603\n",
            "Epoch 17/50\n",
            "50000/50000 [==============================] - 158s 3ms/step - loss: 0.1074 - val_loss: 0.1677\n",
            "Epoch 18/50\n",
            "50000/50000 [==============================] - 154s 3ms/step - loss: 0.1043 - val_loss: 0.1628\n",
            "Epoch 19/50\n",
            "50000/50000 [==============================] - 154s 3ms/step - loss: 0.1019 - val_loss: 0.1791\n",
            "Epoch 20/50\n",
            "50000/50000 [==============================] - 156s 3ms/step - loss: 0.0981 - val_loss: 0.1780\n",
            "Epoch 21/50\n",
            "50000/50000 [==============================] - 158s 3ms/step - loss: 0.0980 - val_loss: 0.1751\n",
            "Epoch 22/50\n",
            "50000/50000 [==============================] - 154s 3ms/step - loss: 0.0948 - val_loss: 0.1790\n",
            "Epoch 23/50\n",
            "50000/50000 [==============================] - 155s 3ms/step - loss: 0.0928 - val_loss: 0.1774\n",
            "Epoch 24/50\n",
            "50000/50000 [==============================] - 154s 3ms/step - loss: 0.0907 - val_loss: 0.1832\n",
            "Epoch 25/50\n",
            "50000/50000 [==============================] - 157s 3ms/step - loss: 0.0881 - val_loss: 0.1809\n",
            "Epoch 26/50\n",
            "50000/50000 [==============================] - 155s 3ms/step - loss: 0.0862 - val_loss: 0.1822\n",
            "Epoch 27/50\n",
            "50000/50000 [==============================] - 158s 3ms/step - loss: 0.0845 - val_loss: 0.1776\n",
            "Epoch 28/50\n",
            "50000/50000 [==============================] - 158s 3ms/step - loss: 0.0830 - val_loss: 0.1750\n",
            "Epoch 29/50\n",
            "50000/50000 [==============================] - 163s 3ms/step - loss: 0.0809 - val_loss: 0.1896\n",
            "Epoch 30/50\n",
            "50000/50000 [==============================] - 162s 3ms/step - loss: 0.0790 - val_loss: 0.1907\n",
            "Epoch 31/50\n",
            "50000/50000 [==============================] - 160s 3ms/step - loss: 0.0782 - val_loss: 0.1789\n",
            "Epoch 32/50\n",
            "50000/50000 [==============================] - 162s 3ms/step - loss: 0.0766 - val_loss: 0.1847\n",
            "Epoch 33/50\n",
            "50000/50000 [==============================] - 164s 3ms/step - loss: 0.0749 - val_loss: 0.1933\n",
            "Epoch 34/50\n",
            "50000/50000 [==============================] - 162s 3ms/step - loss: 0.0745 - val_loss: 0.1932\n",
            "Epoch 35/50\n",
            "50000/50000 [==============================] - 161s 3ms/step - loss: 0.0736 - val_loss: 0.1878\n",
            "Epoch 36/50\n",
            "50000/50000 [==============================] - 162s 3ms/step - loss: 0.0728 - val_loss: 0.1989\n",
            "Epoch 37/50\n",
            "50000/50000 [==============================] - 158s 3ms/step - loss: 0.0705 - val_loss: 0.1995\n",
            "Epoch 38/50\n",
            "50000/50000 [==============================] - 157s 3ms/step - loss: 0.0679 - val_loss: 0.2350\n",
            "Epoch 39/50\n",
            "50000/50000 [==============================] - 154s 3ms/step - loss: 0.0680 - val_loss: 0.2118\n",
            "Epoch 40/50\n",
            "50000/50000 [==============================] - 154s 3ms/step - loss: 0.0668 - val_loss: 0.2032\n",
            "Epoch 41/50\n",
            "50000/50000 [==============================] - 157s 3ms/step - loss: 0.0649 - val_loss: 0.2038\n",
            "Epoch 42/50\n",
            "50000/50000 [==============================] - 156s 3ms/step - loss: 0.0644 - val_loss: 0.2052\n",
            "Epoch 43/50\n",
            "50000/50000 [==============================] - 158s 3ms/step - loss: 0.0634 - val_loss: 0.2268\n",
            "Epoch 44/50\n",
            "50000/50000 [==============================] - 162s 3ms/step - loss: 0.0627 - val_loss: 0.2225\n",
            "Epoch 45/50\n",
            "50000/50000 [==============================] - 155s 3ms/step - loss: 0.0607 - val_loss: 0.2192\n",
            "Epoch 46/50\n",
            "50000/50000 [==============================] - 156s 3ms/step - loss: 0.0587 - val_loss: 0.2178\n",
            "Epoch 47/50\n",
            "50000/50000 [==============================] - 154s 3ms/step - loss: 0.0600 - val_loss: 0.2623\n",
            "Epoch 48/50\n",
            "50000/50000 [==============================] - 156s 3ms/step - loss: 0.0596 - val_loss: 0.2186\n",
            "Epoch 49/50\n",
            "50000/50000 [==============================] - 155s 3ms/step - loss: 0.0572 - val_loss: 0.2192\n",
            "Epoch 50/50\n",
            "50000/50000 [==============================] - 155s 3ms/step - loss: 0.0561 - val_loss: 0.2421\n"
          ],
          "name": "stdout"
        },
        {
          "output_type": "execute_result",
          "data": {
            "text/plain": [
              "<keras.callbacks.callbacks.History at 0x7f5b86415f98>"
            ]
          },
          "metadata": {
            "tags": []
          },
          "execution_count": 96
        }
      ]
    }
  ]
}