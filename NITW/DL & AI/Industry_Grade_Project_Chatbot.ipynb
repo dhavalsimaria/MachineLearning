{
  "nbformat": 4,
  "nbformat_minor": 0,
  "metadata": {
    "kernelspec": {
      "name": "python3",
      "display_name": "Python 3"
    },
    "language_info": {
      "codemirror_mode": {
        "name": "ipython",
        "version": 3
      },
      "file_extension": ".py",
      "mimetype": "text/x-python",
      "name": "python",
      "nbconvert_exporter": "python",
      "pygments_lexer": "ipython3",
      "version": "3.6.8"
    },
    "colab": {
      "name": "Industry Grade Project - Chatbot.ipynb",
      "provenance": [],
      "collapsed_sections": [],
      "toc_visible": true,
      "include_colab_link": true
    },
    "accelerator": "GPU"
  },
  "cells": [
    {
      "cell_type": "markdown",
      "metadata": {
        "id": "view-in-github",
        "colab_type": "text"
      },
      "source": [
        "<a href=\"https://colab.research.google.com/github/dhavalsimaria/MachineLearning/blob/master/NITW/DL%20%26%20AI/Industry_Grade_Project_Chatbot.ipynb\" target=\"_parent\"><img src=\"https://colab.research.google.com/assets/colab-badge.svg\" alt=\"Open In Colab\"/></a>"
      ]
    },
    {
      "cell_type": "markdown",
      "metadata": {
        "id": "Xx7CCJZKdcC2",
        "colab_type": "text"
      },
      "source": [
        "# Building a Chatbot from Scratch "
      ]
    },
    {
      "cell_type": "markdown",
      "metadata": {
        "id": "JsR2PuNPdcC5",
        "colab_type": "text"
      },
      "source": [
        "\n",
        "##### In this project we will build a chatbot from scratch using the corenell University's Movie Dialogue corpus.\n",
        "##### We will be using a deep learning based architecture with the main components as a lstm based encoder and decoder."
      ]
    },
    {
      "cell_type": "code",
      "metadata": {
        "id": "V7b5o0oxdcC7",
        "colab_type": "code",
        "outputId": "db694fd9-3321-477c-ddad-12ecb46e6310",
        "colab": {
          "base_uri": "https://localhost:8080/",
          "height": 34
        }
      },
      "source": [
        "from keras.models import Model\n",
        "from keras.layers.recurrent import LSTM\n",
        "from keras.layers import Dense, Input, Embedding\n",
        "from keras.preprocessing.sequence import pad_sequences\n",
        "from keras.callbacks import ModelCheckpoint\n",
        "from collections import Counter\n",
        "import nltk\n",
        "import numpy as np\n",
        "from sklearn.model_selection import train_test_split"
      ],
      "execution_count": 1,
      "outputs": [
        {
          "output_type": "stream",
          "text": [
            "Using TensorFlow backend.\n"
          ],
          "name": "stderr"
        }
      ]
    },
    {
      "cell_type": "code",
      "metadata": {
        "id": "_WFN5fXsdcDB",
        "colab_type": "code",
        "colab": {}
      },
      "source": [
        "import keras\n",
        "import nltk\n",
        "import numpy\n",
        "import sklearn"
      ],
      "execution_count": 0,
      "outputs": []
    },
    {
      "cell_type": "markdown",
      "metadata": {
        "id": "1IQF3dSidcDI",
        "colab_type": "text"
      },
      "source": [
        "Please make sure that the version of the respective packages are met to the requirement. **I have commented out this code as versions used in colab currently are higher than mentioned. Same was confirmed with Edureka team earlier.**"
      ]
    },
    {
      "cell_type": "code",
      "metadata": {
        "id": "oCL0434GdcDK",
        "colab_type": "code",
        "outputId": "00142f63-920e-4813-a7ad-63b221b25d21",
        "colab": {
          "base_uri": "https://localhost:8080/",
          "height": 54
        }
      },
      "source": [
        "'''assert keras.__version__=='2.1.2'\n",
        "assert nltk.__version__=='3.4.1'\n",
        "assert sklearn.__version__=='0.21.2'\n",
        "assert numpy.__version__=='1.12.1'\n",
        "'''"
      ],
      "execution_count": 3,
      "outputs": [
        {
          "output_type": "execute_result",
          "data": {
            "text/plain": [
              "\"assert keras.__version__=='2.1.2'\\nassert nltk.__version__=='3.4.1'\\nassert sklearn.__version__=='0.21.2'\\nassert numpy.__version__=='1.12.1'\\n\""
            ]
          },
          "metadata": {
            "tags": []
          },
          "execution_count": 3
        }
      ]
    },
    {
      "cell_type": "markdown",
      "metadata": {
        "id": "gv38ReVtdcDO",
        "colab_type": "text"
      },
      "source": [
        "Download the glove model available at https://nlp.stanford.edu/projects/glove/\n",
        "\n",
        "Specification : Twitter (2B tweets, 27B tokens, 1.2M vocab, uncased, 25d, 50d, 100d, & 200d vectors, 1.42 GB download): glove.twitter.27B.zip\n"
      ]
    },
    {
      "cell_type": "markdown",
      "metadata": {
        "id": "KXuwJNpGdcDQ",
        "colab_type": "text"
      },
      "source": [
        "you can download it with 'wget' or can directly put the embedding zip file inside 'embedding_data' folder and unzip it."
      ]
    },
    {
      "cell_type": "code",
      "metadata": {
        "id": "VHx1FnytdcDU",
        "colab_type": "code",
        "outputId": "28ff9d04-458c-4fdc-ac0d-1ddb4be18413",
        "colab": {
          "base_uri": "https://localhost:8080/",
          "height": 67
        }
      },
      "source": [
        "! curl -O http://downloads.cs.stanford.edu/nlp/data/glove.twitter.27B.zip"
      ],
      "execution_count": 4,
      "outputs": [
        {
          "output_type": "stream",
          "text": [
            "  % Total    % Received % Xferd  Average Speed   Time    Time     Time  Current\n",
            "                                 Dload  Upload   Total   Spent    Left  Speed\n",
            "100 1449M  100 1449M    0     0  2116k      0  0:11:41  0:11:41 --:--:-- 2790k\n"
          ],
          "name": "stdout"
        }
      ]
    },
    {
      "cell_type": "code",
      "metadata": {
        "id": "16MQ-fhzOuWJ",
        "colab_type": "code",
        "outputId": "9173cb96-1c77-4c5f-e332-83ecef5d844f",
        "colab": {
          "base_uri": "https://localhost:8080/",
          "height": 101
        }
      },
      "source": [
        "! unzip glove.twitter.27B.zip"
      ],
      "execution_count": 5,
      "outputs": [
        {
          "output_type": "stream",
          "text": [
            "Archive:  glove.twitter.27B.zip\n",
            "  inflating: glove.twitter.27B.25d.txt  \n",
            "  inflating: glove.twitter.27B.50d.txt  \n",
            "  inflating: glove.twitter.27B.100d.txt  \n",
            "  inflating: glove.twitter.27B.200d.txt  \n"
          ],
          "name": "stdout"
        }
      ]
    },
    {
      "cell_type": "markdown",
      "metadata": {
        "id": "XXNV-PBFmTw6",
        "colab_type": "text"
      },
      "source": [
        "Download the Cornell Movie Dialog dataset"
      ]
    },
    {
      "cell_type": "code",
      "metadata": {
        "id": "__3xsvNEmmGL",
        "colab_type": "code",
        "outputId": "07c83a4c-4abc-449b-abbf-0bd4af3288d2",
        "colab": {
          "base_uri": "https://localhost:8080/",
          "height": 67
        }
      },
      "source": [
        "!curl -L -O http://www.cs.cornell.edu/~cristian/data/cornell_movie_dialogs_corpus.zip"
      ],
      "execution_count": 6,
      "outputs": [
        {
          "output_type": "stream",
          "text": [
            "  % Total    % Received % Xferd  Average Speed   Time    Time     Time  Current\n",
            "                                 Dload  Upload   Total   Spent    Left  Speed\n",
            "100 9684k  100 9684k    0     0  2273k      0  0:00:04  0:00:04 --:--:-- 2273k\n"
          ],
          "name": "stdout"
        }
      ]
    },
    {
      "cell_type": "markdown",
      "metadata": {
        "id": "Y09NB0XEmr6Q",
        "colab_type": "text"
      },
      "source": [
        "Unzip the Cornell Movie Dialog dataset"
      ]
    },
    {
      "cell_type": "code",
      "metadata": {
        "id": "Ul9iW2sxmvv7",
        "colab_type": "code",
        "outputId": "6a193281-7864-41a5-a41b-db80fc2f9f41",
        "colab": {
          "base_uri": "https://localhost:8080/",
          "height": 269
        }
      },
      "source": [
        "!unzip cornell_movie_dialogs_corpus.zip"
      ],
      "execution_count": 7,
      "outputs": [
        {
          "output_type": "stream",
          "text": [
            "Archive:  cornell_movie_dialogs_corpus.zip\n",
            "   creating: cornell movie-dialogs corpus/\n",
            "  inflating: cornell movie-dialogs corpus/.DS_Store  \n",
            "   creating: __MACOSX/\n",
            "   creating: __MACOSX/cornell movie-dialogs corpus/\n",
            "  inflating: __MACOSX/cornell movie-dialogs corpus/._.DS_Store  \n",
            "  inflating: cornell movie-dialogs corpus/chameleons.pdf  \n",
            "  inflating: __MACOSX/cornell movie-dialogs corpus/._chameleons.pdf  \n",
            "  inflating: cornell movie-dialogs corpus/movie_characters_metadata.txt  \n",
            "  inflating: cornell movie-dialogs corpus/movie_conversations.txt  \n",
            "  inflating: cornell movie-dialogs corpus/movie_lines.txt  \n",
            "  inflating: cornell movie-dialogs corpus/movie_titles_metadata.txt  \n",
            "  inflating: cornell movie-dialogs corpus/raw_script_urls.txt  \n",
            "  inflating: cornell movie-dialogs corpus/README.txt  \n",
            "  inflating: __MACOSX/cornell movie-dialogs corpus/._README.txt  \n"
          ],
          "name": "stdout"
        }
      ]
    },
    {
      "cell_type": "markdown",
      "metadata": {
        "id": "YJTbG5ToZYVj",
        "colab_type": "text"
      },
      "source": [
        "Define constants. **Some are modified based on folder structure in colab**"
      ]
    },
    {
      "cell_type": "code",
      "metadata": {
        "id": "F_yG4mV2dcDZ",
        "colab_type": "code",
        "colab": {}
      },
      "source": [
        "RAND_STATE=np.random.seed(42)\n",
        "BATCH_SIZE = 32\n",
        "NUM_EPOCHS = 10\n",
        "GLOVE_EMBEDDING_SIZE = 100\n",
        "HIDDEN_UNITS = 256\n",
        "MAX_INPUT_SEQ_LENGTH = 40\n",
        "MAX_TARGET_SEQ_LENGTH = 40\n",
        "MAX_VOCAB_SIZE = 10000\n",
        "DATA_SET_NAME = 'cornell'\n",
        "#DATA_PATH = './cornell/movie_lines_cleaned.txt'\n",
        "#GLOVE_MODEL = \"./embedding_data/glove.twitter.27B.100d.txt\"\n",
        "DATA_PATH = 'cornell movie-dialogs corpus/movie_lines.txt'\n",
        "GLOVE_MODEL = \"glove.twitter.27B.100d.txt\"\n",
        "WHITELIST = 'abcdefghijklmnopqrstuvwxyz1234567890?.,'\n",
        "WEIGHT_FILE_PATH =  DATA_SET_NAME + '/word-glove-weights.h5'"
      ],
      "execution_count": 0,
      "outputs": []
    },
    {
      "cell_type": "markdown",
      "metadata": {
        "id": "9YoCF2A8bSoo",
        "colab_type": "text"
      },
      "source": [
        "Function to identify if a given word is whitelisted or not."
      ]
    },
    {
      "cell_type": "code",
      "metadata": {
        "id": "nsku9GyddcDe",
        "colab_type": "code",
        "colab": {}
      },
      "source": [
        "def in_white_list(_word):\n",
        "  for char in _word:\n",
        "        if char in WHITELIST:\n",
        "            return True\n",
        "\n",
        "  return False"
      ],
      "execution_count": 0,
      "outputs": []
    },
    {
      "cell_type": "markdown",
      "metadata": {
        "id": "xKA3WnoNdcDk",
        "colab_type": "text"
      },
      "source": [
        "Load the glove word embedding in to a dictionary where the **key** is a unique **word token** and the **value** is a **d** dimension vector "
      ]
    },
    {
      "cell_type": "markdown",
      "metadata": {
        "id": "LQ6Q6VpHdcDn",
        "colab_type": "text"
      },
      "source": [
        "# Test-1"
      ]
    },
    {
      "cell_type": "code",
      "metadata": {
        "id": "_DtZYF8_dcDp",
        "colab_type": "code",
        "colab": {}
      },
      "source": [
        "def load_glove_vector():\n",
        "    _word2embedding = {}\n",
        "    file = open(GLOVE_MODEL, mode='rt', encoding='utf8')\n",
        "    for line in file:\n",
        "        values = line.split()\n",
        "        word = values[0]\n",
        "        #vector = np.asarray(values[1:], \"float32\")\n",
        "        vector = np.array([float(val) for val in values[1:]])\n",
        "        _word2embedding[word] = vector\n",
        "    file.close()\n",
        "    return _word2embedding"
      ],
      "execution_count": 0,
      "outputs": []
    },
    {
      "cell_type": "code",
      "metadata": {
        "id": "jdoRZsWEdcDs",
        "colab_type": "code",
        "outputId": "eb6452b1-427c-4103-dac6-46b29af3389f",
        "colab": {
          "base_uri": "https://localhost:8080/",
          "height": 34
        }
      },
      "source": [
        "word2embedding = load_glove_vector()\n",
        "len(word2embedding.keys())"
      ],
      "execution_count": 11,
      "outputs": [
        {
          "output_type": "execute_result",
          "data": {
            "text/plain": [
              "1193514"
            ]
          },
          "metadata": {
            "tags": []
          },
          "execution_count": 11
        }
      ]
    },
    {
      "cell_type": "markdown",
      "metadata": {
        "id": "Wu1WwP20dcDw",
        "colab_type": "text"
      },
      "source": [
        "# Check-1"
      ]
    },
    {
      "cell_type": "markdown",
      "metadata": {
        "id": "6xiGzRO1bhV7",
        "colab_type": "text"
      },
      "source": [
        "Here assert statement to modified to have latest number of word2embeddings in glove model."
      ]
    },
    {
      "cell_type": "code",
      "metadata": {
        "id": "VknKfgmGdcDz",
        "colab_type": "code",
        "outputId": "45d29547-df8e-44e0-d552-9ac01cfa40b5",
        "colab": {
          "base_uri": "https://localhost:8080/",
          "height": 34
        }
      },
      "source": [
        "#assert len(word2embedding.keys())==1193513\n",
        "assert len(word2embedding.keys())==1193514\n",
        "for key in word2embedding.keys():\n",
        "    try:\n",
        "        assert len(word2embedding[key])==100\n",
        "    except AssertionError:\n",
        "        print (key,len(word2embedding[key]))     "
      ],
      "execution_count": 12,
      "outputs": [
        {
          "output_type": "stream",
          "text": [
            "-0.32053 99\n"
          ],
          "name": "stdout"
        }
      ]
    },
    {
      "cell_type": "markdown",
      "metadata": {
        "id": "mCix18rAdcD7",
        "colab_type": "text"
      },
      "source": [
        "# Data Preparation"
      ]
    },
    {
      "cell_type": "code",
      "metadata": {
        "id": "bkKBqppEdcD8",
        "colab_type": "code",
        "colab": {}
      },
      "source": [
        "target_counter = Counter()\n",
        "lines = open(DATA_PATH, 'rt', encoding='latin1').read().split(' +++$+++ ')\n",
        "input_texts = []\n",
        "target_texts = []\n",
        "prev_words = []"
      ],
      "execution_count": 0,
      "outputs": []
    },
    {
      "cell_type": "markdown",
      "metadata": {
        "id": "LvHPzxjPcA01",
        "colab_type": "text"
      },
      "source": [
        "Import NLTK library to tokenize the lines in dataset."
      ]
    },
    {
      "cell_type": "code",
      "metadata": {
        "id": "-GdbBFWOMOlG",
        "colab_type": "code",
        "outputId": "030c6470-3d82-4d91-949c-14fcf693f2c0",
        "colab": {
          "base_uri": "https://localhost:8080/",
          "height": 67
        }
      },
      "source": [
        "import nltk\n",
        "nltk.download('punkt')"
      ],
      "execution_count": 14,
      "outputs": [
        {
          "output_type": "stream",
          "text": [
            "[nltk_data] Downloading package punkt to /root/nltk_data...\n",
            "[nltk_data]   Unzipping tokenizers/punkt.zip.\n"
          ],
          "name": "stdout"
        },
        {
          "output_type": "execute_result",
          "data": {
            "text/plain": [
              "True"
            ]
          },
          "metadata": {
            "tags": []
          },
          "execution_count": 14
        }
      ]
    },
    {
      "cell_type": "code",
      "metadata": {
        "id": "0FsdjO_jdcD_",
        "colab_type": "code",
        "colab": {}
      },
      "source": [
        "for line in lines:\n",
        "    next_words = [w.lower() for w in nltk.word_tokenize(line)]\n",
        "    if len(next_words) > MAX_TARGET_SEQ_LENGTH:\n",
        "        next_words = next_words[0:MAX_TARGET_SEQ_LENGTH]\n",
        "    if len(prev_words) > 0:\n",
        "        input_texts.append(prev_words)\n",
        "        target_words = next_words[:]\n",
        "        target_words.insert(0, 'start')\n",
        "        target_words.append('end')\n",
        "        for w in target_words:\n",
        "            target_counter[w] += 1\n",
        "        target_texts.append(target_words)\n",
        "    prev_words = next_words"
      ],
      "execution_count": 0,
      "outputs": []
    },
    {
      "cell_type": "markdown",
      "metadata": {
        "id": "LcYFBgUIdcEF",
        "colab_type": "text"
      },
      "source": [
        "Filter the conversations till max word length and convert the dialogues pairs into input text and target texts. Put **start** and **end** token to recognise the beginning and end of the sentence token.\n",
        "\n",
        "## Let's see some of the training examples"
      ]
    },
    {
      "cell_type": "code",
      "metadata": {
        "id": "FiCxfQtBdcEG",
        "colab_type": "code",
        "outputId": "052dd542-d4fa-426d-d1c7-b4b6469fdeb2",
        "colab": {
          "base_uri": "https://localhost:8080/",
          "height": 202
        }
      },
      "source": [
        "for idx, (input_words, target_words) in enumerate(zip(input_texts, target_texts)):\n",
        "    if idx > 10:\n",
        "        break\n",
        "    print([input_words, target_words])"
      ],
      "execution_count": 16,
      "outputs": [
        {
          "output_type": "stream",
          "text": [
            "[['l1045'], ['start', 'u0', 'end']]\n",
            "[['u0'], ['start', 'm0', 'end']]\n",
            "[['m0'], ['start', 'bianca', 'end']]\n",
            "[['bianca'], ['start', 'they', 'do', 'not', '!', 'l1044', 'end']]\n",
            "[['they', 'do', 'not', '!', 'l1044'], ['start', 'u2', 'end']]\n",
            "[['u2'], ['start', 'm0', 'end']]\n",
            "[['m0'], ['start', 'cameron', 'end']]\n",
            "[['cameron'], ['start', 'they', 'do', 'to', '!', 'l985', 'end']]\n",
            "[['they', 'do', 'to', '!', 'l985'], ['start', 'u0', 'end']]\n",
            "[['u0'], ['start', 'm0', 'end']]\n",
            "[['m0'], ['start', 'bianca', 'end']]\n"
          ],
          "name": "stdout"
        }
      ]
    },
    {
      "cell_type": "markdown",
      "metadata": {
        "id": "ZMUQBrgOcKbS",
        "colab_type": "text"
      },
      "source": [
        "Import **OS** library to create directory to hold the Cornell movie dialogue dataset."
      ]
    },
    {
      "cell_type": "code",
      "metadata": {
        "id": "gv9GcBjNQ-C3",
        "colab_type": "code",
        "colab": {}
      },
      "source": [
        "import os\n",
        "os.mkdir(DATA_SET_NAME)"
      ],
      "execution_count": 0,
      "outputs": []
    },
    {
      "cell_type": "markdown",
      "metadata": {
        "id": "ksKxizS6dcEL",
        "colab_type": "text"
      },
      "source": [
        "### Create two dictionaries \n",
        "<ol>\n",
        "<li>target_word2id\n",
        "<li>target_id2word\n",
        "</ol>\n",
        "and save it as NumPy file format in the disk.\n",
        "<p>\n",
        "<strong>NOTE:</strong> The ids should start from 1 beacause <strong>0</strong> is reserved for <strong>'unknown'</strong> tokens.\n",
        "Make sure you cosider only the <strong>most common</strong> tokens with <strong>MAX_VOCAB_SIZE</strong> defined above.\n",
        "\n",
        "Most common refers to tokens with higher frequency. \n",
        "</p>\n",
        "<strong>Help:</strong>\n",
        "<ol>\n",
        "<li>Use the target_counter which have the token counts.  \n",
        "<li>Use target_counter.most_common(MAX_VOCAB_SIZE) to filter common tokens\n",
        "    </ol>"
      ]
    },
    {
      "cell_type": "code",
      "metadata": {
        "id": "Qc6oco8qdcEN",
        "colab_type": "code",
        "colab": {}
      },
      "source": [
        "target_word2idx = dict()\n",
        "\n",
        "for idx, word in enumerate(target_counter.most_common(MAX_VOCAB_SIZE)):\n",
        "  target_word2idx[word[0]] = idx + 1\n",
        "\n",
        "''''if 'unknown' not in target_word2idx:\n",
        "    target_word2idx['unknown'] = 0'''\n",
        "\n",
        "target_idx2word = dict([(idx, word) for word, idx in target_word2idx.items()])\n",
        "\n",
        "num_decoder_tokens = len(target_idx2word) + 1\n",
        "\n",
        "np.save( DATA_SET_NAME + '/word-glove-target-word2idx.npy', target_word2idx)\n",
        "np.save( DATA_SET_NAME + '/word-glove-target-idx2word.npy', target_idx2word)"
      ],
      "execution_count": 0,
      "outputs": []
    },
    {
      "cell_type": "markdown",
      "metadata": {
        "id": "6PzuUg4zdcER",
        "colab_type": "text"
      },
      "source": [
        "# Check-2"
      ]
    },
    {
      "cell_type": "code",
      "metadata": {
        "id": "R7pikaJfdcEU",
        "colab_type": "code",
        "outputId": "112b6599-d356-48c5-f355-94753301da8e",
        "colab": {
          "base_uri": "https://localhost:8080/",
          "height": 67
        }
      },
      "source": [
        "print(len (target_word2idx.keys()))\n",
        "print(len (target_idx2word.keys()))\n",
        "print(MAX_VOCAB_SIZE+1)\n",
        "#assert len (target_word2idx.keys())==len (target_idx2word.keys())==MAX_VOCAB_SIZE+1\n",
        "assert len (target_word2idx.keys())==len (target_idx2word.keys())==MAX_VOCAB_SIZE"
      ],
      "execution_count": 19,
      "outputs": [
        {
          "output_type": "stream",
          "text": [
            "10000\n",
            "10000\n",
            "10001\n"
          ],
          "name": "stdout"
        }
      ]
    },
    {
      "cell_type": "markdown",
      "metadata": {
        "id": "2mw-Ly2xdcEc",
        "colab_type": "text"
      },
      "source": [
        "# Prepare the input data with embedding\n",
        "The input data is a list of lists \n",
        "<ol>\n",
        "<li> First list is a list of sentences\n",
        "<li> Each sentence is a list of words\n",
        " </ol>"
      ]
    },
    {
      "cell_type": "code",
      "metadata": {
        "id": "oBmG1ea4dcEc",
        "colab_type": "code",
        "outputId": "92ea659a-cce8-4425-82d4-fae28f6da049",
        "colab": {
          "base_uri": "https://localhost:8080/",
          "height": 34
        }
      },
      "source": [
        "input_texts_word2em = []\n",
        "encoder_max_seq_length = 0\n",
        "decoder_max_seq_length = 0\n",
        "\n",
        "for input_words, target_words in zip(input_texts, target_texts):\n",
        "    encoder_input_wids = []\n",
        "    for w in input_words:\n",
        "      \n",
        "        embeddings = np.zeros(shape=GLOVE_EMBEDDING_SIZE)\n",
        "        if w in word2embedding:\n",
        "          embeddings = word2embedding[w]\n",
        "        encoder_input_wids.append(embeddings)\n",
        "\n",
        "\n",
        "    input_texts_word2em.append(encoder_input_wids)\n",
        "    encoder_max_seq_length = max(len(encoder_input_wids), encoder_max_seq_length)\n",
        "    decoder_max_seq_length = max(len(target_words), decoder_max_seq_length)\n",
        "\n",
        "context = dict()\n",
        "context['num_decoder_tokens'] = num_decoder_tokens\n",
        "context['encoder_max_seq_length'] = encoder_max_seq_length\n",
        "context['decoder_max_seq_length'] = decoder_max_seq_length\n",
        "\n",
        "print(context)\n",
        "np.save( DATA_SET_NAME + '/word-glove-context.npy', context)"
      ],
      "execution_count": 20,
      "outputs": [
        {
          "output_type": "stream",
          "text": [
            "{'num_decoder_tokens': 10001, 'encoder_max_seq_length': 40, 'decoder_max_seq_length': 42}\n"
          ],
          "name": "stdout"
        }
      ]
    },
    {
      "cell_type": "markdown",
      "metadata": {
        "id": "S8IJeZVkdcEg",
        "colab_type": "text"
      },
      "source": [
        "# Check-3"
      ]
    },
    {
      "cell_type": "code",
      "metadata": {
        "id": "QXaPOQlddcEh",
        "colab_type": "code",
        "colab": {}
      },
      "source": [
        "for input_text,input_text_embed in zip (input_texts,range(len(input_texts_word2em))):\n",
        "    assert (len(input_text)==len(input_texts_word2em[input_text_embed]))"
      ],
      "execution_count": 0,
      "outputs": []
    },
    {
      "cell_type": "markdown",
      "metadata": {
        "id": "GXh-5WEUdcEn",
        "colab_type": "text"
      },
      "source": [
        "# Generate Training data per batch"
      ]
    },
    {
      "cell_type": "markdown",
      "metadata": {
        "id": "Gvg8LBt-dcEo",
        "colab_type": "text"
      },
      "source": [
        "generate_batch takes input embedding data (input_word2em_data) and target text data (target_texts) and returns trainable X and Y.\n",
        "X is a list of [X1,X2]\n",
        "where \n",
        "X1 is encoder_input_data_batch( which is created by putting the word embedding(glove vector) of the input tokens) padded in to a shape of (BATCH_SIZE, encoder_max_seq_length, GLOVE_EMBEDDING_SIZE)\n",
        "\n",
        "X2 is decoder_input_data_batch which is created by putting the word embedding(glove vector) of the target_words tokens and padding it to a shape of (BATCH_SIZE, encoder_max_seq_length, GLOVE_EMBEDDING_SIZE)\n",
        "\n",
        "Y is decoder_target_data_batch which is in shape of (BATCH_SIZE, decoder_max_seq_length, num_decoder_tokens)\n",
        "which signifies for each target token text  in the batch we have an option of any token from the vocabularu to be the next predicted word "
      ]
    },
    {
      "cell_type": "code",
      "metadata": {
        "id": "37R_9qpHdcEp",
        "colab_type": "code",
        "colab": {}
      },
      "source": [
        "def generate_batch(input_word2em_data, output_text_data):\n",
        "    num_batches = len(input_word2em_data) // BATCH_SIZE\n",
        "    while True:\n",
        "        for batchIdx in range(0, num_batches):\n",
        "            start = batchIdx * BATCH_SIZE\n",
        "            end = (batchIdx + 1) * BATCH_SIZE\n",
        "            encoder_input_data_batch = pad_sequences(input_word2em_data[start:end], encoder_max_seq_length)\n",
        "            decoder_target_data_batch = np.zeros(shape=(BATCH_SIZE, decoder_max_seq_length, num_decoder_tokens))\n",
        "            decoder_input_data_batch = np.zeros(shape=(BATCH_SIZE, decoder_max_seq_length, GLOVE_EMBEDDING_SIZE))\n",
        "            for lineIdx, target_words in enumerate(output_text_data[start:end]):\n",
        "              for idx, w in enumerate(target_words):\n",
        "                #w2idx = target_word2idx['unknown']\n",
        "                if w in target_word2idx:\n",
        "                  w2idx = target_word2idx[w]\n",
        "                if w in word2embedding:\n",
        "                  decoder_input_data_batch[lineIdx, idx, :] = word2embedding[w]\n",
        "                if idx > 0:\n",
        "                  decoder_target_data_batch[lineIdx, idx - 1, w2idx] = 1\n",
        "            yield [encoder_input_data_batch, decoder_input_data_batch], decoder_target_data_batch"
      ],
      "execution_count": 0,
      "outputs": []
    },
    {
      "cell_type": "markdown",
      "metadata": {
        "id": "EGjnjiyidcEt",
        "colab_type": "text"
      },
      "source": [
        "# Check-4"
      ]
    },
    {
      "cell_type": "code",
      "metadata": {
        "id": "Ezag0feRdcEu",
        "colab_type": "code",
        "outputId": "a32dfd59-d9c8-4956-c670-c4a321fb6848",
        "colab": {
          "base_uri": "https://localhost:8080/",
          "height": 34
        }
      },
      "source": [
        "X_train, X_test, Y_train, Y_test = train_test_split(input_texts_word2em, target_texts, test_size=0.2, random_state=42)\n",
        "train_gen = generate_batch(X_train, Y_train)\n",
        "test_gen = generate_batch(X_test, Y_test)\n",
        "\n",
        "for i,j in train_gen:\n",
        "    assert i[0].shape==(BATCH_SIZE,context['encoder_max_seq_length'],GLOVE_EMBEDDING_SIZE)\n",
        "    assert i[1].shape==(BATCH_SIZE,context['decoder_max_seq_length'],GLOVE_EMBEDDING_SIZE)\n",
        "    assert j.shape==(BATCH_SIZE,context['decoder_max_seq_length'],context['num_decoder_tokens'])\n",
        "\n",
        "print ('Test Case 4 Passes!')"
      ],
      "execution_count": 23,
      "outputs": [
        {
          "output_type": "stream",
          "text": [
            "Test Case 4 Passes!\n"
          ],
          "name": "stdout"
        }
      ]
    },
    {
      "cell_type": "markdown",
      "metadata": {
        "id": "P8VfVTm4dcE6",
        "colab_type": "text"
      },
      "source": [
        "# Test-5"
      ]
    },
    {
      "cell_type": "markdown",
      "metadata": {
        "id": "oUJbRP9SdcE8",
        "colab_type": "text"
      },
      "source": [
        "<ol>\n",
        "<li> Step 1: Use a LSTM encoder to get input words encoded in the form of (encoder outputs, encoder hidden state, encoder context) from input words\n",
        "<li> Step 2:  Use a LSTM decoder to get target words encoded in the form of (decoder outputs, decoder hidden state, decoder context) from target words. Use encoder hidden states and encoder context (represents input memory) as initial state .\n",
        "<li> Step 3: Use a dense layer to predict the next token out of the vocabulary given decoder output generated by Step 2.\n",
        "<li> Step 4: Use loss ='categorical_crossentropy' and optimizer='rmsprop'\n",
        "</ol>"
      ]
    },
    {
      "cell_type": "code",
      "metadata": {
        "id": "gU974rtIdcE9",
        "colab_type": "code",
        "outputId": "735bde62-e91a-4267-94c6-d608bd85813a",
        "colab": {
          "base_uri": "https://localhost:8080/",
          "height": 353
        }
      },
      "source": [
        "encoder_inputs = Input(shape=(None, GLOVE_EMBEDDING_SIZE), name='encoder_inputs')\n",
        "encoder_lstm = LSTM(units=HIDDEN_UNITS, return_state=True, name='encoder_lstm')\n",
        "encoder_outputs, encoder_state_h, encoder_state_c = encoder_lstm(encoder_inputs)\n",
        "encoder_states = [encoder_state_h, encoder_state_c]\n",
        "\n",
        "decoder_inputs = Input(shape=(None, GLOVE_EMBEDDING_SIZE), name='decoder_inputs')\n",
        "decoder_lstm = LSTM(units=HIDDEN_UNITS, return_state=True, return_sequences=True, name='decoder_lstm')\n",
        "decoder_outputs, decoder_state_h, decoder_state_c = decoder_lstm(decoder_inputs, initial_state=encoder_states)\n",
        "\n",
        "decoder_dense = Dense(units=num_decoder_tokens, activation='softmax', name='decoder_dense')\n",
        "decoder_outputs = decoder_dense(decoder_outputs)\n",
        "\n",
        "model = Model([encoder_inputs, decoder_inputs], decoder_outputs)\n",
        "\n",
        "model.compile(loss='categorical_crossentropy', optimizer='rmsprop', metrics=['accuracy'])\n",
        "\n",
        "json = model.to_json()\n",
        "#open('models/' + DATA_SET_NAME + '/word-glove-architecture.json', 'w').write(json)\n",
        "open(DATA_SET_NAME + '/word-glove-architecture.json', 'w').write(json)\n",
        "\n",
        "'''\n",
        "Here I have reduced the size by 1000th part to get a complete execution in Google Colab.\n",
        "When I use entire X_train to fit the model, Google Colab gets disconnected after sometime without completing all the epochs.\n",
        "'''\n",
        "train_num_batches = len(X_train)/1000       \n",
        "test_num_batches = len(X_test)/1000\n",
        "\n",
        "checkpoint = ModelCheckpoint(filepath = WEIGHT_FILE_PATH, save_best_only=True)\n",
        "\n",
        "model.fit_generator(generator=train_gen, steps_per_epoch = train_num_batches,\n",
        "                    epochs = NUM_EPOCHS,\n",
        "                    verbose = 1, validation_data = test_gen, \n",
        "                    validation_steps = test_num_batches,\n",
        "                    callbacks = [checkpoint])\n",
        "\n",
        "model.save_weights(WEIGHT_FILE_PATH)"
      ],
      "execution_count": 24,
      "outputs": [
        {
          "output_type": "stream",
          "text": [
            "Epoch 1/10\n",
            "976/975 [==============================] - 212s 217ms/step - loss: 0.5862 - accuracy: 0.0381 - val_loss: 0.9607 - val_accuracy: 0.0413\n",
            "Epoch 2/10\n",
            "976/975 [==============================] - 206s 212ms/step - loss: 0.5391 - accuracy: 0.0431 - val_loss: 0.6677 - val_accuracy: 0.0436\n",
            "Epoch 3/10\n",
            "976/975 [==============================] - 206s 211ms/step - loss: 0.5207 - accuracy: 0.0446 - val_loss: 0.5647 - val_accuracy: 0.0451\n",
            "Epoch 4/10\n",
            "976/975 [==============================] - 205s 210ms/step - loss: 0.5194 - accuracy: 0.0452 - val_loss: 0.6502 - val_accuracy: 0.0452\n",
            "Epoch 5/10\n",
            "976/975 [==============================] - 208s 213ms/step - loss: 0.5164 - accuracy: 0.0460 - val_loss: 0.5078 - val_accuracy: 0.0460\n",
            "Epoch 6/10\n",
            "976/975 [==============================] - 206s 211ms/step - loss: 0.5087 - accuracy: 0.0462 - val_loss: 0.4130 - val_accuracy: 0.0474\n",
            "Epoch 7/10\n",
            "976/975 [==============================] - 206s 211ms/step - loss: 0.5042 - accuracy: 0.0463 - val_loss: 0.4220 - val_accuracy: 0.0457\n",
            "Epoch 8/10\n",
            "976/975 [==============================] - 206s 211ms/step - loss: 0.5049 - accuracy: 0.0464 - val_loss: 0.5811 - val_accuracy: 0.0477\n",
            "Epoch 9/10\n",
            "976/975 [==============================] - 205s 210ms/step - loss: 0.5149 - accuracy: 0.0473 - val_loss: 0.4051 - val_accuracy: 0.0475\n",
            "Epoch 10/10\n",
            "976/975 [==============================] - 204s 209ms/step - loss: 0.5131 - accuracy: 0.0473 - val_loss: 0.4089 - val_accuracy: 0.0473\n"
          ],
          "name": "stdout"
        }
      ]
    },
    {
      "cell_type": "markdown",
      "metadata": {
        "colab_type": "text",
        "id": "YGeW9DC4g_D4"
      },
      "source": [
        "# Model Architecture "
      ]
    },
    {
      "cell_type": "code",
      "metadata": {
        "colab_type": "code",
        "id": "KzWrayDfg-o7",
        "colab": {
          "base_uri": "https://localhost:8080/",
          "height": 417
        },
        "outputId": "74189561-bc5a-4b26-af38-4d7037476c03"
      },
      "source": [
        "from keras.utils import plot_model\n",
        "plot_model(model, to_file='model.png')\n",
        "from IPython.display import Image\n",
        "Image(filename='model.png',height=400,width=400)"
      ],
      "execution_count": 25,
      "outputs": [
        {
          "output_type": "execute_result",
          "data": {
            "image/png": "[encoded data removed]",
            "text/plain": [
              "<IPython.core.display.Image object>"
            ]
          },
          "metadata": {
            "tags": [],
            "image/png": {
              "width": 400,
              "height": 400
            }
          },
          "execution_count": 25
        }
      ]
    },
    {
      "cell_type": "markdown",
      "metadata": {
        "id": "FKnqwC4ndcE4",
        "colab_type": "text"
      },
      "source": [
        "# The Model architecture is explined in the diagram above "
      ]
    },
    {
      "cell_type": "markdown",
      "metadata": {
        "id": "A1a13QS9fuow",
        "colab_type": "text"
      },
      "source": [
        "<ol>Riki chatbot Model Architecture can be summarized as follows:\n",
        "<li> Initially, Encoder layer and Decoder layer are created w.r.t Glove embedding size.\n",
        "<li> Encoder LSTM layer encodes the input words in the form of encoder outputs, encoder hidden states and encoder context.\n",
        "<li> Using encoder hidden states and encoder context, Decoder LSTM creates target words in the form of decoder outputs, decoder hiddern states and decoder context.\n",
        "<li> Finally a Dense layer uses the decoder output created in previous step\n",
        "to predict next word in the vocabulary\n",
        "</ol>"
      ]
    },
    {
      "cell_type": "markdown",
      "metadata": {
        "id": "pnNAPfQFdcFG",
        "colab_type": "text"
      },
      "source": [
        "# Check-5 "
      ]
    },
    {
      "cell_type": "markdown",
      "metadata": {
        "id": "ecKi6g5MdcFI",
        "colab_type": "text"
      },
      "source": [
        "Check the model summary should look like this "
      ]
    },
    {
      "cell_type": "code",
      "metadata": {
        "id": "x2-ZeC66dcFJ",
        "colab_type": "code",
        "colab": {
          "base_uri": "https://localhost:8080/",
          "height": 353
        },
        "outputId": "0b8236e2-c623-4dc2-bffc-b66f7d29df5d"
      },
      "source": [
        "model.summary()"
      ],
      "execution_count": 26,
      "outputs": [
        {
          "output_type": "stream",
          "text": [
            "Model: \"model_1\"\n",
            "__________________________________________________________________________________________________\n",
            "Layer (type)                    Output Shape         Param #     Connected to                     \n",
            "==================================================================================================\n",
            "encoder_inputs (InputLayer)     (None, None, 100)    0                                            \n",
            "__________________________________________________________________________________________________\n",
            "decoder_inputs (InputLayer)     (None, None, 100)    0                                            \n",
            "__________________________________________________________________________________________________\n",
            "encoder_lstm (LSTM)             [(None, 256), (None, 365568      encoder_inputs[0][0]             \n",
            "__________________________________________________________________________________________________\n",
            "decoder_lstm (LSTM)             [(None, None, 256),  365568      decoder_inputs[0][0]             \n",
            "                                                                 encoder_lstm[0][1]               \n",
            "                                                                 encoder_lstm[0][2]               \n",
            "__________________________________________________________________________________________________\n",
            "decoder_dense (Dense)           (None, None, 10001)  2570257     decoder_lstm[0][0]               \n",
            "==================================================================================================\n",
            "Total params: 3,301,393\n",
            "Trainable params: 3,301,393\n",
            "Non-trainable params: 0\n",
            "__________________________________________________________________________________________________\n"
          ],
          "name": "stdout"
        }
      ]
    },
    {
      "cell_type": "markdown",
      "metadata": {
        "id": "eOTTSdcndcFS",
        "colab_type": "text"
      },
      "source": [
        "# Prediction"
      ]
    },
    {
      "cell_type": "markdown",
      "metadata": {
        "id": "_LnAronEeK_d",
        "colab_type": "text"
      },
      "source": [
        "<ol>I have provided two ways to interact with Riki chatbot:\n",
        "<li> Provide input statement/sentence to reply method of Riki chatbot.(Predict Manually)\n",
        "<li> Use a basic user-interface to provide input statement/sentence\n",
        "to Riki chatbot which internally calls it's reply() method to provide the output.(Predicting with interactive interface)\n",
        "</ol>"
      ]
    },
    {
      "cell_type": "code",
      "metadata": {
        "id": "xY39i9S7d2al",
        "colab_type": "code",
        "colab": {}
      },
      "source": [
        "class RikiChatBot(object):\n",
        "    model = None\n",
        "    encoder_model = None\n",
        "    decoder_model = None\n",
        "    target_word2idx = None\n",
        "    target_idx2word = None\n",
        "    max_decoder_seq_length = None\n",
        "    max_encoder_seq_length = None\n",
        "    num_decoder_tokens = None\n",
        "    word2em = None\n",
        "\n",
        "    def __init__(self):\n",
        "        self.word2em = load_glove_vector()\n",
        "        print(len(self.word2em))\n",
        "        print(self.word2em['start'])\n",
        "\n",
        "        self.target_word2idx = np.load(\n",
        "            DATA_SET_NAME + '/word-glove-target-word2idx.npy', allow_pickle=True).item()\n",
        "        self.target_idx2word = np.load(\n",
        "            DATA_SET_NAME + '/word-glove-target-idx2word.npy', allow_pickle=True).item()\n",
        "        context = np.load(DATA_SET_NAME + '/word-glove-context.npy', allow_pickle=True).item()\n",
        "        self.max_encoder_seq_length = context['encoder_max_seq_length']\n",
        "        self.max_decoder_seq_length = context['decoder_max_seq_length']\n",
        "        self.num_decoder_tokens = context['num_decoder_tokens']\n",
        "\n",
        "        encoder_inputs = Input(shape=(None, GLOVE_EMBEDDING_SIZE), name='encoder_inputs')\n",
        "        encoder_lstm = LSTM(units=HIDDEN_UNITS, return_state=True, name=\"encoder_lstm\")\n",
        "        encoder_outputs, encoder_state_h, encoder_state_c = encoder_lstm(encoder_inputs)\n",
        "        encoder_states = [encoder_state_h, encoder_state_c]\n",
        "\n",
        "        decoder_inputs = Input(shape=(None, GLOVE_EMBEDDING_SIZE), name='decoder_inputs')\n",
        "        decoder_lstm = LSTM(units=HIDDEN_UNITS, return_sequences=True, return_state=True, name='decoder_lstm')\n",
        "        decoder_outputs, _, _ = decoder_lstm(decoder_inputs, initial_state=encoder_states)\n",
        "        decoder_dense = Dense(self.num_decoder_tokens, activation='softmax', name='decoder_dense')\n",
        "        decoder_outputs = decoder_dense(decoder_outputs)\n",
        "\n",
        "        self.model = Model([encoder_inputs, decoder_inputs], decoder_outputs)\n",
        "\n",
        "        self.model.load_weights(DATA_SET_NAME + '/word-glove-weights.h5')\n",
        "        self.model.compile(loss='categorical_crossentropy', optimizer='rmsprop')\n",
        "\n",
        "        self.encoder_model = Model(encoder_inputs, encoder_states)\n",
        "\n",
        "        decoder_state_inputs = [Input(shape=(HIDDEN_UNITS,)), Input(shape=(HIDDEN_UNITS,))]\n",
        "        decoder_outputs, state_h, state_c = decoder_lstm(decoder_inputs, initial_state=decoder_state_inputs)\n",
        "        decoder_states = [state_h, state_c]\n",
        "        decoder_outputs = decoder_dense(decoder_outputs)\n",
        "        self.decoder_model = Model([decoder_inputs] + decoder_state_inputs, [decoder_outputs] + decoder_states)\n",
        "\n",
        "    def reply(self, input_text):\n",
        "        input_seq = []\n",
        "        input_emb = []\n",
        "        for word in nltk.word_tokenize(input_text.lower()):\n",
        "            if not in_white_list(word):\n",
        "                continue\n",
        "            emb = np.zeros(shape=GLOVE_EMBEDDING_SIZE)\n",
        "            if word in self.word2em:\n",
        "                emb = self.word2em[word]\n",
        "            input_emb.append(emb)\n",
        "        input_seq.append(input_emb)\n",
        "        input_seq = pad_sequences(input_seq, self.max_encoder_seq_length)\n",
        "        states_value = self.encoder_model.predict(input_seq)\n",
        "        target_seq = np.zeros((1, 1, GLOVE_EMBEDDING_SIZE))\n",
        "        target_seq[0, 0, :] = self.word2em['start']\n",
        "        target_text = ''\n",
        "        target_text_len = 0\n",
        "        terminated = False\n",
        "        while not terminated:\n",
        "            output_tokens, h, c = self.decoder_model.predict([target_seq] + states_value)\n",
        "\n",
        "            sample_token_idx = np.argmax(output_tokens[0, -1, :])\n",
        "            sample_word = self.target_idx2word[sample_token_idx]\n",
        "            target_text_len += 1\n",
        "\n",
        "            if sample_word != 'start' and sample_word != 'end':\n",
        "                target_text += ' ' + sample_word\n",
        "\n",
        "            if sample_word == 'end' or target_text_len >= self.max_decoder_seq_length:\n",
        "                terminated = True\n",
        "\n",
        "            target_seq = np.zeros((1, 1, GLOVE_EMBEDDING_SIZE))\n",
        "            if sample_word in self.word2em:\n",
        "                target_seq[0, 0, :] = self.word2em[sample_word]\n",
        "\n",
        "            states_value = [h, c]\n",
        "        return target_text.strip()\n",
        "\n",
        "    def test_run(self):\n",
        "        print(\"testing\")\n",
        "        print(self.reply('Hello'))"
      ],
      "execution_count": 0,
      "outputs": []
    },
    {
      "cell_type": "code",
      "metadata": {
        "id": "bAYsvUSWgKUh",
        "colab_type": "code",
        "colab": {}
      },
      "source": [
        "def main():\n",
        "    model = RikiChatBot()\n",
        "    model.test_run()"
      ],
      "execution_count": 0,
      "outputs": []
    },
    {
      "cell_type": "code",
      "metadata": {
        "id": "MOs_csYAgjCq",
        "colab_type": "code",
        "colab": {
          "base_uri": "https://localhost:8080/",
          "height": 319
        },
        "outputId": "a61d18bf-e48b-40e1-8f58-85c0213d9394"
      },
      "source": [
        "if __name__ == '__main__':\n",
        "    main()"
      ],
      "execution_count": 29,
      "outputs": [
        {
          "output_type": "stream",
          "text": [
            "1193514\n",
            "[-0.17989   0.22297   0.47938  -0.71227  -0.45818   1.0285    0.32394\n",
            " -0.060409 -0.37064   0.3051   -0.14261  -0.56449  -4.5301    0.54817\n",
            " -0.85281  -0.086907 -0.28587   0.86288  -0.28724  -0.65113  -0.97384\n",
            "  0.11036  -0.05808  -0.034859 -0.36309   0.19478   0.17636  -0.32154\n",
            " -0.22864  -0.11961  -0.044675  0.54424  -0.25474   0.21692   0.5004\n",
            "  0.21677   0.33958  -0.27821   0.58674   0.013013 -0.98293   0.5214\n",
            "  0.11687  -0.10702   0.1903    0.25038  -0.24482  -0.068194 -0.23054\n",
            "  0.24936   0.081091 -0.71015   0.050871 -0.16209   0.49785  -0.44498\n",
            " -0.79807  -0.1008    0.80597   0.18716  -0.65218  -0.27916   0.23074\n",
            " -0.35599  -0.18894   0.36532   0.74004  -0.29412   0.90441   0.067676\n",
            " -0.19106   0.59315   0.058992  0.53448   0.32551   0.060201  0.28332\n",
            "  0.026973 -0.079146 -0.40832   1.3507   -0.1911   -0.23131  -0.37369\n",
            "  0.32181   0.10459  -0.11756   0.028256  0.27408  -0.289    -0.21644\n",
            "  0.17697  -0.23683   0.15782  -0.22889   0.26629  -0.28217   0.29003\n",
            " -0.032464 -0.55074 ]\n",
            "testing\n",
            "i 'm not going to be be be be be be be be be be be be be be be be be be be be be be be be be be be be be be be be be be be be be\n"
          ],
          "name": "stdout"
        }
      ]
    },
    {
      "cell_type": "code",
      "metadata": {
        "id": "DAtFknvScjjr",
        "colab_type": "code",
        "colab": {
          "base_uri": "https://localhost:8080/",
          "height": 286
        },
        "outputId": "f9a533e7-6802-4f29-a9cc-822df6d59a51"
      },
      "source": [
        "riki = RikiChatBot()"
      ],
      "execution_count": 30,
      "outputs": [
        {
          "output_type": "stream",
          "text": [
            "1193514\n",
            "[-0.17989   0.22297   0.47938  -0.71227  -0.45818   1.0285    0.32394\n",
            " -0.060409 -0.37064   0.3051   -0.14261  -0.56449  -4.5301    0.54817\n",
            " -0.85281  -0.086907 -0.28587   0.86288  -0.28724  -0.65113  -0.97384\n",
            "  0.11036  -0.05808  -0.034859 -0.36309   0.19478   0.17636  -0.32154\n",
            " -0.22864  -0.11961  -0.044675  0.54424  -0.25474   0.21692   0.5004\n",
            "  0.21677   0.33958  -0.27821   0.58674   0.013013 -0.98293   0.5214\n",
            "  0.11687  -0.10702   0.1903    0.25038  -0.24482  -0.068194 -0.23054\n",
            "  0.24936   0.081091 -0.71015   0.050871 -0.16209   0.49785  -0.44498\n",
            " -0.79807  -0.1008    0.80597   0.18716  -0.65218  -0.27916   0.23074\n",
            " -0.35599  -0.18894   0.36532   0.74004  -0.29412   0.90441   0.067676\n",
            " -0.19106   0.59315   0.058992  0.53448   0.32551   0.060201  0.28332\n",
            "  0.026973 -0.079146 -0.40832   1.3507   -0.1911   -0.23131  -0.37369\n",
            "  0.32181   0.10459  -0.11756   0.028256  0.27408  -0.289    -0.21644\n",
            "  0.17697  -0.23683   0.15782  -0.22889   0.26629  -0.28217   0.29003\n",
            " -0.032464 -0.55074 ]\n"
          ],
          "name": "stdout"
        }
      ]
    },
    {
      "cell_type": "markdown",
      "metadata": {
        "id": "enp8QlnlewwL",
        "colab_type": "text"
      },
      "source": [
        "Method 1: Predicting Manually"
      ]
    },
    {
      "cell_type": "code",
      "metadata": {
        "id": "lSj2j7red65A",
        "colab_type": "code",
        "colab": {
          "base_uri": "https://localhost:8080/",
          "height": 34
        },
        "outputId": "37e4c987-f247-4ff9-dacf-fd39819dd451"
      },
      "source": [
        "riki.reply(\"That's amazing!!!\")"
      ],
      "execution_count": 31,
      "outputs": [
        {
          "output_type": "execute_result",
          "data": {
            "text/plain": [
              "\"i do n't know . . . . . . . . . . . . . . . . . . . . . . . . . . . . . . . . . . . . .\""
            ]
          },
          "metadata": {
            "tags": []
          },
          "execution_count": 31
        }
      ]
    },
    {
      "cell_type": "markdown",
      "metadata": {
        "id": "4BcknG4ue4Nt",
        "colab_type": "text"
      },
      "source": [
        "Method 2: Predicting with interactive interface (Please execute below 2 cells.)"
      ]
    },
    {
      "cell_type": "code",
      "metadata": {
        "id": "IYXHAX6tX6Ka",
        "colab_type": "code",
        "colab": {}
      },
      "source": [
        "chatbot_html = \"\"\"\n",
        "<style type=\"text/css\">#log p { margin: 5px; font-family: sans-serif; }</style>\n",
        "<div id=\"log\"\n",
        "     style=\"box-sizing: border-box;\n",
        "            width: 600px;\n",
        "            height: 32em;\n",
        "            border: 1px grey solid;\n",
        "            padding: 2px;\n",
        "            overflow: scroll;\">\n",
        "</div>\n",
        "<input type=\"text\" id=\"typehere\" placeholder=\"type here!\"\n",
        "       style=\"box-sizing: border-box;\n",
        "              width: 600px;\n",
        "              margin-top: 5px;\">\n",
        "<script>\n",
        "function paraWithText(t) {\n",
        "    let tn = document.createTextNode(t);\n",
        "    let ptag = document.createElement('p');\n",
        "    ptag.appendChild(tn);\n",
        "    return ptag;\n",
        "}\n",
        "document.querySelector('#typehere').onchange = async function() {\n",
        "    let inputField = document.querySelector('#typehere');\n",
        "    let val = inputField.value;\n",
        "    inputField.value = \"\";\n",
        "    let resp = await getResp(val);\n",
        "    let objDiv = document.getElementById(\"log\");\n",
        "    objDiv.appendChild(paraWithText('😀: ' + val));\n",
        "    objDiv.appendChild(paraWithText('🤖: ' + resp));\n",
        "    objDiv.scrollTop = objDiv.scrollHeight;\n",
        "};\n",
        "async function colabGetResp(val) {\n",
        "    let resp = await google.colab.kernel.invokeFunction(\n",
        "        'notebook.get_response', [val], {});\n",
        "    return resp.data['application/json']['result'];\n",
        "}\n",
        "async function webGetResp(val) {\n",
        "    let resp = await fetch(\"/response.json?sentence=\" + \n",
        "        encodeURIComponent(val));\n",
        "    let data = await resp.json();\n",
        "    return data['result'];\n",
        "}\n",
        "</script>\n",
        "\"\"\""
      ],
      "execution_count": 0,
      "outputs": []
    },
    {
      "cell_type": "code",
      "metadata": {
        "id": "9prl0CLRX9Cz",
        "colab_type": "code",
        "colab": {
          "base_uri": "https://localhost:8080/",
          "height": 490
        },
        "outputId": "e9c9f6c1-addf-40b4-be57-a42f06d952bb"
      },
      "source": [
        " import IPython\n",
        "from google.colab import output\n",
        "\n",
        "display(IPython.display.HTML(chatbot_html + \\\n",
        "                             \"<script>let getResp = colabGetResp;</script>\"))\n",
        "\n",
        "def get_response(val):\n",
        "    resp = riki.reply(val)\n",
        "    return IPython.display.JSON({'result': resp})\n",
        "\n",
        "output.register_callback('notebook.get_response', get_response)"
      ],
      "execution_count": 33,
      "outputs": [
        {
          "output_type": "display_data",
          "data": {
            "text/html": [
              "\n",
              "<style type=\"text/css\">#log p { margin: 5px; font-family: sans-serif; }</style>\n",
              "<div id=\"log\"\n",
              "     style=\"box-sizing: border-box;\n",
              "            width: 600px;\n",
              "            height: 32em;\n",
              "            border: 1px grey solid;\n",
              "            padding: 2px;\n",
              "            overflow: scroll;\">\n",
              "</div>\n",
              "<input type=\"text\" id=\"typehere\" placeholder=\"type here!\"\n",
              "       style=\"box-sizing: border-box;\n",
              "              width: 600px;\n",
              "              margin-top: 5px;\">\n",
              "<script>\n",
              "function paraWithText(t) {\n",
              "    let tn = document.createTextNode(t);\n",
              "    let ptag = document.createElement('p');\n",
              "    ptag.appendChild(tn);\n",
              "    return ptag;\n",
              "}\n",
              "document.querySelector('#typehere').onchange = async function() {\n",
              "    let inputField = document.querySelector('#typehere');\n",
              "    let val = inputField.value;\n",
              "    inputField.value = \"\";\n",
              "    let resp = await getResp(val);\n",
              "    let objDiv = document.getElementById(\"log\");\n",
              "    objDiv.appendChild(paraWithText('😀: ' + val));\n",
              "    objDiv.appendChild(paraWithText('🤖: ' + resp));\n",
              "    objDiv.scrollTop = objDiv.scrollHeight;\n",
              "};\n",
              "async function colabGetResp(val) {\n",
              "    let resp = await google.colab.kernel.invokeFunction(\n",
              "        'notebook.get_response', [val], {});\n",
              "    return resp.data['application/json']['result'];\n",
              "}\n",
              "async function webGetResp(val) {\n",
              "    let resp = await fetch(\"/response.json?sentence=\" + \n",
              "        encodeURIComponent(val));\n",
              "    let data = await resp.json();\n",
              "    return data['result'];\n",
              "}\n",
              "</script>\n",
              "<script>let getResp = colabGetResp;</script>"
            ],
            "text/plain": [
              "<IPython.core.display.HTML object>"
            ]
          },
          "metadata": {
            "tags": []
          }
        }
      ]
    }
  ]
}