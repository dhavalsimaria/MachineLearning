{
  "nbformat": 4,
  "nbformat_minor": 0,
  "metadata": {
    "colab": {
      "name": "DL & AI Assignment - 4.ipynb",
      "provenance": [],
      "collapsed_sections": [],
      "authorship_tag": "ABX9TyPJ45Mm0wvRg4VGOltOpdR0",
      "include_colab_link": true
    },
    "kernelspec": {
      "name": "python3",
      "display_name": "Python 3"
    },
    "accelerator": "GPU"
  },
  "cells": [
    {
      "cell_type": "markdown",
      "metadata": {
        "id": "view-in-github",
        "colab_type": "text"
      },
      "source": [
        "<a href=\"https://colab.research.google.com/github/dhavalsimaria/MachineLearning/blob/master/NITW/DL%20%26%20AI/DL_%26_AI_Assignment_4.ipynb\" target=\"_parent\"><img src=\"https://colab.research.google.com/assets/colab-badge.svg\" alt=\"Open In Colab\"/></a>"
      ]
    },
    {
      "cell_type": "markdown",
      "metadata": {
        "id": "SsYpogsa_D7w",
        "colab_type": "text"
      },
      "source": [
        "Import the required libraries"
      ]
    },
    {
      "cell_type": "code",
      "metadata": {
        "id": "95pxpfrH-L_Q",
        "colab_type": "code",
        "colab": {}
      },
      "source": [
        "import keras\n",
        "import pandas as pd\n",
        "import numpy as np\n",
        "import matplotlib.pyplot as plt\n",
        "from keras.layers import Dense, Dropout, Input, Conv2D, Flatten, BatchNormalization, Reshape, Activation, UpSampling2D\n",
        "from keras.models import Model,Sequential\n",
        "from keras.datasets import fashion_mnist\n",
        "from tqdm import tqdm\n",
        "from keras.layers.advanced_activations import LeakyReLU\n",
        "from keras.optimizers import adam"
      ],
      "execution_count": 0,
      "outputs": []
    },
    {
      "cell_type": "code",
      "metadata": {
        "id": "hIwcm-J2WGc_",
        "colab_type": "code",
        "colab": {}
      },
      "source": [
        "# Constants\n",
        "img_rows, img_cols = 28, 28\n",
        "opt = adam(lr=1e-3)\n",
        "dopt = adam(lr=1e-4)\n",
        "nch = 200\n",
        "dropout_rate = 0.25"
      ],
      "execution_count": 0,
      "outputs": []
    },
    {
      "cell_type": "markdown",
      "metadata": {
        "id": "Xss_zJcg_KiR",
        "colab_type": "text"
      },
      "source": [
        "Load the data from dataset"
      ]
    },
    {
      "cell_type": "code",
      "metadata": {
        "id": "lI4lMiUp_CY8",
        "colab_type": "code",
        "colab": {}
      },
      "source": [
        "(x_train,y_train), (x_test, y_test) = fashion_mnist.load_data()"
      ],
      "execution_count": 0,
      "outputs": []
    },
    {
      "cell_type": "markdown",
      "metadata": {
        "id": "PEKRREVx_eYw",
        "colab_type": "text"
      },
      "source": [
        "Normalize the data"
      ]
    },
    {
      "cell_type": "code",
      "metadata": {
        "id": "fkgriyB4U325",
        "colab_type": "code",
        "colab": {}
      },
      "source": [
        "x_train = x_train.reshape(x_train.shape[0], 1, 28, 28)"
      ],
      "execution_count": 0,
      "outputs": []
    },
    {
      "cell_type": "code",
      "metadata": {
        "id": "HJCQpbEI_jnY",
        "colab_type": "code",
        "colab": {}
      },
      "source": [
        "x_train_normalized = (x_train.astype(np.float32))/255"
      ],
      "execution_count": 0,
      "outputs": []
    },
    {
      "cell_type": "code",
      "metadata": {
        "id": "x7rAySyrCOMf",
        "colab_type": "code",
        "outputId": "70974bba-7e08-4a35-cb0f-efde33d69126",
        "colab": {
          "base_uri": "https://localhost:8080/",
          "height": 35
        }
      },
      "source": [
        "x_train_normalized.shape"
      ],
      "execution_count": 51,
      "outputs": [
        {
          "output_type": "execute_result",
          "data": {
            "text/plain": [
              "(60000, 1, 28, 28)"
            ]
          },
          "metadata": {
            "tags": []
          },
          "execution_count": 51
        }
      ]
    },
    {
      "cell_type": "markdown",
      "metadata": {
        "id": "0Vgi1Lx7_0hU",
        "colab_type": "text"
      },
      "source": [
        "Define Generator model"
      ]
    },
    {
      "cell_type": "code",
      "metadata": {
        "id": "k_zOlz7RAx4I",
        "colab_type": "code",
        "colab": {
          "base_uri": "https://localhost:8080/",
          "height": 592
        },
        "outputId": "21379a67-7c6a-49c0-f7a1-543f89c934d6"
      },
      "source": [
        "g_input = Input(shape=[100]) \n",
        "H = Dense(nch*14*14, init='glorot_normal')(g_input) \n",
        "H = BatchNormalization()(H) \n",
        "H = Activation('relu')(H) \n",
        "H = Reshape( [nch, 14, 14] )(H) \n",
        "H = UpSampling2D(size=(2, 2))(H)\n",
        "H = Conv2D(100, (3, 3), activation='relu', padding='same')(H)\n",
        "H = BatchNormalization()(H)\n",
        "H = Conv2D(50, (3, 3), activation='relu', padding='same')(H)\n",
        "H = BatchNormalization()(H)\n",
        "g_V = Conv2D(1, (1, 1), activation='sigmoid', padding='same')(H)\n",
        "generator = Model(g_input,g_V)\n",
        "generator.compile(loss='categorical_crossentropy',optimizer='rmsprop', metrics=['accuracy'])\n",
        "generator.summary()"
      ],
      "execution_count": 52,
      "outputs": [
        {
          "output_type": "stream",
          "text": [
            "Model: \"model_12\"\n",
            "_________________________________________________________________\n",
            "Layer (type)                 Output Shape              Param #   \n",
            "=================================================================\n",
            "input_25 (InputLayer)        (None, 100)               0         \n",
            "_________________________________________________________________\n",
            "dense_22 (Dense)             (None, 39200)             3959200   \n",
            "_________________________________________________________________\n",
            "batch_normalization_44 (Batc (None, 39200)             156800    \n",
            "_________________________________________________________________\n",
            "activation_15 (Activation)   (None, 39200)             0         \n",
            "_________________________________________________________________\n",
            "reshape_14 (Reshape)         (None, 200, 14, 14)       0         \n",
            "_________________________________________________________________\n",
            "up_sampling2d_14 (UpSampling (None, 400, 28, 14)       0         \n",
            "_________________________________________________________________\n",
            "conv2d_53 (Conv2D)           (None, 400, 28, 100)      12700     \n",
            "_________________________________________________________________\n",
            "batch_normalization_45 (Batc (None, 400, 28, 100)      400       \n",
            "_________________________________________________________________\n",
            "conv2d_54 (Conv2D)           (None, 400, 28, 50)       45050     \n",
            "_________________________________________________________________\n",
            "batch_normalization_46 (Batc (None, 400, 28, 50)       200       \n",
            "_________________________________________________________________\n",
            "conv2d_55 (Conv2D)           (None, 400, 28, 1)        51        \n",
            "=================================================================\n",
            "Total params: 4,174,401\n",
            "Trainable params: 4,095,701\n",
            "Non-trainable params: 78,700\n",
            "_________________________________________________________________\n"
          ],
          "name": "stdout"
        },
        {
          "output_type": "stream",
          "text": [
            "/usr/local/lib/python3.6/dist-packages/ipykernel_launcher.py:2: UserWarning: Update your `Dense` call to the Keras 2 API: `Dense(39200, kernel_initializer=\"glorot_normal\")`\n",
            "  \n"
          ],
          "name": "stderr"
        }
      ]
    },
    {
      "cell_type": "markdown",
      "metadata": {
        "id": "TFBxTdhoWrBG",
        "colab_type": "text"
      },
      "source": [
        "Define Discriminator Model"
      ]
    },
    {
      "cell_type": "code",
      "metadata": {
        "id": "dI3KnGmxMDfD",
        "colab_type": "code",
        "colab": {
          "base_uri": "https://localhost:8080/",
          "height": 661
        },
        "outputId": "e7f5750e-e672-4718-95e8-708280982553"
      },
      "source": [
        "shp = x_train.shape[1:]\n",
        "d_input = Input(shape=shp)\n",
        "H = Conv2D(256, (5, 5), subsample=(2, 2), border_mode = 'same', activation='relu')(d_input)\n",
        "H = LeakyReLU(0.2)(H)\n",
        "H = Dropout(dropout_rate)(H)\n",
        "H = Conv2D(512, (5, 5), subsample=(2, 2), border_mode = 'same', activation='relu')(H)\n",
        "H = LeakyReLU(0.2)(H)\n",
        "H = Dropout(dropout_rate)(H)\n",
        "H = Flatten()(H)\n",
        "H = Dense(256)(H)\n",
        "H = LeakyReLU(0.2)(H)\n",
        "H = Dropout(dropout_rate)(H)\n",
        "d_V = Dense(2,activation='softmax')(H)\n",
        "discriminator = Model(d_input,d_V)\n",
        "discriminator.compile(loss='categorical_crossentropy', optimizer=dopt)\n",
        "discriminator.summary()"
      ],
      "execution_count": 59,
      "outputs": [
        {
          "output_type": "stream",
          "text": [
            "Model: \"model_16\"\n",
            "_________________________________________________________________\n",
            "Layer (type)                 Output Shape              Param #   \n",
            "=================================================================\n",
            "input_29 (InputLayer)        (None, 1, 28, 28)         0         \n",
            "_________________________________________________________________\n",
            "conv2d_62 (Conv2D)           (None, 1, 14, 256)        179456    \n",
            "_________________________________________________________________\n",
            "leaky_re_lu_23 (LeakyReLU)   (None, 1, 14, 256)        0         \n",
            "_________________________________________________________________\n",
            "dropout_13 (Dropout)         (None, 1, 14, 256)        0         \n",
            "_________________________________________________________________\n",
            "conv2d_63 (Conv2D)           (None, 1, 7, 512)         3277312   \n",
            "_________________________________________________________________\n",
            "leaky_re_lu_24 (LeakyReLU)   (None, 1, 7, 512)         0         \n",
            "_________________________________________________________________\n",
            "dropout_14 (Dropout)         (None, 1, 7, 512)         0         \n",
            "_________________________________________________________________\n",
            "flatten_7 (Flatten)          (None, 3584)              0         \n",
            "_________________________________________________________________\n",
            "dense_29 (Dense)             (None, 256)               917760    \n",
            "_________________________________________________________________\n",
            "leaky_re_lu_25 (LeakyReLU)   (None, 256)               0         \n",
            "_________________________________________________________________\n",
            "dropout_15 (Dropout)         (None, 256)               0         \n",
            "_________________________________________________________________\n",
            "dense_30 (Dense)             (None, 2)                 514       \n",
            "=================================================================\n",
            "Total params: 4,375,042\n",
            "Trainable params: 4,375,042\n",
            "Non-trainable params: 0\n",
            "_________________________________________________________________\n"
          ],
          "name": "stdout"
        },
        {
          "output_type": "stream",
          "text": [
            "/usr/local/lib/python3.6/dist-packages/ipykernel_launcher.py:3: UserWarning: Update your `Conv2D` call to the Keras 2 API: `Conv2D(256, (5, 5), activation=\"relu\", strides=(2, 2), padding=\"same\")`\n",
            "  This is separate from the ipykernel package so we can avoid doing imports until\n",
            "/usr/local/lib/python3.6/dist-packages/ipykernel_launcher.py:6: UserWarning: Update your `Conv2D` call to the Keras 2 API: `Conv2D(512, (5, 5), activation=\"relu\", strides=(2, 2), padding=\"same\")`\n",
            "  \n"
          ],
          "name": "stderr"
        }
      ]
    }
  ]
}