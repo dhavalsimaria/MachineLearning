{
  "nbformat": 4,
  "nbformat_minor": 0,
  "metadata": {
    "colab": {
      "name": "DL & AI Assignment - 2.ipynb",
      "provenance": [],
      "collapsed_sections": [],
      "authorship_tag": "ABX9TyPTejXwJ2D5YggDBmcOScWc",
      "include_colab_link": true
    },
    "kernelspec": {
      "name": "python3",
      "display_name": "Python 3"
    },
    "accelerator": "GPU"
  },
  "cells": [
    {
      "cell_type": "markdown",
      "metadata": {
        "id": "view-in-github",
        "colab_type": "text"
      },
      "source": [
        "<a href=\"https://colab.research.google.com/github/dhavalsimaria/MachineLearning/blob/master/NITW/DL%20%26%20AI/DL_%26_AI_Assignment_2.ipynb\" target=\"_parent\"><img src=\"https://colab.research.google.com/assets/colab-badge.svg\" alt=\"Open In Colab\"/></a>"
      ]
    },
    {
      "cell_type": "code",
      "metadata": {
        "id": "BPT2RZa1PAvC",
        "colab_type": "code",
        "outputId": "216cd98e-f32d-4caf-fbe2-cda1e02ba338",
        "colab": {
          "base_uri": "https://localhost:8080/",
          "height": 107
        }
      },
      "source": [
        "import sys, os\n",
        "import pandas as pd\n",
        "import numpy as np\n",
        "from sklearn.model_selection import train_test_split\n",
        "import tensorflow.compat.v1 as tf\n",
        "tf.disable_v2_behavior()\n",
        "from keras.models import Sequential\n",
        "from keras.layers import Dense, Dropout, Activation, Flatten\n",
        "from keras.layers import Conv2D, MaxPooling2D, BatchNormalization\n",
        "from keras.losses import categorical_crossentropy\n",
        "from keras.optimizers import Adam\n",
        "from keras.regularizers import l2\n",
        "from keras.callbacks import ReduceLROnPlateau, TensorBoard, EarlyStopping, ModelCheckpoint\n",
        "from keras.models import load_model\n",
        "from keras.models import model_from_json"
      ],
      "execution_count": 1,
      "outputs": [
        {
          "output_type": "stream",
          "text": [
            "WARNING:tensorflow:From /usr/local/lib/python3.6/dist-packages/tensorflow/python/compat/v2_compat.py:96: disable_resource_variables (from tensorflow.python.ops.variable_scope) is deprecated and will be removed in a future version.\n",
            "Instructions for updating:\n",
            "non-resource variables are not supported in the long term\n"
          ],
          "name": "stdout"
        },
        {
          "output_type": "stream",
          "text": [
            "Using TensorFlow backend.\n"
          ],
          "name": "stderr"
        }
      ]
    },
    {
      "cell_type": "code",
      "metadata": {
        "id": "NxMrQUqrPj18",
        "colab_type": "code",
        "colab": {}
      },
      "source": [
        "NUM_FEATURES = 64\n",
        "NUM_LABELS = 7\n",
        "BATCH_SIZE = 64\n",
        "EPOCHS = 20\n",
        "WIDTH, HEIGHT = 48, 48"
      ],
      "execution_count": 0,
      "outputs": []
    },
    {
      "cell_type": "code",
      "metadata": {
        "id": "04p57P5LQAJ8",
        "colab_type": "code",
        "outputId": "4cffbd5d-81a0-4031-bf0d-f6c06309754b",
        "colab": {
          "base_uri": "https://localhost:8080/",
          "height": 384
        }
      },
      "source": [
        "!wget https://www.dropbox.com/s/n8bninud94blch4/fer2013.csv"
      ],
      "execution_count": 3,
      "outputs": [
        {
          "output_type": "stream",
          "text": [
            "--2020-04-13 11:06:18--  https://www.dropbox.com/s/n8bninud94blch4/fer2013.csv\n",
            "Resolving www.dropbox.com (www.dropbox.com)... 162.125.82.1, 2620:100:6032:1::a27d:5201\n",
            "Connecting to www.dropbox.com (www.dropbox.com)|162.125.82.1|:443... connected.\n",
            "HTTP request sent, awaiting response... 301 Moved Permanently\n",
            "Location: /s/raw/n8bninud94blch4/fer2013.csv [following]\n",
            "--2020-04-13 11:06:18--  https://www.dropbox.com/s/raw/n8bninud94blch4/fer2013.csv\n",
            "Reusing existing connection to www.dropbox.com:443.\n",
            "HTTP request sent, awaiting response... 302 Found\n",
            "Location: https://uc439722e3a92c88f8c02be8a70b.dl.dropboxusercontent.com/cd/0/inline/A1x2fcNNayxMmQz4ygMd4Z7HtA6Vvhbp7xQTvcDM5_HaFucV8d91NVs80oURhCMrLioiHee4LdsIM_OKfXpHL0Qllh5IANWsLOzs0yR4CxPpPOxCc8w5kbq3wpaObyBOZNI/file# [following]\n",
            "--2020-04-13 11:06:18--  https://uc439722e3a92c88f8c02be8a70b.dl.dropboxusercontent.com/cd/0/inline/A1x2fcNNayxMmQz4ygMd4Z7HtA6Vvhbp7xQTvcDM5_HaFucV8d91NVs80oURhCMrLioiHee4LdsIM_OKfXpHL0Qllh5IANWsLOzs0yR4CxPpPOxCc8w5kbq3wpaObyBOZNI/file\n",
            "Resolving uc439722e3a92c88f8c02be8a70b.dl.dropboxusercontent.com (uc439722e3a92c88f8c02be8a70b.dl.dropboxusercontent.com)... 162.125.82.6, 2620:100:6032:6::a27d:5206\n",
            "Connecting to uc439722e3a92c88f8c02be8a70b.dl.dropboxusercontent.com (uc439722e3a92c88f8c02be8a70b.dl.dropboxusercontent.com)|162.125.82.6|:443... connected.\n",
            "HTTP request sent, awaiting response... 200 OK\n",
            "Length: 301072766 (287M) [text/plain]\n",
            "Saving to: ‘fer2013.csv’\n",
            "\n",
            "fer2013.csv         100%[===================>] 287.12M  5.33MB/s    in 43s     \n",
            "\n",
            "2020-04-13 11:07:02 (6.70 MB/s) - ‘fer2013.csv’ saved [301072766/301072766]\n",
            "\n"
          ],
          "name": "stdout"
        }
      ]
    },
    {
      "cell_type": "code",
      "metadata": {
        "id": "ilJkC7_5Qd-A",
        "colab_type": "code",
        "colab": {}
      },
      "source": [
        "emotions_df = pd.read_csv(\"fer2013.csv\")"
      ],
      "execution_count": 0,
      "outputs": []
    },
    {
      "cell_type": "code",
      "metadata": {
        "id": "Q0_eEZsqRUxP",
        "colab_type": "code",
        "outputId": "1d75bf8a-0a14-493c-a606-5092fee60b29",
        "colab": {
          "base_uri": "https://localhost:8080/",
          "height": 202
        }
      },
      "source": [
        "emotions_df.head(5)"
      ],
      "execution_count": 5,
      "outputs": [
        {
          "output_type": "execute_result",
          "data": {
            "text/html": [
              "<div>\n",
              "<style scoped>\n",
              "    .dataframe tbody tr th:only-of-type {\n",
              "        vertical-align: middle;\n",
              "    }\n",
              "\n",
              "    .dataframe tbody tr th {\n",
              "        vertical-align: top;\n",
              "    }\n",
              "\n",
              "    .dataframe thead th {\n",
              "        text-align: right;\n",
              "    }\n",
              "</style>\n",
              "<table border=\"1\" class=\"dataframe\">\n",
              "  <thead>\n",
              "    <tr style=\"text-align: right;\">\n",
              "      <th></th>\n",
              "      <th>emotion</th>\n",
              "      <th>pixels</th>\n",
              "      <th>Usage</th>\n",
              "    </tr>\n",
              "  </thead>\n",
              "  <tbody>\n",
              "    <tr>\n",
              "      <th>0</th>\n",
              "      <td>0</td>\n",
              "      <td>70 80 82 72 58 58 60 63 54 58 60 48 89 115 121...</td>\n",
              "      <td>Training</td>\n",
              "    </tr>\n",
              "    <tr>\n",
              "      <th>1</th>\n",
              "      <td>0</td>\n",
              "      <td>151 150 147 155 148 133 111 140 170 174 182 15...</td>\n",
              "      <td>Training</td>\n",
              "    </tr>\n",
              "    <tr>\n",
              "      <th>2</th>\n",
              "      <td>2</td>\n",
              "      <td>231 212 156 164 174 138 161 173 182 200 106 38...</td>\n",
              "      <td>Training</td>\n",
              "    </tr>\n",
              "    <tr>\n",
              "      <th>3</th>\n",
              "      <td>4</td>\n",
              "      <td>24 32 36 30 32 23 19 20 30 41 21 22 32 34 21 1...</td>\n",
              "      <td>Training</td>\n",
              "    </tr>\n",
              "    <tr>\n",
              "      <th>4</th>\n",
              "      <td>6</td>\n",
              "      <td>4 0 0 0 0 0 0 0 0 0 0 0 3 15 23 28 48 50 58 84...</td>\n",
              "      <td>Training</td>\n",
              "    </tr>\n",
              "  </tbody>\n",
              "</table>\n",
              "</div>"
            ],
            "text/plain": [
              "   emotion                                             pixels     Usage\n",
              "0        0  70 80 82 72 58 58 60 63 54 58 60 48 89 115 121...  Training\n",
              "1        0  151 150 147 155 148 133 111 140 170 174 182 15...  Training\n",
              "2        2  231 212 156 164 174 138 161 173 182 200 106 38...  Training\n",
              "3        4  24 32 36 30 32 23 19 20 30 41 21 22 32 34 21 1...  Training\n",
              "4        6  4 0 0 0 0 0 0 0 0 0 0 0 3 15 23 28 48 50 58 84...  Training"
            ]
          },
          "metadata": {
            "tags": []
          },
          "execution_count": 5
        }
      ]
    },
    {
      "cell_type": "markdown",
      "metadata": {
        "id": "PAysoAWDTB5e",
        "colab_type": "text"
      },
      "source": [
        "Getting features for training"
      ]
    },
    {
      "cell_type": "code",
      "metadata": {
        "id": "noNTodR1SCnT",
        "colab_type": "code",
        "colab": {}
      },
      "source": [
        "datapoints = emotions_df['pixels'].tolist()\n",
        "\n",
        "X = []\n",
        "for xsequence in datapoints:\n",
        "    xx = [int(xp) for xp in xsequence.split(' ')]\n",
        "    xx = np.asarray(xx).reshape(WIDTH, HEIGHT)\n",
        "    X.append(xx.astype('float32')/255)"
      ],
      "execution_count": 0,
      "outputs": []
    },
    {
      "cell_type": "code",
      "metadata": {
        "id": "ygrqDhCNSqPJ",
        "colab_type": "code",
        "colab": {}
      },
      "source": [
        "X = np.asarray(X)\n",
        "X = np.expand_dims(X, -1)"
      ],
      "execution_count": 0,
      "outputs": []
    },
    {
      "cell_type": "markdown",
      "metadata": {
        "id": "hbQiSd9UTGGq",
        "colab_type": "text"
      },
      "source": [
        "Getting Labels for training"
      ]
    },
    {
      "cell_type": "code",
      "metadata": {
        "id": "2CMinlepS_Qw",
        "colab_type": "code",
        "colab": {}
      },
      "source": [
        "y = pd.get_dummies(emotions_df['emotion'])"
      ],
      "execution_count": 0,
      "outputs": []
    },
    {
      "cell_type": "code",
      "metadata": {
        "id": "vGE6x2-rTUif",
        "colab_type": "code",
        "outputId": "c445be22-487f-494c-d033-efdaa915df52",
        "colab": {
          "base_uri": "https://localhost:8080/",
          "height": 69
        }
      },
      "source": [
        "print(\"Number of Features: \"+str(len(X[0])))\n",
        "print(\"Number of Labels: \"+ str(len(y[0])))\n",
        "print(\"Number of examples in dataset:\"+str(len(X)))"
      ],
      "execution_count": 9,
      "outputs": [
        {
          "output_type": "stream",
          "text": [
            "Number of Features: 48\n",
            "Number of Labels: 35887\n",
            "Number of examples in dataset:35887\n"
          ],
          "name": "stdout"
        }
      ]
    },
    {
      "cell_type": "code",
      "metadata": {
        "id": "8aoCyV6QTbnH",
        "colab_type": "code",
        "colab": {}
      },
      "source": [
        "X -= np.mean(X, axis=0)\n",
        "X /= np.std(X, axis=0)"
      ],
      "execution_count": 0,
      "outputs": []
    },
    {
      "cell_type": "code",
      "metadata": {
        "id": "WT13FF26TpA4",
        "colab_type": "code",
        "colab": {}
      },
      "source": [
        "X_train, X_test, y_train, y_test = train_test_split(X, y, test_size=0.1, random_state=42)"
      ],
      "execution_count": 0,
      "outputs": []
    },
    {
      "cell_type": "code",
      "metadata": {
        "id": "BKpbtFZkreYo",
        "colab_type": "code",
        "colab": {}
      },
      "source": [
        "np.save('modytest', y_test)"
      ],
      "execution_count": 0,
      "outputs": []
    },
    {
      "cell_type": "code",
      "metadata": {
        "id": "KcJY3cGPUHi8",
        "colab_type": "code",
        "colab": {}
      },
      "source": [
        "model = Sequential()"
      ],
      "execution_count": 0,
      "outputs": []
    },
    {
      "cell_type": "markdown",
      "metadata": {
        "id": "6Q6ZolrMUjj-",
        "colab_type": "text"
      },
      "source": [
        "Layer: 1"
      ]
    },
    {
      "cell_type": "code",
      "metadata": {
        "id": "QYQ5cj5-UOFt",
        "colab_type": "code",
        "outputId": "e4761dd2-cee0-43a3-9867-78b662bdb3b7",
        "colab": {
          "base_uri": "https://localhost:8080/",
          "height": 89
        }
      },
      "source": [
        "model.add(Conv2D(NUM_FEATURES, kernel_size=(5, 5), activation='relu', input_shape=(WIDTH, HEIGHT, 1), data_format='channels_last', kernel_regularizer=l2(0.01)))\n",
        "model.add(Conv2D(NUM_FEATURES, kernel_size=(5, 5), activation='relu', padding='same'))\n",
        "model.add(BatchNormalization())\n",
        "model.add(MaxPooling2D(pool_size=(2, 2), strides=(2, 2)))\n",
        "model.add(Dropout(0.5))"
      ],
      "execution_count": 14,
      "outputs": [
        {
          "output_type": "stream",
          "text": [
            "WARNING:tensorflow:From /usr/local/lib/python3.6/dist-packages/tensorflow/python/ops/resource_variable_ops.py:1666: calling BaseResourceVariable.__init__ (from tensorflow.python.ops.resource_variable_ops) with constraint is deprecated and will be removed in a future version.\n",
            "Instructions for updating:\n",
            "If using Keras pass *_constraint arguments to layers.\n"
          ],
          "name": "stdout"
        }
      ]
    },
    {
      "cell_type": "markdown",
      "metadata": {
        "id": "KdFVHGjjUmYT",
        "colab_type": "text"
      },
      "source": [
        "Layer: 2"
      ]
    },
    {
      "cell_type": "code",
      "metadata": {
        "id": "nne2YcyPUn9L",
        "colab_type": "code",
        "colab": {}
      },
      "source": [
        "model.add(Conv2D(2*NUM_FEATURES, kernel_size=(5, 5), activation='relu', padding='same'))\n",
        "model.add(BatchNormalization())\n",
        "model.add(Conv2D(2*NUM_FEATURES, kernel_size=(5, 5), activation='relu', padding='same'))\n",
        "model.add(BatchNormalization())\n",
        "model.add(MaxPooling2D(pool_size=(2, 2), strides=(2, 2)))\n",
        "model.add(Dropout(0.5))"
      ],
      "execution_count": 0,
      "outputs": []
    },
    {
      "cell_type": "markdown",
      "metadata": {
        "id": "uWsO_PipUzq2",
        "colab_type": "text"
      },
      "source": [
        "Layer: 3"
      ]
    },
    {
      "cell_type": "code",
      "metadata": {
        "id": "tzEtYhIoUx7r",
        "colab_type": "code",
        "colab": {}
      },
      "source": [
        "model.add(Conv2D(2*2*NUM_FEATURES, kernel_size=(3, 3), activation='relu', padding='same'))\n",
        "model.add(BatchNormalization())\n",
        "model.add(Conv2D(2*2*NUM_FEATURES, kernel_size=(3, 3), activation='relu', padding='same'))\n",
        "model.add(BatchNormalization())\n",
        "model.add(MaxPooling2D(pool_size=(2, 2), strides=(2, 2)))\n",
        "model.add(Dropout(0.5))"
      ],
      "execution_count": 0,
      "outputs": []
    },
    {
      "cell_type": "markdown",
      "metadata": {
        "id": "gL41mqOzVNKd",
        "colab_type": "text"
      },
      "source": [
        "Layer: 4"
      ]
    },
    {
      "cell_type": "code",
      "metadata": {
        "id": "1Gsf-nACU-jm",
        "colab_type": "code",
        "colab": {}
      },
      "source": [
        "model.add(Flatten())\n",
        "\n",
        "model.add(Dense(2*2*2*NUM_FEATURES, activation='relu'))\n",
        "model.add(Dropout(0.4))\n",
        "model.add(Dense(2*2*NUM_FEATURES, activation='relu'))\n",
        "model.add(Dropout(0.4))\n",
        "model.add(Dense(2*NUM_FEATURES, activation='relu'))\n",
        "model.add(Dropout(0.5))\n",
        "\n",
        "model.add(Dense(NUM_LABELS, activation='softmax'))"
      ],
      "execution_count": 0,
      "outputs": []
    },
    {
      "cell_type": "code",
      "metadata": {
        "id": "ioRMPV7lVT6P",
        "colab_type": "code",
        "outputId": "3d32f08e-52d2-401b-b6f9-1377dccf386b",
        "colab": {
          "base_uri": "https://localhost:8080/",
          "height": 1000
        }
      },
      "source": [
        "model.summary()"
      ],
      "execution_count": 18,
      "outputs": [
        {
          "output_type": "stream",
          "text": [
            "Model: \"sequential_1\"\n",
            "_________________________________________________________________\n",
            "Layer (type)                 Output Shape              Param #   \n",
            "=================================================================\n",
            "conv2d_1 (Conv2D)            (None, 44, 44, 64)        1664      \n",
            "_________________________________________________________________\n",
            "conv2d_2 (Conv2D)            (None, 44, 44, 64)        102464    \n",
            "_________________________________________________________________\n",
            "batch_normalization_1 (Batch (None, 44, 44, 64)        256       \n",
            "_________________________________________________________________\n",
            "max_pooling2d_1 (MaxPooling2 (None, 22, 22, 64)        0         \n",
            "_________________________________________________________________\n",
            "dropout_1 (Dropout)          (None, 22, 22, 64)        0         \n",
            "_________________________________________________________________\n",
            "conv2d_3 (Conv2D)            (None, 22, 22, 128)       204928    \n",
            "_________________________________________________________________\n",
            "batch_normalization_2 (Batch (None, 22, 22, 128)       512       \n",
            "_________________________________________________________________\n",
            "conv2d_4 (Conv2D)            (None, 22, 22, 128)       409728    \n",
            "_________________________________________________________________\n",
            "batch_normalization_3 (Batch (None, 22, 22, 128)       512       \n",
            "_________________________________________________________________\n",
            "max_pooling2d_2 (MaxPooling2 (None, 11, 11, 128)       0         \n",
            "_________________________________________________________________\n",
            "dropout_2 (Dropout)          (None, 11, 11, 128)       0         \n",
            "_________________________________________________________________\n",
            "conv2d_5 (Conv2D)            (None, 11, 11, 256)       295168    \n",
            "_________________________________________________________________\n",
            "batch_normalization_4 (Batch (None, 11, 11, 256)       1024      \n",
            "_________________________________________________________________\n",
            "conv2d_6 (Conv2D)            (None, 11, 11, 256)       590080    \n",
            "_________________________________________________________________\n",
            "batch_normalization_5 (Batch (None, 11, 11, 256)       1024      \n",
            "_________________________________________________________________\n",
            "max_pooling2d_3 (MaxPooling2 (None, 5, 5, 256)         0         \n",
            "_________________________________________________________________\n",
            "dropout_3 (Dropout)          (None, 5, 5, 256)         0         \n",
            "_________________________________________________________________\n",
            "flatten_1 (Flatten)          (None, 6400)              0         \n",
            "_________________________________________________________________\n",
            "dense_1 (Dense)              (None, 512)               3277312   \n",
            "_________________________________________________________________\n",
            "dropout_4 (Dropout)          (None, 512)               0         \n",
            "_________________________________________________________________\n",
            "dense_2 (Dense)              (None, 256)               131328    \n",
            "_________________________________________________________________\n",
            "dropout_5 (Dropout)          (None, 256)               0         \n",
            "_________________________________________________________________\n",
            "dense_3 (Dense)              (None, 128)               32896     \n",
            "_________________________________________________________________\n",
            "dropout_6 (Dropout)          (None, 128)               0         \n",
            "_________________________________________________________________\n",
            "dense_4 (Dense)              (None, 7)                 903       \n",
            "=================================================================\n",
            "Total params: 5,049,799\n",
            "Trainable params: 5,048,135\n",
            "Non-trainable params: 1,664\n",
            "_________________________________________________________________\n"
          ],
          "name": "stdout"
        }
      ]
    },
    {
      "cell_type": "markdown",
      "metadata": {
        "id": "zkj7R6ovbaZJ",
        "colab_type": "text"
      },
      "source": [
        "Compiling the model with Adam Optimizer and Categorical Cross-Entropy loss"
      ]
    },
    {
      "cell_type": "code",
      "metadata": {
        "id": "iZouVem6bQad",
        "colab_type": "code",
        "colab": {}
      },
      "source": [
        "model.compile(loss=categorical_crossentropy,\n",
        "              optimizer = Adam(lr=1e-3, beta_1=0.9, beta_2=0.999, epsilon=1e-7),\n",
        "              metrics=['accuracy'])"
      ],
      "execution_count": 0,
      "outputs": []
    },
    {
      "cell_type": "markdown",
      "metadata": {
        "id": "JyVPdIPTcCns",
        "colab_type": "text"
      },
      "source": [
        "Training the model"
      ]
    },
    {
      "cell_type": "code",
      "metadata": {
        "id": "oJEhjbQ_h-KZ",
        "colab_type": "code",
        "outputId": "56e97e09-92c3-4b1c-900a-5ca69b702652",
        "colab": {
          "base_uri": "https://localhost:8080/",
          "height": 728
        }
      },
      "source": [
        "model.fit(np.array(X_train), np.array(y_train),\n",
        "          batch_size=BATCH_SIZE,\n",
        "          epochs=EPOCHS,\n",
        "          verbose=1,\n",
        "          shuffle=True)"
      ],
      "execution_count": 20,
      "outputs": [
        {
          "output_type": "stream",
          "text": [
            "Epoch 1/20\n",
            "32298/32298 [==============================] - 24s 737us/step - loss: 2.0232 - accuracy: 0.2216\n",
            "Epoch 2/20\n",
            "32298/32298 [==============================] - 17s 536us/step - loss: 1.7970 - accuracy: 0.2655\n",
            "Epoch 3/20\n",
            "32298/32298 [==============================] - 17s 536us/step - loss: 1.6580 - accuracy: 0.3392\n",
            "Epoch 4/20\n",
            "32298/32298 [==============================] - 17s 536us/step - loss: 1.5486 - accuracy: 0.3916\n",
            "Epoch 5/20\n",
            "32298/32298 [==============================] - 17s 536us/step - loss: 1.4881 - accuracy: 0.4200\n",
            "Epoch 6/20\n",
            "32298/32298 [==============================] - 17s 534us/step - loss: 1.4381 - accuracy: 0.4405\n",
            "Epoch 7/20\n",
            "32298/32298 [==============================] - 17s 535us/step - loss: 1.4056 - accuracy: 0.4604\n",
            "Epoch 8/20\n",
            "32298/32298 [==============================] - 17s 533us/step - loss: 1.3741 - accuracy: 0.4752\n",
            "Epoch 9/20\n",
            "32298/32298 [==============================] - 17s 535us/step - loss: 1.3435 - accuracy: 0.4874\n",
            "Epoch 10/20\n",
            "32298/32298 [==============================] - 17s 534us/step - loss: 1.3144 - accuracy: 0.5033\n",
            "Epoch 11/20\n",
            "32298/32298 [==============================] - 17s 539us/step - loss: 1.2875 - accuracy: 0.5157\n",
            "Epoch 12/20\n",
            "32298/32298 [==============================] - 17s 533us/step - loss: 1.2719 - accuracy: 0.5214\n",
            "Epoch 13/20\n",
            "32298/32298 [==============================] - 17s 533us/step - loss: 1.2480 - accuracy: 0.5350\n",
            "Epoch 14/20\n",
            "32298/32298 [==============================] - 17s 534us/step - loss: 1.2250 - accuracy: 0.5422\n",
            "Epoch 15/20\n",
            "32298/32298 [==============================] - 17s 536us/step - loss: 1.2059 - accuracy: 0.5509\n",
            "Epoch 16/20\n",
            "32298/32298 [==============================] - 17s 541us/step - loss: 1.1840 - accuracy: 0.5625\n",
            "Epoch 17/20\n",
            "32298/32298 [==============================] - 18s 546us/step - loss: 1.1698 - accuracy: 0.5707\n",
            "Epoch 18/20\n",
            "32298/32298 [==============================] - 18s 547us/step - loss: 1.1499 - accuracy: 0.5780\n",
            "Epoch 19/20\n",
            "32298/32298 [==============================] - 18s 546us/step - loss: 1.1293 - accuracy: 0.5888\n",
            "Epoch 20/20\n",
            "32298/32298 [==============================] - 18s 545us/step - loss: 1.1123 - accuracy: 0.5929\n"
          ],
          "name": "stdout"
        },
        {
          "output_type": "execute_result",
          "data": {
            "text/plain": [
              "<keras.callbacks.callbacks.History at 0x7fbb99e92d30>"
            ]
          },
          "metadata": {
            "tags": []
          },
          "execution_count": 20
        }
      ]
    },
    {
      "cell_type": "markdown",
      "metadata": {
        "id": "lZMMAkGrnz4-",
        "colab_type": "text"
      },
      "source": [
        "Saving the model"
      ]
    },
    {
      "cell_type": "code",
      "metadata": {
        "id": "EJW13z-bnw5L",
        "colab_type": "code",
        "colab": {}
      },
      "source": [
        "model.save_weights(\"AI&DL assignment-2 model.h5\")"
      ],
      "execution_count": 0,
      "outputs": []
    },
    {
      "cell_type": "markdown",
      "metadata": {
        "id": "x_VSf-FCofDh",
        "colab_type": "text"
      },
      "source": [
        "Predict using the trained model"
      ]
    },
    {
      "cell_type": "code",
      "metadata": {
        "id": "6-pBCryCoiWw",
        "colab_type": "code",
        "colab": {}
      },
      "source": [
        "true_y=[]\n",
        "pred_y=[]\n",
        "\n",
        "y = np.load('modytest.npy')\n",
        "y_pred= model.predict(X_test)\n",
        "y_pred_list = y_pred.tolist()\n",
        "y_test_list = y.tolist()\n",
        "count = 0\n",
        "\n",
        "for i in range(len(y_test)):\n",
        "    yy = max(y_pred_list[i])\n",
        "    yyt = max(y_test_list[i])\n",
        "    pred_y.append(y_pred_list[i].index(yy))\n",
        "    true_y.append(y_test_list[i].index(yyt))\n",
        "    if(y_pred_list[i].index(yy)== y_test_list[i].index(yyt)):\n",
        "        count+=1"
      ],
      "execution_count": 0,
      "outputs": []
    },
    {
      "cell_type": "markdown",
      "metadata": {
        "id": "G3I5lsgCpDI1",
        "colab_type": "text"
      },
      "source": [
        "Draw Confusion Matrix"
      ]
    },
    {
      "cell_type": "code",
      "metadata": {
        "id": "HPLuO-FspIoy",
        "colab_type": "code",
        "colab": {}
      },
      "source": [
        "import itertools\n",
        "import matplotlib.pyplot as plt\n",
        "from sklearn.metrics import confusion_matrix"
      ],
      "execution_count": 0,
      "outputs": []
    },
    {
      "cell_type": "code",
      "metadata": {
        "id": "r2RTmgempQyn",
        "colab_type": "code",
        "outputId": "06c984f4-2d2d-47fd-b9d5-9e26a2425eb9",
        "colab": {
          "base_uri": "https://localhost:8080/",
          "height": 419
        }
      },
      "source": [
        "cm = confusion_matrix(true_y, pred_y)\n",
        "labels = ['Angry', 'Disgust', 'Fear', 'Happy', 'Sad', 'Surprise', 'Neutral']\n",
        "title='Confusion matrix'\n",
        "print(cm)\n",
        "\n",
        "plt.imshow(cm, interpolation='nearest', cmap=plt.cm.Blues)\n",
        "plt.title(title)\n",
        "plt.colorbar()\n",
        "tick_marks = np.arange(len(labels))\n",
        "plt.xticks(tick_marks, labels, rotation=45)\n",
        "plt.yticks(tick_marks, labels)\n",
        "fmt = 'd'\n",
        "thresh = cm.max() / 2.\n",
        "for i, j in itertools.product(range(cm.shape[0]), range(cm.shape[1])):\n",
        "    plt.text(j, i, format(cm[i, j], fmt),\n",
        "            horizontalalignment=\"center\",\n",
        "            color=\"white\" if cm[i, j] > thresh else \"black\")\n",
        "\n",
        "plt.ylabel('True label')\n",
        "plt.xlabel('Predicted label')\n",
        "plt.tight_layout()\n",
        "plt.show()"
      ],
      "execution_count": 24,
      "outputs": [
        {
          "output_type": "stream",
          "text": [
            "[[240   0  20  24 165   4  45]\n",
            " [ 38   0   2   1   8   1   2]\n",
            " [ 76   0 126  21 261  29  32]\n",
            " [ 20   0   9 735  55  16  46]\n",
            " [ 47   0  16  22 420   1  82]\n",
            " [ 13   0  84  28  38 241  10]\n",
            " [ 13   0   5  31 233   1 328]]\n"
          ],
          "name": "stdout"
        },
        {
          "output_type": "display_data",
          "data": {
            "image/png": "[encoded data removed]",
            "text/plain": [
              "<Figure size 432x288 with 2 Axes>"
            ]
          },
          "metadata": {
            "tags": [],
            "needs_background": "light"
          }
        }
      ]
    },
    {
      "cell_type": "markdown",
      "metadata": {
        "id": "waKW8efPr9Nu",
        "colab_type": "text"
      },
      "source": [
        "Convert the saved model to .pb model"
      ]
    },
    {
      "cell_type": "code",
      "metadata": {
        "id": "08r9wUaZr92v",
        "colab_type": "code",
        "colab": {}
      },
      "source": [
        "import tensorflow as tf\n",
        "#from keras import backend as K"
      ],
      "execution_count": 0,
      "outputs": []
    },
    {
      "cell_type": "code",
      "metadata": {
        "id": "WNBLWx27sQB1",
        "colab_type": "code",
        "colab": {}
      },
      "source": [
        "def freeze_session(session, keep_var_names=None, output_names=None, clear_devices=True):\n",
        "    from tensorflow.python.framework.graph_util import convert_variables_to_constants\n",
        "    graph = session.graph\n",
        "    with graph.as_default():\n",
        "        freeze_var_names = list(set(v.op.name for v in tf.compat.v1.global_variables()).difference(keep_var_names or []))\n",
        "        output_names = output_names or []\n",
        "        output_names += [v.op.name for v in tf.compat.v1.global_variables()]\n",
        "        input_graph_def = graph.as_graph_def()\n",
        "        if clear_devices:\n",
        "            for node in input_graph_def.node:\n",
        "                node.device = \"\"\n",
        "        frozen_graph = tf.compat.v1.graph_util.convert_variables_to_constants(\n",
        "            session, input_graph_def, output_names, freeze_var_names)\n",
        "        return frozen_graph"
      ],
      "execution_count": 0,
      "outputs": []
    },
    {
      "cell_type": "code",
      "metadata": {
        "id": "qXbN4yDAsEfA",
        "colab_type": "code",
        "outputId": "08bd243c-1383-4dab-e8c5-171616114e5e",
        "colab": {
          "base_uri": "https://localhost:8080/",
          "height": 176
        }
      },
      "source": [
        "sess = tf.compat.v1.keras.backend.get_session()\n",
        "frozen_graph = freeze_session(sess, output_names=[out.op.name for out in model.outputs])"
      ],
      "execution_count": 27,
      "outputs": [
        {
          "output_type": "stream",
          "text": [
            "WARNING:tensorflow:From <ipython-input-26-b464df63d21e>:13: convert_variables_to_constants (from tensorflow.python.framework.graph_util_impl) is deprecated and will be removed in a future version.\n",
            "Instructions for updating:\n",
            "Use `tf.compat.v1.graph_util.convert_variables_to_constants`\n",
            "WARNING:tensorflow:From /usr/local/lib/python3.6/dist-packages/tensorflow/python/framework/graph_util_impl.py:359: extract_sub_graph (from tensorflow.python.framework.graph_util_impl) is deprecated and will be removed in a future version.\n",
            "Instructions for updating:\n",
            "Use `tf.compat.v1.graph_util.extract_sub_graph`\n",
            "INFO:tensorflow:Froze 137 variables.\n",
            "INFO:tensorflow:Converted 137 variables to const ops.\n"
          ],
          "name": "stdout"
        }
      ]
    },
    {
      "cell_type": "code",
      "metadata": {
        "id": "DIYIM6M-hp7f",
        "colab_type": "code",
        "outputId": "2a6db8b8-b20e-4d6d-f67c-0ba0f678fc67",
        "colab": {
          "base_uri": "https://localhost:8080/",
          "height": 35
        }
      },
      "source": [
        "tf.compat.v1.train.write_graph(frozen_graph, \"./\", \"AI&DL assignment-2 model.pb\", as_text=False)"
      ],
      "execution_count": 28,
      "outputs": [
        {
          "output_type": "execute_result",
          "data": {
            "text/plain": [
              "'./AI&DL assignment-2 model.pb'"
            ]
          },
          "metadata": {
            "tags": []
          },
          "execution_count": 28
        }
      ]
    }
  ]
}