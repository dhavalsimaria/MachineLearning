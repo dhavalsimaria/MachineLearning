{
  "nbformat": 4,
  "nbformat_minor": 0,
  "metadata": {
    "colab": {
      "name": "DL & AI Assignment - 2.ipynb",
      "provenance": [],
      "authorship_tag": "ABX9TyMPbgMz8mnQWFDiPlAnHmC+",
      "include_colab_link": true
    },
    "kernelspec": {
      "name": "python3",
      "display_name": "Python 3"
    },
    "accelerator": "GPU"
  },
  "cells": [
    {
      "cell_type": "markdown",
      "metadata": {
        "id": "view-in-github",
        "colab_type": "text"
      },
      "source": [
        "<a href=\"https://colab.research.google.com/github/dhavalsimaria/MachineLearning/blob/master/NITW/DL%20%26%20AI/DL_%26_AI_Assignment_2.ipynb\" target=\"_parent\"><img src=\"https://colab.research.google.com/assets/colab-badge.svg\" alt=\"Open In Colab\"/></a>"
      ]
    },
    {
      "cell_type": "code",
      "metadata": {
        "id": "BPT2RZa1PAvC",
        "colab_type": "code",
        "colab": {
          "base_uri": "https://localhost:8080/",
          "height": 89
        },
        "outputId": "aca6dc87-b8d1-4fe3-84c5-3a22e19cf9c9"
      },
      "source": [
        "import sys, os\n",
        "import pandas as pd\n",
        "import numpy as np\n",
        "from sklearn.model_selection import train_test_split\n",
        "import tensorflow.compat.v1 as tf\n",
        "tf.disable_v2_behavior()\n",
        "from keras.models import Sequential\n",
        "from keras.layers import Dense, Dropout, Activation, Flatten\n",
        "from keras.layers import Conv2D, MaxPooling2D, BatchNormalization\n",
        "from keras.losses import categorical_crossentropy\n",
        "from keras.optimizers import Adam\n",
        "from keras.regularizers import l2\n",
        "from keras.callbacks import ReduceLROnPlateau, TensorBoard, EarlyStopping, ModelCheckpoint\n",
        "from keras.models import load_model\n",
        "from keras.models import model_from_json"
      ],
      "execution_count": 54,
      "outputs": [
        {
          "output_type": "stream",
          "text": [
            "WARNING:tensorflow:From /usr/local/lib/python3.6/dist-packages/tensorflow/python/compat/v2_compat.py:96: disable_resource_variables (from tensorflow.python.ops.variable_scope) is deprecated and will be removed in a future version.\n",
            "Instructions for updating:\n",
            "non-resource variables are not supported in the long term\n"
          ],
          "name": "stdout"
        }
      ]
    },
    {
      "cell_type": "code",
      "metadata": {
        "id": "NxMrQUqrPj18",
        "colab_type": "code",
        "colab": {}
      },
      "source": [
        "NUM_FEATURES = 64\n",
        "NUM_LABELS = 7\n",
        "BATCH_SIZE = 64\n",
        "EPOCHS = 20\n",
        "WIDTH, HEIGHT = 48, 48"
      ],
      "execution_count": 0,
      "outputs": []
    },
    {
      "cell_type": "code",
      "metadata": {
        "id": "04p57P5LQAJ8",
        "colab_type": "code",
        "colab": {
          "base_uri": "https://localhost:8080/",
          "height": 384
        },
        "outputId": "f6ef686a-0d54-49ee-d569-52b178fa419c"
      },
      "source": [
        "!wget https://www.dropbox.com/s/n8bninud94blch4/fer2013.csv"
      ],
      "execution_count": 56,
      "outputs": [
        {
          "output_type": "stream",
          "text": [
            "--2020-04-12 14:49:29--  https://www.dropbox.com/s/n8bninud94blch4/fer2013.csv\n",
            "Resolving www.dropbox.com (www.dropbox.com)... 162.125.65.1, 2620:100:6021:1::a27d:4101\n",
            "Connecting to www.dropbox.com (www.dropbox.com)|162.125.65.1|:443... connected.\n",
            "HTTP request sent, awaiting response... 301 Moved Permanently\n",
            "Location: /s/raw/n8bninud94blch4/fer2013.csv [following]\n",
            "--2020-04-12 14:49:30--  https://www.dropbox.com/s/raw/n8bninud94blch4/fer2013.csv\n",
            "Reusing existing connection to www.dropbox.com:443.\n",
            "HTTP request sent, awaiting response... 302 Found\n",
            "Location: https://uc4b7f4fedfde19316ad551eeb51.dl.dropboxusercontent.com/cd/0/inline/A1uHk8zH7ghjJp9Xb21E1PnK0k7wNiRbkMEgJ9z5wXRXpebm2jBicFTGVE8FaVSUEKBn8UADf3JsolgZfizQmOy5GDcnVYbFldeCMXcyJvfUJbAzS1wXJuIHcfbfbANZKAc/file# [following]\n",
            "--2020-04-12 14:49:30--  https://uc4b7f4fedfde19316ad551eeb51.dl.dropboxusercontent.com/cd/0/inline/A1uHk8zH7ghjJp9Xb21E1PnK0k7wNiRbkMEgJ9z5wXRXpebm2jBicFTGVE8FaVSUEKBn8UADf3JsolgZfizQmOy5GDcnVYbFldeCMXcyJvfUJbAzS1wXJuIHcfbfbANZKAc/file\n",
            "Resolving uc4b7f4fedfde19316ad551eeb51.dl.dropboxusercontent.com (uc4b7f4fedfde19316ad551eeb51.dl.dropboxusercontent.com)... 162.125.65.6, 2620:100:6021:6::a27d:4106\n",
            "Connecting to uc4b7f4fedfde19316ad551eeb51.dl.dropboxusercontent.com (uc4b7f4fedfde19316ad551eeb51.dl.dropboxusercontent.com)|162.125.65.6|:443... connected.\n",
            "HTTP request sent, awaiting response... 200 OK\n",
            "Length: 301072766 (287M) [text/plain]\n",
            "Saving to: ‘fer2013.csv.1’\n",
            "\n",
            "fer2013.csv.1       100%[===================>] 287.12M  61.6MB/s    in 4.8s    \n",
            "\n",
            "2020-04-12 14:49:35 (59.9 MB/s) - ‘fer2013.csv.1’ saved [301072766/301072766]\n",
            "\n"
          ],
          "name": "stdout"
        }
      ]
    },
    {
      "cell_type": "code",
      "metadata": {
        "id": "ilJkC7_5Qd-A",
        "colab_type": "code",
        "colab": {}
      },
      "source": [
        "emotions_df = pd.read_csv(\"fer2013.csv\")"
      ],
      "execution_count": 0,
      "outputs": []
    },
    {
      "cell_type": "code",
      "metadata": {
        "id": "Q0_eEZsqRUxP",
        "colab_type": "code",
        "colab": {
          "base_uri": "https://localhost:8080/",
          "height": 202
        },
        "outputId": "dfd41830-2d06-40de-c59e-2918028e7450"
      },
      "source": [
        "emotions_df.head(5)"
      ],
      "execution_count": 58,
      "outputs": [
        {
          "output_type": "execute_result",
          "data": {
            "text/html": [
              "<div>\n",
              "<style scoped>\n",
              "    .dataframe tbody tr th:only-of-type {\n",
              "        vertical-align: middle;\n",
              "    }\n",
              "\n",
              "    .dataframe tbody tr th {\n",
              "        vertical-align: top;\n",
              "    }\n",
              "\n",
              "    .dataframe thead th {\n",
              "        text-align: right;\n",
              "    }\n",
              "</style>\n",
              "<table border=\"1\" class=\"dataframe\">\n",
              "  <thead>\n",
              "    <tr style=\"text-align: right;\">\n",
              "      <th></th>\n",
              "      <th>emotion</th>\n",
              "      <th>pixels</th>\n",
              "      <th>Usage</th>\n",
              "    </tr>\n",
              "  </thead>\n",
              "  <tbody>\n",
              "    <tr>\n",
              "      <th>0</th>\n",
              "      <td>0</td>\n",
              "      <td>70 80 82 72 58 58 60 63 54 58 60 48 89 115 121...</td>\n",
              "      <td>Training</td>\n",
              "    </tr>\n",
              "    <tr>\n",
              "      <th>1</th>\n",
              "      <td>0</td>\n",
              "      <td>151 150 147 155 148 133 111 140 170 174 182 15...</td>\n",
              "      <td>Training</td>\n",
              "    </tr>\n",
              "    <tr>\n",
              "      <th>2</th>\n",
              "      <td>2</td>\n",
              "      <td>231 212 156 164 174 138 161 173 182 200 106 38...</td>\n",
              "      <td>Training</td>\n",
              "    </tr>\n",
              "    <tr>\n",
              "      <th>3</th>\n",
              "      <td>4</td>\n",
              "      <td>24 32 36 30 32 23 19 20 30 41 21 22 32 34 21 1...</td>\n",
              "      <td>Training</td>\n",
              "    </tr>\n",
              "    <tr>\n",
              "      <th>4</th>\n",
              "      <td>6</td>\n",
              "      <td>4 0 0 0 0 0 0 0 0 0 0 0 3 15 23 28 48 50 58 84...</td>\n",
              "      <td>Training</td>\n",
              "    </tr>\n",
              "  </tbody>\n",
              "</table>\n",
              "</div>"
            ],
            "text/plain": [
              "   emotion                                             pixels     Usage\n",
              "0        0  70 80 82 72 58 58 60 63 54 58 60 48 89 115 121...  Training\n",
              "1        0  151 150 147 155 148 133 111 140 170 174 182 15...  Training\n",
              "2        2  231 212 156 164 174 138 161 173 182 200 106 38...  Training\n",
              "3        4  24 32 36 30 32 23 19 20 30 41 21 22 32 34 21 1...  Training\n",
              "4        6  4 0 0 0 0 0 0 0 0 0 0 0 3 15 23 28 48 50 58 84...  Training"
            ]
          },
          "metadata": {
            "tags": []
          },
          "execution_count": 58
        }
      ]
    },
    {
      "cell_type": "markdown",
      "metadata": {
        "id": "PAysoAWDTB5e",
        "colab_type": "text"
      },
      "source": [
        "Getting features for training"
      ]
    },
    {
      "cell_type": "code",
      "metadata": {
        "id": "noNTodR1SCnT",
        "colab_type": "code",
        "colab": {}
      },
      "source": [
        "datapoints = emotions_df['pixels'].tolist()\n",
        "\n",
        "X = []\n",
        "for xsequence in datapoints:\n",
        "    xx = [int(xp) for xp in xsequence.split(' ')]\n",
        "    xx = np.asarray(xx).reshape(WIDTH, HEIGHT)\n",
        "    X.append(xx.astype('float32'))"
      ],
      "execution_count": 0,
      "outputs": []
    },
    {
      "cell_type": "code",
      "metadata": {
        "id": "ygrqDhCNSqPJ",
        "colab_type": "code",
        "colab": {}
      },
      "source": [
        "X = np.asarray(X)\n",
        "X = np.expand_dims(X, -1)"
      ],
      "execution_count": 0,
      "outputs": []
    },
    {
      "cell_type": "markdown",
      "metadata": {
        "id": "hbQiSd9UTGGq",
        "colab_type": "text"
      },
      "source": [
        "Getting Labels for training"
      ]
    },
    {
      "cell_type": "code",
      "metadata": {
        "id": "2CMinlepS_Qw",
        "colab_type": "code",
        "colab": {}
      },
      "source": [
        "y = pd.get_dummies(emotions_df['emotion'])"
      ],
      "execution_count": 0,
      "outputs": []
    },
    {
      "cell_type": "code",
      "metadata": {
        "id": "vGE6x2-rTUif",
        "colab_type": "code",
        "colab": {
          "base_uri": "https://localhost:8080/",
          "height": 69
        },
        "outputId": "56b3e970-df0a-4c17-9b88-5df10ab4bb8b"
      },
      "source": [
        "print(\"Number of Features: \"+str(len(X[0])))\n",
        "print(\"Number of Labels: \"+ str(len(y[0])))\n",
        "print(\"Number of examples in dataset:\"+str(len(X)))"
      ],
      "execution_count": 62,
      "outputs": [
        {
          "output_type": "stream",
          "text": [
            "Number of Features: 48\n",
            "Number of Labels: 35887\n",
            "Number of examples in dataset:35887\n"
          ],
          "name": "stdout"
        }
      ]
    },
    {
      "cell_type": "code",
      "metadata": {
        "id": "8aoCyV6QTbnH",
        "colab_type": "code",
        "colab": {}
      },
      "source": [
        "X -= np.mean(X, axis=0)\n",
        "X /= np.std(X, axis=0)"
      ],
      "execution_count": 0,
      "outputs": []
    },
    {
      "cell_type": "code",
      "metadata": {
        "id": "WT13FF26TpA4",
        "colab_type": "code",
        "colab": {}
      },
      "source": [
        "X_train, X_test, y_train, y_test = train_test_split(X, y, test_size=0.1, random_state=42)"
      ],
      "execution_count": 0,
      "outputs": []
    },
    {
      "cell_type": "code",
      "metadata": {
        "id": "BKpbtFZkreYo",
        "colab_type": "code",
        "colab": {}
      },
      "source": [
        "np.save('modytest', y_test)"
      ],
      "execution_count": 0,
      "outputs": []
    },
    {
      "cell_type": "code",
      "metadata": {
        "id": "KcJY3cGPUHi8",
        "colab_type": "code",
        "colab": {}
      },
      "source": [
        "model = Sequential()"
      ],
      "execution_count": 0,
      "outputs": []
    },
    {
      "cell_type": "markdown",
      "metadata": {
        "id": "6Q6ZolrMUjj-",
        "colab_type": "text"
      },
      "source": [
        "Layer: 1"
      ]
    },
    {
      "cell_type": "code",
      "metadata": {
        "id": "QYQ5cj5-UOFt",
        "colab_type": "code",
        "colab": {
          "base_uri": "https://localhost:8080/",
          "height": 89
        },
        "outputId": "642f2bcf-1c32-47f7-edd4-e2c91f527116"
      },
      "source": [
        "model.add(Conv2D(NUM_FEATURES, kernel_size=(5, 5), activation='relu', input_shape=(WIDTH, HEIGHT, 1), data_format='channels_last', kernel_regularizer=l2(0.01)))\n",
        "model.add(Conv2D(NUM_FEATURES, kernel_size=(5, 5), activation='relu', padding='same'))\n",
        "model.add(BatchNormalization())\n",
        "model.add(MaxPooling2D(pool_size=(2, 2), strides=(2, 2)))\n",
        "model.add(Dropout(0.5))"
      ],
      "execution_count": 67,
      "outputs": [
        {
          "output_type": "stream",
          "text": [
            "WARNING:tensorflow:From /usr/local/lib/python3.6/dist-packages/tensorflow/python/ops/resource_variable_ops.py:1666: calling BaseResourceVariable.__init__ (from tensorflow.python.ops.resource_variable_ops) with constraint is deprecated and will be removed in a future version.\n",
            "Instructions for updating:\n",
            "If using Keras pass *_constraint arguments to layers.\n"
          ],
          "name": "stdout"
        }
      ]
    },
    {
      "cell_type": "markdown",
      "metadata": {
        "id": "KdFVHGjjUmYT",
        "colab_type": "text"
      },
      "source": [
        "Layer: 2"
      ]
    },
    {
      "cell_type": "code",
      "metadata": {
        "id": "nne2YcyPUn9L",
        "colab_type": "code",
        "colab": {}
      },
      "source": [
        "model.add(Conv2D(2*NUM_FEATURES, kernel_size=(5, 5), activation='relu', padding='same'))\n",
        "model.add(BatchNormalization())\n",
        "model.add(Conv2D(2*NUM_FEATURES, kernel_size=(5, 5), activation='relu', padding='same'))\n",
        "model.add(BatchNormalization())\n",
        "model.add(MaxPooling2D(pool_size=(2, 2), strides=(2, 2)))\n",
        "model.add(Dropout(0.5))"
      ],
      "execution_count": 0,
      "outputs": []
    },
    {
      "cell_type": "markdown",
      "metadata": {
        "id": "uWsO_PipUzq2",
        "colab_type": "text"
      },
      "source": [
        "Layer: 3"
      ]
    },
    {
      "cell_type": "code",
      "metadata": {
        "id": "tzEtYhIoUx7r",
        "colab_type": "code",
        "colab": {}
      },
      "source": [
        "model.add(Conv2D(2*2*NUM_FEATURES, kernel_size=(3, 3), activation='relu', padding='same'))\n",
        "model.add(BatchNormalization())\n",
        "model.add(Conv2D(2*2*NUM_FEATURES, kernel_size=(3, 3), activation='relu', padding='same'))\n",
        "model.add(BatchNormalization())\n",
        "model.add(MaxPooling2D(pool_size=(2, 2), strides=(2, 2)))\n",
        "model.add(Dropout(0.5))"
      ],
      "execution_count": 0,
      "outputs": []
    },
    {
      "cell_type": "markdown",
      "metadata": {
        "id": "gL41mqOzVNKd",
        "colab_type": "text"
      },
      "source": [
        "Layer: 4"
      ]
    },
    {
      "cell_type": "code",
      "metadata": {
        "id": "1Gsf-nACU-jm",
        "colab_type": "code",
        "colab": {}
      },
      "source": [
        "model.add(Flatten())\n",
        "\n",
        "model.add(Dense(2*2*2*NUM_FEATURES, activation='relu'))\n",
        "model.add(Dropout(0.4))\n",
        "model.add(Dense(2*2*NUM_FEATURES, activation='relu'))\n",
        "model.add(Dropout(0.4))\n",
        "model.add(Dense(2*NUM_FEATURES, activation='relu'))\n",
        "model.add(Dropout(0.5))\n",
        "\n",
        "model.add(Dense(NUM_LABELS, activation='softmax'))"
      ],
      "execution_count": 0,
      "outputs": []
    },
    {
      "cell_type": "code",
      "metadata": {
        "id": "ioRMPV7lVT6P",
        "colab_type": "code",
        "colab": {
          "base_uri": "https://localhost:8080/",
          "height": 1000
        },
        "outputId": "97d98752-40b1-4d21-d88d-72f4223667bd"
      },
      "source": [
        "model.summary()"
      ],
      "execution_count": 71,
      "outputs": [
        {
          "output_type": "stream",
          "text": [
            "Model: \"sequential_1\"\n",
            "_________________________________________________________________\n",
            "Layer (type)                 Output Shape              Param #   \n",
            "=================================================================\n",
            "conv2d_1 (Conv2D)            (None, 44, 44, 64)        1664      \n",
            "_________________________________________________________________\n",
            "conv2d_2 (Conv2D)            (None, 44, 44, 64)        102464    \n",
            "_________________________________________________________________\n",
            "batch_normalization_1 (Batch (None, 44, 44, 64)        256       \n",
            "_________________________________________________________________\n",
            "max_pooling2d_1 (MaxPooling2 (None, 22, 22, 64)        0         \n",
            "_________________________________________________________________\n",
            "dropout_1 (Dropout)          (None, 22, 22, 64)        0         \n",
            "_________________________________________________________________\n",
            "conv2d_3 (Conv2D)            (None, 22, 22, 128)       204928    \n",
            "_________________________________________________________________\n",
            "batch_normalization_2 (Batch (None, 22, 22, 128)       512       \n",
            "_________________________________________________________________\n",
            "conv2d_4 (Conv2D)            (None, 22, 22, 128)       409728    \n",
            "_________________________________________________________________\n",
            "batch_normalization_3 (Batch (None, 22, 22, 128)       512       \n",
            "_________________________________________________________________\n",
            "max_pooling2d_2 (MaxPooling2 (None, 11, 11, 128)       0         \n",
            "_________________________________________________________________\n",
            "dropout_2 (Dropout)          (None, 11, 11, 128)       0         \n",
            "_________________________________________________________________\n",
            "conv2d_5 (Conv2D)            (None, 11, 11, 256)       295168    \n",
            "_________________________________________________________________\n",
            "batch_normalization_4 (Batch (None, 11, 11, 256)       1024      \n",
            "_________________________________________________________________\n",
            "conv2d_6 (Conv2D)            (None, 11, 11, 256)       590080    \n",
            "_________________________________________________________________\n",
            "batch_normalization_5 (Batch (None, 11, 11, 256)       1024      \n",
            "_________________________________________________________________\n",
            "max_pooling2d_3 (MaxPooling2 (None, 5, 5, 256)         0         \n",
            "_________________________________________________________________\n",
            "dropout_3 (Dropout)          (None, 5, 5, 256)         0         \n",
            "_________________________________________________________________\n",
            "flatten_1 (Flatten)          (None, 6400)              0         \n",
            "_________________________________________________________________\n",
            "dense_1 (Dense)              (None, 512)               3277312   \n",
            "_________________________________________________________________\n",
            "dropout_4 (Dropout)          (None, 512)               0         \n",
            "_________________________________________________________________\n",
            "dense_2 (Dense)              (None, 256)               131328    \n",
            "_________________________________________________________________\n",
            "dropout_5 (Dropout)          (None, 256)               0         \n",
            "_________________________________________________________________\n",
            "dense_3 (Dense)              (None, 128)               32896     \n",
            "_________________________________________________________________\n",
            "dropout_6 (Dropout)          (None, 128)               0         \n",
            "_________________________________________________________________\n",
            "dense_4 (Dense)              (None, 7)                 903       \n",
            "=================================================================\n",
            "Total params: 5,049,799\n",
            "Trainable params: 5,048,135\n",
            "Non-trainable params: 1,664\n",
            "_________________________________________________________________\n"
          ],
          "name": "stdout"
        }
      ]
    },
    {
      "cell_type": "markdown",
      "metadata": {
        "id": "zkj7R6ovbaZJ",
        "colab_type": "text"
      },
      "source": [
        "Compiling the model with Adam Optimizer and Categorical Cross-Entropy loss"
      ]
    },
    {
      "cell_type": "code",
      "metadata": {
        "id": "iZouVem6bQad",
        "colab_type": "code",
        "colab": {}
      },
      "source": [
        "model.compile(loss=categorical_crossentropy,\n",
        "              optimizer = Adam(lr=1e-3, beta_1=0.9, beta_2=0.999, epsilon=1e-7),\n",
        "              metrics=['accuracy'])"
      ],
      "execution_count": 0,
      "outputs": []
    },
    {
      "cell_type": "markdown",
      "metadata": {
        "id": "JyVPdIPTcCns",
        "colab_type": "text"
      },
      "source": [
        "Training the model"
      ]
    },
    {
      "cell_type": "code",
      "metadata": {
        "id": "oJEhjbQ_h-KZ",
        "colab_type": "code",
        "colab": {
          "base_uri": "https://localhost:8080/",
          "height": 728
        },
        "outputId": "5b2328f6-cb89-45cf-beeb-bed4ae34c9ba"
      },
      "source": [
        "model.fit(np.array(X_train), np.array(y_train),\n",
        "          batch_size=BATCH_SIZE,\n",
        "          epochs=EPOCHS,\n",
        "          verbose=1,\n",
        "          shuffle=True)"
      ],
      "execution_count": 73,
      "outputs": [
        {
          "output_type": "stream",
          "text": [
            "Epoch 1/20\n",
            "32298/32298 [==============================] - 29s 892us/step - loss: 2.0254 - accuracy: 0.2230\n",
            "Epoch 2/20\n",
            "32298/32298 [==============================] - 29s 889us/step - loss: 1.8121 - accuracy: 0.2555\n",
            "Epoch 3/20\n",
            "32298/32298 [==============================] - 29s 891us/step - loss: 1.7138 - accuracy: 0.3106\n",
            "Epoch 4/20\n",
            "32298/32298 [==============================] - 29s 893us/step - loss: 1.6119 - accuracy: 0.3663\n",
            "Epoch 5/20\n",
            "32298/32298 [==============================] - 29s 899us/step - loss: 1.5313 - accuracy: 0.4004\n",
            "Epoch 6/20\n",
            "32298/32298 [==============================] - 29s 900us/step - loss: 1.4785 - accuracy: 0.4232\n",
            "Epoch 7/20\n",
            "32298/32298 [==============================] - 29s 901us/step - loss: 1.4411 - accuracy: 0.4431\n",
            "Epoch 8/20\n",
            "32298/32298 [==============================] - 29s 901us/step - loss: 1.4006 - accuracy: 0.4573\n",
            "Epoch 9/20\n",
            "32298/32298 [==============================] - 29s 904us/step - loss: 1.3779 - accuracy: 0.4724\n",
            "Epoch 10/20\n",
            "32298/32298 [==============================] - 29s 906us/step - loss: 1.3434 - accuracy: 0.4870\n",
            "Epoch 11/20\n",
            "32298/32298 [==============================] - 29s 906us/step - loss: 1.3126 - accuracy: 0.5032\n",
            "Epoch 12/20\n",
            "32298/32298 [==============================] - 29s 904us/step - loss: 1.2915 - accuracy: 0.5090\n",
            "Epoch 13/20\n",
            "32298/32298 [==============================] - 29s 908us/step - loss: 1.2650 - accuracy: 0.5252\n",
            "Epoch 14/20\n",
            "32298/32298 [==============================] - 29s 906us/step - loss: 1.2428 - accuracy: 0.5333\n",
            "Epoch 15/20\n",
            "32298/32298 [==============================] - 29s 909us/step - loss: 1.2207 - accuracy: 0.5428\n",
            "Epoch 16/20\n",
            "32298/32298 [==============================] - 29s 910us/step - loss: 1.2081 - accuracy: 0.5531\n",
            "Epoch 17/20\n",
            "32298/32298 [==============================] - 29s 906us/step - loss: 1.1804 - accuracy: 0.5625\n",
            "Epoch 18/20\n",
            "32298/32298 [==============================] - 29s 909us/step - loss: 1.1521 - accuracy: 0.5731\n",
            "Epoch 19/20\n",
            "32298/32298 [==============================] - 29s 907us/step - loss: 1.1360 - accuracy: 0.5832\n",
            "Epoch 20/20\n",
            "32298/32298 [==============================] - 29s 909us/step - loss: 1.1224 - accuracy: 0.5893\n"
          ],
          "name": "stdout"
        },
        {
          "output_type": "execute_result",
          "data": {
            "text/plain": [
              "<keras.callbacks.callbacks.History at 0x7f72cb9d6748>"
            ]
          },
          "metadata": {
            "tags": []
          },
          "execution_count": 73
        }
      ]
    },
    {
      "cell_type": "markdown",
      "metadata": {
        "id": "lZMMAkGrnz4-",
        "colab_type": "text"
      },
      "source": [
        "Saving the model"
      ]
    },
    {
      "cell_type": "code",
      "metadata": {
        "id": "EJW13z-bnw5L",
        "colab_type": "code",
        "colab": {}
      },
      "source": [
        "model.save_weights(\"AI&DL assignment-2 model.h5\")"
      ],
      "execution_count": 0,
      "outputs": []
    },
    {
      "cell_type": "markdown",
      "metadata": {
        "id": "x_VSf-FCofDh",
        "colab_type": "text"
      },
      "source": [
        "Predict using the trained model"
      ]
    },
    {
      "cell_type": "code",
      "metadata": {
        "id": "6-pBCryCoiWw",
        "colab_type": "code",
        "colab": {}
      },
      "source": [
        "true_y=[]\n",
        "pred_y=[]\n",
        "\n",
        "y = np.load('modytest.npy')\n",
        "y_pred= model.predict(X_test)\n",
        "y_pred_list = y_pred.tolist()\n",
        "y_test_list = y.tolist()\n",
        "count = 0\n",
        "\n",
        "for i in range(len(y_test)):\n",
        "    yy = max(y_pred_list[i])\n",
        "    yyt = max(y_test_list[i])\n",
        "    pred_y.append(y_pred_list[i].index(yy))\n",
        "    true_y.append(y_test_list[i].index(yyt))\n",
        "    if(y_pred_list[i].index(yy)== y_test_list[i].index(yyt)):\n",
        "        count+=1"
      ],
      "execution_count": 0,
      "outputs": []
    },
    {
      "cell_type": "markdown",
      "metadata": {
        "id": "G3I5lsgCpDI1",
        "colab_type": "text"
      },
      "source": [
        "Draw Confusion Matrix"
      ]
    },
    {
      "cell_type": "code",
      "metadata": {
        "id": "HPLuO-FspIoy",
        "colab_type": "code",
        "colab": {}
      },
      "source": [
        "import itertools\n",
        "import matplotlib.pyplot as plt\n",
        "from sklearn.metrics import confusion_matrix"
      ],
      "execution_count": 0,
      "outputs": []
    },
    {
      "cell_type": "code",
      "metadata": {
        "id": "r2RTmgempQyn",
        "colab_type": "code",
        "colab": {
          "base_uri": "https://localhost:8080/",
          "height": 419
        },
        "outputId": "c984da09-24fd-4879-c46e-6d32abcadb30"
      },
      "source": [
        "cm = confusion_matrix(true_y, pred_y)\n",
        "labels = ['Angry', 'Disgust', 'Fear', 'Happy', 'Sad', 'Surprise', 'Neutral']\n",
        "title='Confusion matrix'\n",
        "print(cm)\n",
        "\n",
        "plt.imshow(cm, interpolation='nearest', cmap=plt.cm.Blues)\n",
        "plt.title(title)\n",
        "plt.colorbar()\n",
        "tick_marks = np.arange(len(labels))\n",
        "plt.xticks(tick_marks, labels, rotation=45)\n",
        "plt.yticks(tick_marks, labels)\n",
        "fmt = 'd'\n",
        "thresh = cm.max() / 2.\n",
        "for i, j in itertools.product(range(cm.shape[0]), range(cm.shape[1])):\n",
        "    plt.text(j, i, format(cm[i, j], fmt),\n",
        "            horizontalalignment=\"center\",\n",
        "            color=\"white\" if cm[i, j] > thresh else \"black\")\n",
        "\n",
        "plt.ylabel('True label')\n",
        "plt.xlabel('Predicted label')\n",
        "plt.tight_layout()\n",
        "plt.show()"
      ],
      "execution_count": 77,
      "outputs": [
        {
          "output_type": "stream",
          "text": [
            "[[211   0  21  28 169   5  64]\n",
            " [ 28   0   2   2  17   1   2]\n",
            " [ 86   0  73  37 244  43  62]\n",
            " [ 23   0   5 746  61   9  37]\n",
            " [ 34   0   5  25 409   1 114]\n",
            " [ 17   0  53  42  31 248  23]\n",
            " [ 10   0   3  37 175   1 385]]\n"
          ],
          "name": "stdout"
        },
        {
          "output_type": "display_data",
          "data": {
            "image/png": "[encoded data removed]",
            "text/plain": [
              "<Figure size 432x288 with 2 Axes>"
            ]
          },
          "metadata": {
            "tags": [],
            "needs_background": "light"
          }
        }
      ]
    },
    {
      "cell_type": "markdown",
      "metadata": {
        "id": "waKW8efPr9Nu",
        "colab_type": "text"
      },
      "source": [
        "Convert the saved model to .pb model"
      ]
    },
    {
      "cell_type": "code",
      "metadata": {
        "id": "08r9wUaZr92v",
        "colab_type": "code",
        "colab": {}
      },
      "source": [
        "import tensorflow as tf\n",
        "#from keras import backend as K"
      ],
      "execution_count": 0,
      "outputs": []
    },
    {
      "cell_type": "code",
      "metadata": {
        "id": "WNBLWx27sQB1",
        "colab_type": "code",
        "colab": {}
      },
      "source": [
        "def freeze_session(session, keep_var_names=None, output_names=None, clear_devices=True):\n",
        "    from tensorflow.python.framework.graph_util import convert_variables_to_constants\n",
        "    graph = session.graph\n",
        "    with graph.as_default():\n",
        "        freeze_var_names = list(set(v.op.name for v in tf.compat.v1.global_variables()).difference(keep_var_names or []))\n",
        "        output_names = output_names or []\n",
        "        output_names += [v.op.name for v in tf.compat.v1.global_variables()]\n",
        "        input_graph_def = graph.as_graph_def()\n",
        "        if clear_devices:\n",
        "            for node in input_graph_def.node:\n",
        "                node.device = \"\"\n",
        "        frozen_graph = tf.compat.v1.graph_util.convert_variables_to_constants(\n",
        "            session, input_graph_def, output_names, freeze_var_names)\n",
        "        return frozen_graph"
      ],
      "execution_count": 0,
      "outputs": []
    },
    {
      "cell_type": "code",
      "metadata": {
        "id": "qXbN4yDAsEfA",
        "colab_type": "code",
        "colab": {
          "base_uri": "https://localhost:8080/",
          "height": 176
        },
        "outputId": "ea142f2c-8d7d-46b1-f1e3-5690379ff97d"
      },
      "source": [
        "sess = tf.compat.v1.keras.backend.get_session()\n",
        "frozen_graph = freeze_session(sess, output_names=[out.op.name for out in model.outputs])"
      ],
      "execution_count": 93,
      "outputs": [
        {
          "output_type": "stream",
          "text": [
            "WARNING:tensorflow:From <ipython-input-92-b464df63d21e>:13: convert_variables_to_constants (from tensorflow.python.framework.graph_util_impl) is deprecated and will be removed in a future version.\n",
            "Instructions for updating:\n",
            "Use `tf.compat.v1.graph_util.convert_variables_to_constants`\n",
            "WARNING:tensorflow:From /usr/local/lib/python3.6/dist-packages/tensorflow/python/framework/graph_util_impl.py:359: extract_sub_graph (from tensorflow.python.framework.graph_util_impl) is deprecated and will be removed in a future version.\n",
            "Instructions for updating:\n",
            "Use `tf.compat.v1.graph_util.extract_sub_graph`\n",
            "INFO:tensorflow:Froze 137 variables.\n",
            "INFO:tensorflow:Converted 137 variables to const ops.\n"
          ],
          "name": "stdout"
        }
      ]
    },
    {
      "cell_type": "code",
      "metadata": {
        "id": "DIYIM6M-hp7f",
        "colab_type": "code",
        "colab": {
          "base_uri": "https://localhost:8080/",
          "height": 35
        },
        "outputId": "3eeba55e-ad4a-4950-8bc6-5d1193cca5d9"
      },
      "source": [
        "tf.compat.v1.train.write_graph(frozen_graph, \"./\", \"AI&DL assignment-2 model.pb\", as_text=False)"
      ],
      "execution_count": 97,
      "outputs": [
        {
          "output_type": "execute_result",
          "data": {
            "text/plain": [
              "'./AI&DL assignment-2 model.pb'"
            ]
          },
          "metadata": {
            "tags": []
          },
          "execution_count": 97
        }
      ]
    }
  ]
}